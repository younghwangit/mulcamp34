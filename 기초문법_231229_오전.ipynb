{
  "nbformat": 4,
  "nbformat_minor": 0,
  "metadata": {
    "colab": {
      "provenance": [],
      "authorship_tag": "ABX9TyPtJeR86g+811kc6fJpQADD",
      "include_colab_link": true
    },
    "kernelspec": {
      "name": "python3",
      "display_name": "Python 3"
    },
    "language_info": {
      "name": "python"
    }
  },
  "cells": [
    {
      "cell_type": "markdown",
      "metadata": {
        "id": "view-in-github",
        "colab_type": "text"
      },
      "source": [
        "<a href=\"https://colab.research.google.com/github/younghwangit/mulcamp34/blob/main/%EA%B8%B0%EC%B4%88%EB%AC%B8%EB%B2%95_231229_%EC%98%A4%EC%A0%84.ipynb\" target=\"_parent\"><img src=\"https://colab.research.google.com/assets/colab-badge.svg\" alt=\"Open In Colab\"/></a>"
      ]
    },
    {
      "cell_type": "markdown",
      "source": [
        "# 딕셔너리\n",
        "- 사전"
      ],
      "metadata": {
        "id": "amYGFEah7pBE"
      }
    },
    {
      "cell_type": "code",
      "execution_count": null,
      "metadata": {
        "colab": {
          "base_uri": "https://localhost:8080/"
        },
        "id": "iRn9h0WC6rDq",
        "outputId": "dfa7210b-77f1-4219-a9fb-3e6ee9062516"
      },
      "outputs": [
        {
          "output_type": "execute_result",
          "data": {
            "text/plain": [
              "{'대한민국': '서울', '프랑스': '파리', '미국': '워싱턴', '영국': '런던'}"
            ]
          },
          "metadata": {},
          "execution_count": 1
        }
      ],
      "source": [
        "# 나라 - 수도 이름 (key : value)\n",
        "# key 값은 중복으로 만들 수 없음\n",
        "country_capital = {\n",
        "    \"대한민국\" : \"서울\",\n",
        "    \"프랑스\" : \"파리\",\n",
        "    \"미국\" : \"워싱턴\",\n",
        "    \"영국\" : \"런던\"\n",
        "}\n",
        "\n",
        "country_capital"
      ]
    },
    {
      "cell_type": "code",
      "source": [
        "# 딕셔너리에서 value 값을 조회하는 방법은 key 값을 통해 조회\n",
        "country_capital['대한민국']\n",
        "# country_capital[\"한국\"] -> key 에러가 뜸"
      ],
      "metadata": {
        "colab": {
          "base_uri": "https://localhost:8080/",
          "height": 35
        },
        "id": "QVCMjH5s89CO",
        "outputId": "c913222f-55f2-41c4-93e0-80b6cbe062c0"
      },
      "execution_count": null,
      "outputs": [
        {
          "output_type": "execute_result",
          "data": {
            "text/plain": [
              "'서울'"
            ],
            "application/vnd.google.colaboratory.intrinsic+json": {
              "type": "string"
            }
          },
          "metadata": {},
          "execution_count": 2
        }
      ]
    },
    {
      "cell_type": "code",
      "source": [
        "data = {1: \"버스\", 3 : \"비행기\"}\n",
        "data"
      ],
      "metadata": {
        "colab": {
          "base_uri": "https://localhost:8080/"
        },
        "id": "LLG1TheH9-pk",
        "outputId": "65d5304b-b683-4627-e031-8c550a5b03ec"
      },
      "execution_count": null,
      "outputs": [
        {
          "output_type": "execute_result",
          "data": {
            "text/plain": [
              "{1: '버스', 3: '비행기'}"
            ]
          },
          "metadata": {},
          "execution_count": 3
        }
      ]
    },
    {
      "cell_type": "code",
      "source": [
        "# 지금 딕셔너리 숫자 1은 리스트, 문자열, tuple 인덱스 번호와 다른 숫자이다.\n",
        "# 현재 여기에서는 숫자 1은 key값이다.\n",
        "data[1]"
      ],
      "metadata": {
        "colab": {
          "base_uri": "https://localhost:8080/",
          "height": 35
        },
        "id": "SEocRCDF-pOF",
        "outputId": "ed552a6f-584e-4c43-eb5a-c7474c1923a2"
      },
      "execution_count": null,
      "outputs": [
        {
          "output_type": "execute_result",
          "data": {
            "text/plain": [
              "'버스'"
            ],
            "application/vnd.google.colaboratory.intrinsic+json": {
              "type": "string"
            }
          },
          "metadata": {},
          "execution_count": 4
        }
      ]
    },
    {
      "cell_type": "code",
      "source": [
        "data2 = {\"list1\" : [1,2,3], \"list2\": [4,5,6]}\n",
        "data2"
      ],
      "metadata": {
        "colab": {
          "base_uri": "https://localhost:8080/"
        },
        "id": "YPT4meHE_BuF",
        "outputId": "04e1d53c-356c-4792-964c-ad7e1dfdc339"
      },
      "execution_count": null,
      "outputs": [
        {
          "output_type": "execute_result",
          "data": {
            "text/plain": [
              "{'list1': [1, 2, 3], 'list2': [4, 5, 6]}"
            ]
          },
          "metadata": {},
          "execution_count": 5
        }
      ]
    },
    {
      "cell_type": "code",
      "source": [
        "data3 = {\"list1\" : [1,2,3], \"list2\": [4,5,6], 1 : \"테스트\"}\n",
        "data3"
      ],
      "metadata": {
        "colab": {
          "base_uri": "https://localhost:8080/"
        },
        "id": "3PCZvmgA_fU8",
        "outputId": "68b48ebe-7d56-4fd7-9bf9-969ea08bae43"
      },
      "execution_count": null,
      "outputs": [
        {
          "output_type": "execute_result",
          "data": {
            "text/plain": [
              "{'list1': [1, 2, 3], 'list2': [4, 5, 6], 1: '테스트'}"
            ]
          },
          "metadata": {},
          "execution_count": 6
        }
      ]
    },
    {
      "cell_type": "markdown",
      "source": [
        "## 딕셔너리 사용처\n",
        "- 데이터 분석: 엑셀 테이블\n",
        "  + 1억개의 데이터 가공을 할 때\n",
        "  + 임시 테이블을 만들 때 사용한다.\n",
        "  + 그리고 그걸 샘플로 가공하고 나중에 1억개에 적용한다.\n",
        "\n",
        "- HTML, CSS, 인터넷 자료형 중 JSON 데이터 포멧\n",
        "- JSON -> 딕셔너리와 동일함\n",
        "  +API 데이터를 크롤링할"
      ],
      "metadata": {
        "id": "j-PwXH8D_7Xf"
      }
    },
    {
      "cell_type": "markdown",
      "source": [
        "### 딕셔너리 메서드"
      ],
      "metadata": {
        "id": "FkUBJ0kEE3zK"
      }
    },
    {
      "cell_type": "code",
      "source": [
        "# 좋아하는 도시 이름으로 value값 변경하기\n",
        "country_capital[\"대한민국\"] = \"부산\" # 대한민국의 value인 서울을 부산으로 변경함\n",
        "country_capital"
      ],
      "metadata": {
        "colab": {
          "base_uri": "https://localhost:8080/"
        },
        "id": "d72Ihlk0BEhL",
        "outputId": "93226da8-ca16-4f80-cfd4-a03250fe703d"
      },
      "execution_count": null,
      "outputs": [
        {
          "output_type": "execute_result",
          "data": {
            "text/plain": [
              "{'대한민국': '부산', '프랑스': '파리', '미국': '워싱턴', '영국': '런던'}"
            ]
          },
          "metadata": {},
          "execution_count": 7
        }
      ]
    },
    {
      "cell_type": "code",
      "source": [
        "# key 값을 삭제하기\n",
        "# 원칙적으로 key값은 그대로 두고 value값만 삭제할 수 없다. 대신 value값을 None으로 바꾸면 비슷하게 가능하다.\n",
        "del country_capital[\"영국\"]\n",
        "country_capital[\"프랑스\"] = None\n",
        "country_capital"
      ],
      "metadata": {
        "colab": {
          "base_uri": "https://localhost:8080/"
        },
        "id": "glLBJYNGGJoS",
        "outputId": "0f89c1b8-2d8a-4154-dbe5-5bb2bd189ba3"
      },
      "execution_count": null,
      "outputs": [
        {
          "output_type": "execute_result",
          "data": {
            "text/plain": [
              "{'대한민국': '부산', '프랑스': None, '미국': '워싱턴'}"
            ]
          },
          "metadata": {},
          "execution_count": 8
        }
      ]
    },
    {
      "cell_type": "code",
      "source": [
        "country_capital[\"일본\"] = \"도쿄\"\n",
        "country_capital"
      ],
      "metadata": {
        "colab": {
          "base_uri": "https://localhost:8080/"
        },
        "id": "WuaB8y5XG0uA",
        "outputId": "153dd684-4ce9-42cd-8339-5fecf693ff88"
      },
      "execution_count": null,
      "outputs": [
        {
          "output_type": "execute_result",
          "data": {
            "text/plain": [
              "{'대한민국': '부산', '프랑스': None, '미국': '워싱턴', '일본': '도쿄'}"
            ]
          },
          "metadata": {},
          "execution_count": 9
        }
      ]
    },
    {
      "cell_type": "code",
      "source": [
        "print(type(country_capital))\n",
        "# country_capital이라는 객체를 만듦\n",
        "# 이제부터 딕셔너리가 보유한 클래스 메서드를 사용할 수 있음\n",
        "\n",
        "#dict_data.keys()\n",
        "country_capital.keys()"
      ],
      "metadata": {
        "colab": {
          "base_uri": "https://localhost:8080/"
        },
        "id": "ib5_zKkbHDoa",
        "outputId": "483a944a-a408-4787-da61-c0b64bb8432b"
      },
      "execution_count": null,
      "outputs": [
        {
          "output_type": "stream",
          "name": "stdout",
          "text": [
            "<class 'dict'>\n"
          ]
        },
        {
          "output_type": "execute_result",
          "data": {
            "text/plain": [
              "dict_keys(['대한민국', '프랑스', '미국', '일본'])"
            ]
          },
          "metadata": {},
          "execution_count": 10
        }
      ]
    },
    {
      "cell_type": "code",
      "source": [
        "# 딕셔너리에서 키 전체를 리스트 형태로 반환 그러나 리스트는 아님\n",
        "print(type(country_capital.keys()))"
      ],
      "metadata": {
        "colab": {
          "base_uri": "https://localhost:8080/"
        },
        "id": "6_af7276Ifqx",
        "outputId": "6715fd12-fe08-4107-8d79-4d90364df8e1"
      },
      "execution_count": null,
      "outputs": [
        {
          "output_type": "stream",
          "name": "stdout",
          "text": [
            "<class 'dict_keys'>\n"
          ]
        }
      ]
    },
    {
      "cell_type": "code",
      "source": [
        "#데이터 형변환\n",
        "list(country_capital.keys())\n",
        "#이제 리스트가 되어서 수정, 삭제가 가능해짐"
      ],
      "metadata": {
        "colab": {
          "base_uri": "https://localhost:8080/"
        },
        "id": "aOkNhfU5IyCu",
        "outputId": "78a4db0c-4750-4aca-fdf8-7d37135536d5"
      },
      "execution_count": null,
      "outputs": [
        {
          "output_type": "execute_result",
          "data": {
            "text/plain": [
              "['대한민국', '프랑스', '미국', '일본']"
            ]
          },
          "metadata": {},
          "execution_count": 12
        }
      ]
    },
    {
      "cell_type": "code",
      "source": [
        "#dict_data.values()\n",
        "country_capital.values()"
      ],
      "metadata": {
        "colab": {
          "base_uri": "https://localhost:8080/"
        },
        "id": "DypUcIuvHwdj",
        "outputId": "081d173f-1188-4139-ae2f-ea05c3413d72"
      },
      "execution_count": null,
      "outputs": [
        {
          "output_type": "execute_result",
          "data": {
            "text/plain": [
              "dict_values(['부산', None, '워싱턴', '도쿄'])"
            ]
          },
          "metadata": {},
          "execution_count": 13
        }
      ]
    },
    {
      "cell_type": "code",
      "source": [
        "#dict_data.items()\n",
        "#tuple 형태지만 tuple은 아님\n",
        "country_capital.items()"
      ],
      "metadata": {
        "colab": {
          "base_uri": "https://localhost:8080/"
        },
        "id": "e_tDlvmwIX6b",
        "outputId": "3305574a-9e40-460c-bced-7b09f7c619e7"
      },
      "execution_count": null,
      "outputs": [
        {
          "output_type": "execute_result",
          "data": {
            "text/plain": [
              "dict_items([('대한민국', '부산'), ('프랑스', None), ('미국', '워싱턴'), ('일본', '도쿄')])"
            ]
          },
          "metadata": {},
          "execution_count": 14
        }
      ]
    },
    {
      "cell_type": "code",
      "source": [
        "new_df = {\n",
        "    \"중국\" : \"베이징\",\n",
        "    \"필리핀\" : \"마닐라\",\n",
        "    \"호주\" : \"캔버라\"\n",
        "}\n",
        "country_capital.update(new_df)\n",
        "country_capital"
      ],
      "metadata": {
        "colab": {
          "base_uri": "https://localhost:8080/"
        },
        "id": "9AvKPf_FJHN5",
        "outputId": "651bb079-1037-4e88-df51-541fd6e040f6"
      },
      "execution_count": null,
      "outputs": [
        {
          "output_type": "execute_result",
          "data": {
            "text/plain": [
              "{'대한민국': '부산',\n",
              " '프랑스': None,\n",
              " '미국': '워싱턴',\n",
              " '일본': '도쿄',\n",
              " '중국': '베이징',\n",
              " '필리핀': '마닐라',\n",
              " '호주': '캔버라'}"
            ]
          },
          "metadata": {},
          "execution_count": 15
        }
      ]
    },
    {
      "cell_type": "code",
      "source": [
        "country_capital.clear()\n",
        "country_capital"
      ],
      "metadata": {
        "colab": {
          "base_uri": "https://localhost:8080/"
        },
        "id": "64akc2dyJRJu",
        "outputId": "f4999d9f-2430-4626-f74e-4d09b9ca179f"
      },
      "execution_count": null,
      "outputs": [
        {
          "output_type": "execute_result",
          "data": {
            "text/plain": [
              "{}"
            ]
          },
          "metadata": {},
          "execution_count": 16
        }
      ]
    },
    {
      "cell_type": "code",
      "source": [
        "country_capital = {\n",
        "    \"대한민국\" : \"서울\",\n",
        "    \"프랑스\" : \"파리\",\n",
        "    \"미국\" : \"워싱턴\",\n",
        "    \"영국\" : \"런던\"\n",
        "}\n",
        "print(type(country_capital))\n",
        "result = country_capital.keys()\n",
        "#result.append(\"독일\") -> dict.keys 객체에서는 어펜드를 못 씀"
      ],
      "metadata": {
        "colab": {
          "base_uri": "https://localhost:8080/"
        },
        "id": "WfdRG8DgKEc-",
        "outputId": "1fefa747-aea5-4652-f74b-80dc6a3f2d83"
      },
      "execution_count": null,
      "outputs": [
        {
          "output_type": "stream",
          "name": "stdout",
          "text": [
            "<class 'dict'>\n"
          ]
        }
      ]
    },
    {
      "cell_type": "code",
      "source": [
        "result = list(country_capital.keys())\n",
        "result.append(\"독일\")\n",
        "print(result)"
      ],
      "metadata": {
        "colab": {
          "base_uri": "https://localhost:8080/"
        },
        "id": "Es8pICwDKpNg",
        "outputId": "840ffe0f-c1bc-4083-e67a-9ff13638b657"
      },
      "execution_count": null,
      "outputs": [
        {
          "output_type": "stream",
          "name": "stdout",
          "text": [
            "['대한민국', '프랑스', '미국', '영국', '독일']\n"
          ]
        }
      ]
    },
    {
      "cell_type": "markdown",
      "source": [
        "# If 조건문\n",
        "- if 조건이 true라면 ~를 해라\n",
        "- 혹은 if 조건이 false라면 ~를 해"
      ],
      "metadata": {
        "id": "rzzJpyenLzy-"
      }
    },
    {
      "cell_type": "code",
      "source": [
        "x = int(input(\"점수를 입력하세요! \")) # 문자를 정수로 형변환\n",
        "if x >= 90:\n",
        "  print(\"합격\")\n",
        "elif x >= 80:\n",
        "  print(\"부분합격, 면접 필요\")\n",
        "else:\n",
        "    print(\"불합격\")"
      ],
      "metadata": {
        "colab": {
          "base_uri": "https://localhost:8080/"
        },
        "id": "cOzKdzlcLv7X",
        "outputId": "82accf52-2731-4730-e278-d0df176b7bfc"
      },
      "execution_count": null,
      "outputs": [
        {
          "output_type": "stream",
          "name": "stdout",
          "text": [
            "점수를 입력하세요! 85\n",
            "부분합격, 면접 필요\n"
          ]
        }
      ]
    },
    {
      "cell_type": "code",
      "source": [
        "# 내가 만든 코드\n",
        "# 강사님과 동일함\n",
        "#쉬프트 탭이 뭐지??\n",
        "x = int(input(\"점수를 입력하세요! \"))\n",
        "if x >= 90:\n",
        "  print(\"A 등급\")\n",
        "elif x >= 80:\n",
        "  print(\"B 등급\")\n",
        "elif x >= 70:\n",
        "  print(\"C 등급\")\n",
        "elif x >= 60:\n",
        "  print(\"D 등급\")\n",
        "else:\n",
        "  print(\"F 등급\")"
      ],
      "metadata": {
        "colab": {
          "base_uri": "https://localhost:8080/"
        },
        "id": "_jyjj_6NO12D",
        "outputId": "314ad1af-75b5-4f54-d115-3c3deabddbae"
      },
      "execution_count": null,
      "outputs": [
        {
          "output_type": "stream",
          "name": "stdout",
          "text": [
            "점수를 입력하세요! 85\n",
            "B 등급\n"
          ]
        }
      ]
    },
    {
      "cell_type": "code",
      "source": [
        "# 중첩 조건문\n",
        "# if 조건문 내부에 또 다른 조건문 생성\n",
        "\n",
        "x = int(input(\"점수를 입력하세요! \"))\n",
        "\n",
        "# 100점 맞은 사람이 있으면 장학금 출력\n",
        "# 합격을 받은 사람들 중에서 100점인 사람인 경우 장학금을 주겠다 (중첩 조건)\n",
        "if x >= 90:\n",
        "  if x == 100:\n",
        "    print(\"장학금 수여\")\n",
        "  print(\"합격\") #else를 안 써서 중복 출력됨 -> 수정한 거 아래에\n",
        "\n",
        "else:\n",
        "  print(\"불합격\")"
      ],
      "metadata": {
        "colab": {
          "base_uri": "https://localhost:8080/"
        },
        "id": "3jfpOoBuTbQv",
        "outputId": "25fce853-305d-44c7-c241-2d5bbfd8e636"
      },
      "execution_count": null,
      "outputs": [
        {
          "output_type": "stream",
          "name": "stdout",
          "text": [
            "점수를 입력하세요! 100\n",
            "장학금 수여\n",
            "합격\n"
          ]
        }
      ]
    },
    {
      "cell_type": "code",
      "source": [
        "# 중첩 조건문\n",
        "# if 조건문 내부에 또 다른 조건문 생성\n",
        "\n",
        "x = int(input(\"점수를 입력하세요! \"))\n",
        "\n",
        "# 100점 맞은 사람이 있으면 장학금 출력\n",
        "# 합격을 받은 사람들 중에서 100점인 사람인 경우 장학금을 주겠다 (중첩 조건)\n",
        "if x >= 90:\n",
        "  if x == 100:\n",
        "    print(\"장학금 수여\")\n",
        "  else:\n",
        "    print(\"합격\")\n",
        "\n",
        "else:\n",
        "  print(\"불합격\")"
      ],
      "metadata": {
        "colab": {
          "base_uri": "https://localhost:8080/"
        },
        "id": "_s-4vnRGXyTV",
        "outputId": "57a861cd-e2f0-43c0-cc2c-ae7b098d97f0"
      },
      "execution_count": null,
      "outputs": [
        {
          "output_type": "stream",
          "name": "stdout",
          "text": [
            "점수를 입력하세요! 100\n",
            "장학금 수여\n"
          ]
        }
      ]
    },
    {
      "cell_type": "markdown",
      "source": [
        "# 반복문\n",
        "- for-loop, while\n",
        "- 반복문의 필요성"
      ],
      "metadata": {
        "id": "MerwuXznX8jG"
      }
    },
    {
      "cell_type": "code",
      "source": [
        "# Hello Python을 4번 출력하시오\n",
        "\n",
        "for i in range(4):\n",
        "  print(\"Hello Python\")"
      ],
      "metadata": {
        "colab": {
          "base_uri": "https://localhost:8080/"
        },
        "id": "q988xFEnYM_h",
        "outputId": "d7f6d481-2aed-4dd9-d4d6-7f7f7aeb3a94"
      },
      "execution_count": null,
      "outputs": [
        {
          "output_type": "stream",
          "name": "stdout",
          "text": [
            "Hello Python\n",
            "Hello Python\n",
            "Hello Python\n",
            "Hello Python\n"
          ]
        }
      ]
    },
    {
      "cell_type": "code",
      "source": [
        "# for loop 특징: 반복범위가 주어짐\n",
        "# i는 지역변수 걍 다른 걸로 써도 무방\n",
        "for i in range(3):\n",
        "  print(f\"{i}번째 Hello Pyhton\")"
      ],
      "metadata": {
        "colab": {
          "base_uri": "https://localhost:8080/"
        },
        "id": "t5fTOesOancY",
        "outputId": "d1cc321b-4c48-48dc-b662-8d81fedd6b9d"
      },
      "execution_count": null,
      "outputs": [
        {
          "output_type": "stream",
          "name": "stdout",
          "text": [
            "0번째 Hello Pyhton\n",
            "1번째 Hello Pyhton\n",
            "2번째 Hello Pyhton\n"
          ]
        }
      ]
    },
    {
      "cell_type": "code",
      "source": [
        "# for loop\n",
        "# 반복 범위 지정시, 시퀀스 자료형도 사용가능함\n",
        "# list의 경우\n",
        "nums = [1,2,3,4,5]\n",
        "for num in nums:\n",
        "  print(num)"
      ],
      "metadata": {
        "colab": {
          "base_uri": "https://localhost:8080/"
        },
        "id": "0rX6wsKZalXK",
        "outputId": "fd43891d-60bf-4a16-d5b8-e71973ed6bfb"
      },
      "execution_count": null,
      "outputs": [
        {
          "output_type": "stream",
          "name": "stdout",
          "text": [
            "1\n",
            "2\n",
            "3\n",
            "4\n",
            "5\n"
          ]
        }
      ]
    },
    {
      "cell_type": "code",
      "source": [
        "#string(문자열)의 경우\n",
        "strings = \"Hello\"\n",
        "for text in strings:\n",
        "  print(text)"
      ],
      "metadata": {
        "colab": {
          "base_uri": "https://localhost:8080/"
        },
        "id": "egB2W72cci_r",
        "outputId": "e6f33d05-cd53-4445-a19f-2517ed5fade1"
      },
      "execution_count": null,
      "outputs": [
        {
          "output_type": "stream",
          "name": "stdout",
          "text": [
            "H\n",
            "e\n",
            "l\n",
            "l\n",
            "o\n"
          ]
        }
      ]
    },
    {
      "cell_type": "code",
      "source": [
        "#tuple의 경우\n",
        "tuples = (1,2,3,4)\n",
        "for num in tuples:\n",
        "  print(num)"
      ],
      "metadata": {
        "colab": {
          "base_uri": "https://localhost:8080/"
        },
        "id": "sHLJbQzdclRn",
        "outputId": "4902638c-9944-43f8-d36b-b0b8049accee"
      },
      "execution_count": null,
      "outputs": [
        {
          "output_type": "stream",
          "name": "stdout",
          "text": [
            "1\n",
            "2\n",
            "3\n",
            "4\n"
          ]
        }
      ]
    },
    {
      "cell_type": "code",
      "source": [
        "x = \"프랑스\"\n",
        "country_capital[x]\n",
        "print(f\"{x}의 수도는 {country_capital[x]}이다.\")"
      ],
      "metadata": {
        "colab": {
          "base_uri": "https://localhost:8080/"
        },
        "id": "L5m8M1utypDj",
        "outputId": "22443d3c-8a00-45c3-e29e-d106e0d60024"
      },
      "execution_count": null,
      "outputs": [
        {
          "output_type": "stream",
          "name": "stdout",
          "text": [
            "프랑스의 수도는 파리이다.\n"
          ]
        }
      ]
    },
    {
      "cell_type": "code",
      "source": [
        "# 딕셔너리의 경우\n",
        "country_capital\n",
        "for country in country_capital:\n",
        "  print(country) # key값만 출력\n",
        "  print(country_capital[country])\n",
        "  print(f\"{country}의 수도는 {country_capital[country]}이다.\")"
      ],
      "metadata": {
        "colab": {
          "base_uri": "https://localhost:8080/"
        },
        "id": "QfJ3BcI9cq32",
        "outputId": "0d0de397-2f5b-4da2-f7b6-00eb6d25de85"
      },
      "execution_count": null,
      "outputs": [
        {
          "output_type": "stream",
          "name": "stdout",
          "text": [
            "대한민국\n",
            "서울\n",
            "대한민국의 수도는 서울이다.\n",
            "프랑스\n",
            "파리\n",
            "프랑스의 수도는 파리이다.\n",
            "미국\n",
            "워싱턴\n",
            "미국의 수도는 워싱턴이다.\n",
            "영국\n",
            "런던\n",
            "영국의 수도는 런던이다.\n"
          ]
        }
      ]
    },
    {
      "cell_type": "code",
      "source": [
        "# 중첩 for문\n",
        "# 반복문 안에 또 다른 반복문\n",
        "\n",
        "x_list = [\"x1\", \"x2\"]\n",
        "y_list = [\"y1\", \"y2\"]\n",
        "\n",
        "for x in x_list:\n",
        "  for y in y_list:\n",
        "    print(x, y)\n",
        "# x1 에서 y1으로 오고 프린트. 다시 위로 올라가서 x1"
      ],
      "metadata": {
        "colab": {
          "base_uri": "https://localhost:8080/"
        },
        "id": "dVoZVZbEzfH4",
        "outputId": "2f5206ec-8f75-4d0b-ad77-75064f1ad833"
      },
      "execution_count": null,
      "outputs": [
        {
          "output_type": "stream",
          "name": "stdout",
          "text": [
            "x1 y1\n",
            "x1 y2\n",
            "x2 y1\n",
            "x2 y2\n"
          ]
        }
      ]
    },
    {
      "cell_type": "code",
      "source": [
        "x_list = [2, 3, 4, 5, 6, 7, 8, 9]\n",
        "y_list = [2, 3, 4, 5, 6, 7, 8, 9]\n",
        "\n",
        "for x in x_list:\n",
        "  for y in y_list:\n",
        "    print(f\"{x}*{y}={x * y}\")\n",
        "    break #이게 뭘까?"
      ],
      "metadata": {
        "colab": {
          "base_uri": "https://localhost:8080/"
        },
        "id": "vnOc06-q0uvB",
        "outputId": "ebf18cdf-f679-4e58-c86d-f11d0442a31b"
      },
      "execution_count": null,
      "outputs": [
        {
          "output_type": "stream",
          "name": "stdout",
          "text": [
            "2*2=4\n",
            "3*2=6\n",
            "4*2=8\n",
            "5*2=10\n",
            "6*2=12\n",
            "7*2=14\n",
            "8*2=16\n",
            "9*2=18\n"
          ]
        }
      ]
    },
    {
      "cell_type": "code",
      "source": [
        "for x in range(2,9): #range(2, 9) -> 2에서부터 8까지\n",
        "  for y in range(2,9):\n",
        "    print(f\"{x}*{y}={x * y}\")\n",
        "  print(\"------\")"
      ],
      "metadata": {
        "colab": {
          "base_uri": "https://localhost:8080/"
        },
        "id": "Nq8vYKax4WNb",
        "outputId": "973d1ee8-1f21-41c6-ecda-62b064403d0c"
      },
      "execution_count": null,
      "outputs": [
        {
          "output_type": "stream",
          "name": "stdout",
          "text": [
            "2*2=4\n",
            "2*3=6\n",
            "2*4=8\n",
            "2*5=10\n",
            "2*6=12\n",
            "2*7=14\n",
            "2*8=16\n",
            "------\n",
            "3*2=6\n",
            "3*3=9\n",
            "3*4=12\n",
            "3*5=15\n",
            "3*6=18\n",
            "3*7=21\n",
            "3*8=24\n",
            "------\n",
            "4*2=8\n",
            "4*3=12\n",
            "4*4=16\n",
            "4*5=20\n",
            "4*6=24\n",
            "4*7=28\n",
            "4*8=32\n",
            "------\n",
            "5*2=10\n",
            "5*3=15\n",
            "5*4=20\n",
            "5*5=25\n",
            "5*6=30\n",
            "5*7=35\n",
            "5*8=40\n",
            "------\n",
            "6*2=12\n",
            "6*3=18\n",
            "6*4=24\n",
            "6*5=30\n",
            "6*6=36\n",
            "6*7=42\n",
            "6*8=48\n",
            "------\n",
            "7*2=14\n",
            "7*3=21\n",
            "7*4=28\n",
            "7*5=35\n",
            "7*6=42\n",
            "7*7=49\n",
            "7*8=56\n",
            "------\n",
            "8*2=16\n",
            "8*3=24\n",
            "8*4=32\n",
            "8*5=40\n",
            "8*6=48\n",
            "8*7=56\n",
            "8*8=64\n",
            "------\n"
          ]
        }
      ]
    },
    {
      "cell_type": "code",
      "source": [
        "#자주 쓰는 for문\n",
        "\n",
        "#zip: 두 개의 개수가 비슷한 리스트를 짝 지어주는 메소드\n",
        "names = [\"A\", \"B\", \"C\"]\n",
        "ages = [10, 20, 30]\n",
        "\n",
        "for name, age in zip(names, ages):\n",
        "  print(name, age)\n",
        "print(\"----------\")\n",
        "\n",
        "for idx, name in enumerate(names):\n",
        "  print(idx, name)"
      ],
      "metadata": {
        "colab": {
          "base_uri": "https://localhost:8080/"
        },
        "id": "0tzMfbJu5DXb",
        "outputId": "af7cd708-b3ca-4d50-8eb8-689aaf55955e"
      },
      "execution_count": null,
      "outputs": [
        {
          "output_type": "stream",
          "name": "stdout",
          "text": [
            "A 10\n",
            "B 20\n",
            "C 30\n",
            "----------\n",
            "0 A\n",
            "1 B\n",
            "2 C\n"
          ]
        }
      ]
    },
    {
      "cell_type": "code",
      "source": [
        "#이건 왜 위랑 다르게 출력되는건가\n",
        "\n",
        "names = [\"A\", \"B\", \"C\"]\n",
        "ages = [10, 20, 30]\n",
        "\n",
        "for a in zip(names, ages): #for 임의 변수가 하나로 나옴\n",
        "  print(a)"
      ],
      "metadata": {
        "colab": {
          "base_uri": "https://localhost:8080/"
        },
        "id": "Z1c2t9BQ_Tfv",
        "outputId": "adff55b6-ea4a-4941-a17d-d6c356bdf2fb"
      },
      "execution_count": null,
      "outputs": [
        {
          "output_type": "stream",
          "name": "stdout",
          "text": [
            "('A', 10)\n",
            "('B', 20)\n",
            "('C', 30)\n"
          ]
        }
      ]
    },
    {
      "cell_type": "markdown",
      "source": [
        "## While 문 특징\n",
        "- for loop 는 항상 반복문의 범위를 지정함\n",
        "  + 몇번 반복문을 수행할지 항상 숫자로 컨트롤이 가능함\n",
        "- While 특징\n",
        "  + 조건이 False가 될 때까지 반복문을 수행\n",
        "  + 조건이 True면 무한 수행"
      ],
      "metadata": {
        "id": "FYSemipu8l4z"
      }
    },
    {
      "cell_type": "code",
      "source": [
        "# 초깃값 지정\n",
        "i = 1\n",
        "n = 3\n",
        "\n",
        "while i <= n:\n",
        "  print(f\"현재 {i}번\")\n",
        "  i = i + 1\n",
        "# 1일 때 print하고 덧셈을 하고 다시 위로 올라감\n",
        "# 2로 업데이트하고 print한 다음 덧셈을 하고 다시 위로 올라감\n",
        "# 3으로 업데이트하고 print하고 덧셈을 함. 업데이트함\n",
        "# 4가 되고 while에서 false가 나옴. print 안 함."
      ],
      "metadata": {
        "colab": {
          "base_uri": "https://localhost:8080/"
        },
        "id": "Ed5JsUJP5R-X",
        "outputId": "351f44c5-089e-4edc-8ea9-6d9917f1418c"
      },
      "execution_count": null,
      "outputs": [
        {
          "output_type": "stream",
          "name": "stdout",
          "text": [
            "현재 1번\n",
            "현재 2번\n",
            "현재 3번\n"
          ]
        }
      ]
    },
    {
      "cell_type": "code",
      "source": [
        "i = 1\n",
        "n = 100\n",
        "\n",
        "while i <= n:\n",
        "  print(f\"현재 {i}번\")\n",
        "  if i >=5:\n",
        "    break\n",
        "  i = i + 1\n",
        "  #원래는 100까지 가야하는데 break함"
      ],
      "metadata": {
        "colab": {
          "base_uri": "https://localhost:8080/"
        },
        "id": "fUFGDn0ACbnH",
        "outputId": "47999269-a4b7-4fd7-df80-6210416ee0d1"
      },
      "execution_count": null,
      "outputs": [
        {
          "output_type": "stream",
          "name": "stdout",
          "text": [
            "현재 1번\n",
            "현재 2번\n",
            "현재 3번\n",
            "현재 4번\n",
            "현재 5번\n"
          ]
        }
      ]
    },
    {
      "cell_type": "markdown",
      "source": [
        "## for loop와 while 비교\n",
        "- 데이터 분석만 할 계획이면 for loop만 해도 상관없음\n",
        "- 개발을 하고자 한다면, while을 제대로 익혀야 함"
      ],
      "metadata": {
        "id": "B3wWq0eCAZYB"
      }
    },
    {
      "cell_type": "code",
      "source": [
        "for i in range(10):\n",
        "  print(f\"현재 {i}번\")\n",
        "  if i > 5:\n",
        "    break"
      ],
      "metadata": {
        "colab": {
          "base_uri": "https://localhost:8080/"
        },
        "id": "giyUcGsJC2MF",
        "outputId": "75fc18f4-9820-46c7-aedd-7c03c8891dec"
      },
      "execution_count": null,
      "outputs": [
        {
          "output_type": "stream",
          "name": "stdout",
          "text": [
            "현재 0번\n",
            "현재 1번\n",
            "현재 2번\n",
            "현재 3번\n",
            "현재 4번\n",
            "현재 5번\n",
            "현재 6번\n"
          ]
        }
      ]
    },
    {
      "cell_type": "code",
      "source": [
        "#문자열과 for 문\n",
        "texts = \"Python\"\n",
        "for text in texts:\n",
        "  print(text)\n",
        "  if text == \"t\":\n",
        "    print(\"text는 t입니다.\")\n",
        "    break"
      ],
      "metadata": {
        "colab": {
          "base_uri": "https://localhost:8080/"
        },
        "id": "JGRuG-B1C9d0",
        "outputId": "520d1508-9d4f-45c7-ceb2-4b7d67fb50b2"
      },
      "execution_count": null,
      "outputs": [
        {
          "output_type": "stream",
          "name": "stdout",
          "text": [
            "P\n",
            "y\n",
            "t\n",
            "text는 t입니다.\n"
          ]
        }
      ]
    },
    {
      "cell_type": "code",
      "source": [
        "# pythonic 코드\n",
        "# 리스트 컴프리핸션\n",
        "# for loop 및 for loop it 조건문 한줄로 처리\n",
        "\n",
        "numbers = [1,2,3,4,5]\n",
        "result = []\n",
        "temp1 = 1 ** 2\n",
        "temp2 = 2 ** 2\n",
        "temp3 = 3 ** 2\n",
        "result.append(temp1)\n",
        "result.append(temp2)\n",
        "result.append(temp3)\n",
        "print(result)"
      ],
      "metadata": {
        "colab": {
          "base_uri": "https://localhost:8080/"
        },
        "id": "6RaxdBKeExRM",
        "outputId": "4bc1fbc2-3c38-4713-b811-896f006aae78"
      },
      "execution_count": null,
      "outputs": [
        {
          "output_type": "stream",
          "name": "stdout",
          "text": [
            "[1, 4, 27]\n"
          ]
        }
      ]
    },
    {
      "cell_type": "code",
      "source": [
        "numbers = [1,2,3,4,5]\n",
        "result = []\n",
        "\n",
        "for i in numbers:\n",
        "  result.append(i ** 2)\n",
        "\n",
        "result"
      ],
      "metadata": {
        "colab": {
          "base_uri": "https://localhost:8080/"
        },
        "id": "fVqsdF5vF3xc",
        "outputId": "ec1859a3-bad0-413e-d712-c371b316abb8"
      },
      "execution_count": null,
      "outputs": [
        {
          "output_type": "execute_result",
          "data": {
            "text/plain": [
              "[1, 4, 9, 16, 25]"
            ]
          },
          "metadata": {},
          "execution_count": 44
        }
      ]
    },
    {
      "cell_type": "code",
      "source": [
        "#위의 것도 1줄로 처리하는 것이 리스트 컴프리핸션\n",
        "\n",
        "numbers = [1,2,3,4,5]\n",
        "result = [i ** 2 for i in numbers]\n",
        "result"
      ],
      "metadata": {
        "colab": {
          "base_uri": "https://localhost:8080/"
        },
        "id": "UIVqawrSGJrg",
        "outputId": "fa4ed7ae-a770-42de-e6e4-00a81dc80a1e"
      },
      "execution_count": null,
      "outputs": [
        {
          "output_type": "execute_result",
          "data": {
            "text/plain": [
              "[1, 4, 9, 16, 25]"
            ]
          },
          "metadata": {},
          "execution_count": 45
        }
      ]
    },
    {
      "cell_type": "code",
      "source": [
        "numbers = [1,2,3,4,5]\n",
        "result = []\n",
        "\n",
        "for i in numbers:\n",
        "  if i >= 3:\n",
        "    result.append(i ** 2)\n",
        "\n",
        "result"
      ],
      "metadata": {
        "colab": {
          "base_uri": "https://localhost:8080/"
        },
        "id": "7HRi4XdGKuGp",
        "outputId": "08bbe15b-3a4b-479d-bbe0-d749fe29ff34"
      },
      "execution_count": null,
      "outputs": [
        {
          "output_type": "execute_result",
          "data": {
            "text/plain": [
              "[9, 16, 25]"
            ]
          },
          "metadata": {},
          "execution_count": 48
        }
      ]
    },
    {
      "cell_type": "code",
      "source": [
        "numbers = [1,2,3,4,5]\n",
        "result = [i ** 2 for i in numbers if i >= 3]\n",
        "result\n",
        "\n",
        "#python의 다큐맨테이션에서 한번 보기\n",
        "#중첩 리스트 컴프리핸"
      ],
      "metadata": {
        "colab": {
          "base_uri": "https://localhost:8080/"
        },
        "id": "bhoNVTRcLBOQ",
        "outputId": "438dcb8b-11f1-490f-a9b6-56a6cbcf5f00"
      },
      "execution_count": null,
      "outputs": [
        {
          "output_type": "execute_result",
          "data": {
            "text/plain": [
              "[9, 16, 25]"
            ]
          },
          "metadata": {},
          "execution_count": 50
        }
      ]
    },
    {
      "cell_type": "markdown",
      "source": [
        "- 시각화 라이브러리\n",
        "  +matplotlib plotly 옵션 설정할 때 자주 사용됨."
      ],
      "metadata": {
        "id": "6tCPyqEbMG55"
      }
    },
    {
      "cell_type": "markdown",
      "source": [
        "# 파이썬 문서화(Docstring)\n",
        "- 협업을 위해서 남들이 알아 볼 수 있는 코딩을 할 줄 알아야 한다.\n",
        "- https://pandas.pydata.org/docs/reference/api/pandas.read_csv.html\n",
        "- 위의 링크 중 parmeters 설명과\n",
        "  + Any valid string path is acceptable. The string could be a URL. Valid URL schemes include http, ftp, s3, gs, and file. For file URLs, a host is expected. A local file could be: file://localhost/path/to/table.csv.\n",
        "If you want to pass in a path object, pandas accepts any os.PathLike.\n",
        "By file-like object, we refer to objects with a read() method, such as a file handle (e.g. via builtin open function) or StringIO.\n",
        "\n",
        "- https://github.com/pandas-dev/pandas/blob/v2.1.4/pandas/io/parsers/readers.py#L848-L948\n",
        "- 위의 링크 코딩 중\n",
        "  + filepath_or_buffer : str, path object or file-like object\n",
        "    Any valid string path is acceptable. The string could be a URL. Valid\n",
        "    URL schemes include http, ftp, s3, gs, and file. For file URLs, a host is\n",
        "    expected. A local file could be: file://localhost/path/to/table.csv.\n",
        "\n",
        "    If you want to pass in a path object, pandas accepts any ``os.PathLike``.\n",
        "\n",
        "    By file-like object, we refer to objects with a ``read()`` method, such as\n",
        "    a file handle (e.g. via builtin ``open`` function) or ``StringIO``.\n",
        "\n",
        "- 비교하면서 보기\n",
        "\n",
        "- 프로젝트 진행\n",
        " + 마지막주에는 ppt보고서 작성과 Docstring 문서화를 진행해야 한다\n",
        " + help() 명령어를 사용해서 불러오기가 가능\n",
        " + read_csv() 문서처럼 출력이 가능"
      ],
      "metadata": {
        "id": "P6cjTHnwPcNr"
      }
    },
    {
      "cell_type": "code",
      "source": [
        "help(print)\n",
        "# print에 대한 문서가 출력됨"
      ],
      "metadata": {
        "colab": {
          "base_uri": "https://localhost:8080/"
        },
        "id": "rg9O-EbwPmHy",
        "outputId": "759f72b0-438c-465c-9860-1bc51b28c887"
      },
      "execution_count": null,
      "outputs": [
        {
          "output_type": "stream",
          "name": "stdout",
          "text": [
            "Help on built-in function print in module builtins:\n",
            "\n",
            "print(...)\n",
            "    print(value, ..., sep=' ', end='\\n', file=sys.stdout, flush=False)\n",
            "    \n",
            "    Prints the values to a stream, or to sys.stdout by default.\n",
            "    Optional keyword arguments:\n",
            "    file:  a file-like object (stream); defaults to the current sys.stdout.\n",
            "    sep:   string inserted between values, default a space.\n",
            "    end:   string appended after the last value, default a newline.\n",
            "    flush: whether to forcibly flush the stream.\n",
            "\n"
          ]
        }
      ]
    },
    {
      "cell_type": "code",
      "source": [
        "def myPower(n):\n",
        "  \"\"\"숫자 n을 입력하면 n의 거듭제곱으로 반환\"\"\"\n",
        "  result = n ** 2\n",
        "  return result"
      ],
      "metadata": {
        "id": "LME7f1ooRNSG"
      },
      "execution_count": null,
      "outputs": []
    },
    {
      "cell_type": "code",
      "source": [
        "print(myPower(9))"
      ],
      "metadata": {
        "colab": {
          "base_uri": "https://localhost:8080/"
        },
        "id": "UWqTCrO-RijT",
        "outputId": "aa016ea4-b6d5-4b96-b97a-6ce830840908"
      },
      "execution_count": null,
      "outputs": [
        {
          "output_type": "stream",
          "name": "stdout",
          "text": [
            "81\n"
          ]
        }
      ]
    },
    {
      "cell_type": "code",
      "source": [
        "print(myPower.__doc__)"
      ],
      "metadata": {
        "colab": {
          "base_uri": "https://localhost:8080/"
        },
        "id": "SH0Euan4R1cx",
        "outputId": "f0fefeae-ad28-46b1-d8ca-2d760ebaf134"
      },
      "execution_count": null,
      "outputs": [
        {
          "output_type": "stream",
          "name": "stdout",
          "text": [
            "숫자 n을 입력하면 n의 거듭제곱으로 반환\n"
          ]
        }
      ]
    },
    {
      "cell_type": "code",
      "source": [
        "def read_csv(sep, header):\n",
        "  \"\"\"\n",
        "\n",
        "  Returns sum of ~~~.\n",
        "\n",
        "    Parameters:\n",
        "      sep (str) : str에 대한 설명\n",
        "      header (int): int에 대한 설명\n",
        "\n",
        "    Returns:\n",
        "    c (int) : Sum of ~~~\n",
        "  \"\"\"\n",
        "\n",
        "  c = sep + header\n",
        "  return c"
      ],
      "metadata": {
        "id": "hLttLnJWSFYf"
      },
      "execution_count": null,
      "outputs": []
    },
    {
      "cell_type": "code",
      "source": [
        "print(read_csv.__doc__)"
      ],
      "metadata": {
        "colab": {
          "base_uri": "https://localhost:8080/"
        },
        "id": "WBNApVPATQuO",
        "outputId": "89c7099c-30ac-4567-f77c-6f83843a16a9"
      },
      "execution_count": null,
      "outputs": [
        {
          "output_type": "stream",
          "name": "stdout",
          "text": [
            "\n",
            "\n",
            "  Returns sum of ~~~.\n",
            "\n",
            "    Parameters:\n",
            "      sep (str) : str에 대한 설명\n",
            "      header (int): int에 대한 설명\n",
            "\n",
            "    Returns:\n",
            "    c (int) : Sum of ~~~ \n",
            "  \n"
          ]
        }
      ]
    },
    {
      "cell_type": "markdown",
      "source": [
        "# 클래스 상속\n",
        "- 대분류 > 중분류 > 소분류\n",
        "\n",
        "- 동물\n",
        "  + 살아 움직인다.\n",
        "- 포유류\n",
        "  +(살아 움직인다) 새끼를 우유로 키운다\n",
        "- 파충류\n",
        "  +(살아 움직인다) 냉혈이다"
      ],
      "metadata": {
        "id": "eqeWbNmuYRmy"
      }
    },
    {
      "cell_type": "code",
      "source": [
        "class Animal:\n",
        "  # Attribute 정의 (클래스 변수 정의)\n",
        "  name = \"\"\n",
        "\n",
        "  # 공통함수\n",
        "  def eat(self):\n",
        "    print(\"나는 영양분을 외부에서 얻어야 해\")\n",
        "\n",
        "class Dog(Animal): # Animal 클래스를 상속함.\n",
        "                  #  Animal의 기능을 Dog 클래스에도 기본 기능을 제공함. (기본기능: name과 eat)\n",
        "#새로운 메소드 추가\n",
        "  def bark(self):\n",
        "    print(f\"{self.name} 강아지가 짖는다.\")"
      ],
      "metadata": {
        "id": "ol8spkXwZP54"
      },
      "execution_count": null,
      "outputs": []
    },
    {
      "cell_type": "code",
      "source": [
        "# 객체 생성\n",
        "a = Dog()\n",
        "a.name = \"바둑이\"\n",
        "a.eat()\n",
        "a.bark()"
      ],
      "metadata": {
        "colab": {
          "base_uri": "https://localhost:8080/"
        },
        "id": "7_JVs8u5aY0W",
        "outputId": "24b8b922-3bf5-4f15-faa1-33ebbc7e0feb"
      },
      "execution_count": null,
      "outputs": [
        {
          "output_type": "stream",
          "name": "stdout",
          "text": [
            "나는 영양분을 외부에서 얻어야 해\n",
            "바둑이 강아지가 짖는다.\n"
          ]
        }
      ]
    },
    {
      "cell_type": "code",
      "source": [
        "b = Animal()\n",
        "b.name = \"시고르자브종\"\n",
        "b.eat()\n",
        "# b.bark 상위 클래스는 하위 클래스의 메소드를 실행시킬 수 없다."
      ],
      "metadata": {
        "colab": {
          "base_uri": "https://localhost:8080/"
        },
        "id": "xnkapU9rbqHu",
        "outputId": "1b9231a2-b80d-47c4-a19d-d80ae620f1a3"
      },
      "execution_count": null,
      "outputs": [
        {
          "output_type": "stream",
          "name": "stdout",
          "text": [
            "나는 영양분을 외부에서 얻어야 해\n"
          ]
        }
      ]
    },
    {
      "cell_type": "markdown",
      "source": [
        "## 클래스 Docstring"
      ],
      "metadata": {
        "id": "8PcZ0xADcuej"
      }
    },
    {
      "cell_type": "code",
      "source": [
        "class Person:\n",
        "\n",
        "  \"\"\"\n",
        "\n",
        "  자기 소개하는 Person 클래스\n",
        "  '''\n",
        "  Attributes\n",
        "  -----------\n",
        "  name : str\n",
        "    사람의 이름을 의미\n",
        "  age : int\n",
        "    사람의 나이를 의미\n",
        "  grade : int\n",
        "    사람의 현재 학년을 의미\n",
        "\n",
        "  Methods\n",
        "  -----------\n",
        "  info(comment=\"\"):\n",
        "    사람의 개인정보를 출력\n",
        "\n",
        "  \"\"\"\n",
        "\n",
        "  def __init__(self, name, age, grade):\n",
        "    \"\"\"\n",
        "\n",
        "    \"\"\"\n",
        "    self.name = name\n",
        "    self.age = age\n",
        "    self.grade = grade\n",
        "\n",
        "  def info(self, comment = \"\"):\n",
        "    \"\"\"\n",
        "\n",
        "    \"\"\"\n",
        "    print(f\"내 이름은 {self.name}. 내 나이는 {self.age}. 현재 학년은 {self.grade}. {comment}\")\n"
      ],
      "metadata": {
        "id": "HZ_rh45fctbz"
      },
      "execution_count": null,
      "outputs": []
    },
    {
      "cell_type": "code",
      "source": [
        "print(Person.__doc__)"
      ],
      "metadata": {
        "colab": {
          "base_uri": "https://localhost:8080/"
        },
        "id": "pz68mlrmeTtH",
        "outputId": "56e938b6-ffc7-484e-a90c-20b1b218db1b"
      },
      "execution_count": null,
      "outputs": [
        {
          "output_type": "stream",
          "name": "stdout",
          "text": [
            "\n",
            "\n",
            "  자기 소개하는 Person 클래스\n",
            "  '''\n",
            "  Attributes\n",
            "  -----------\n",
            "  name : str\n",
            "    사람의 이름을 의미\n",
            "  age : int\n",
            "    사람의 나이를 의미\n",
            "  grade : int\n",
            "    사람의 현재 학년을 의미\n",
            "\n",
            "  Methods\n",
            "  -----------\n",
            "  info(comment=\"\"):\n",
            "    사람의 개인정보를 출력\n",
            "  \n",
            "  \n"
          ]
        }
      ]
    },
    {
      "cell_type": "code",
      "source": [
        "help(Person)"
      ],
      "metadata": {
        "colab": {
          "base_uri": "https://localhost:8080/"
        },
        "id": "FLcnzgMxeTBI",
        "outputId": "3efa661d-a1bc-4e5f-a1c6-eae8af8105fe"
      },
      "execution_count": null,
      "outputs": [
        {
          "output_type": "stream",
          "name": "stdout",
          "text": [
            "Help on class Person in module __main__:\n",
            "\n",
            "class Person(builtins.object)\n",
            " |  Person(name, age, grade)\n",
            " |  \n",
            " |  자기 소개하는 Person 클래스\n",
            " |  '''\n",
            " |  Attributes\n",
            " |  -----------\n",
            " |  name : str\n",
            " |    사람의 이름을 의미\n",
            " |  age : int\n",
            " |    사람의 나이를 의미\n",
            " |  grade : int\n",
            " |    사람의 현재 학년을 의미\n",
            " |  \n",
            " |  Methods\n",
            " |  -----------\n",
            " |  info(comment=\"\"):\n",
            " |    사람의 개인정보를 출력\n",
            " |  \n",
            " |  Methods defined here:\n",
            " |  \n",
            " |  __init__(self, name, age, grade)\n",
            " |  \n",
            " |  info(self, comment='')\n",
            " |  \n",
            " |  ----------------------------------------------------------------------\n",
            " |  Data descriptors defined here:\n",
            " |  \n",
            " |  __dict__\n",
            " |      dictionary for instance variables (if defined)\n",
            " |  \n",
            " |  __weakref__\n",
            " |      list of weak references to the object (if defined)\n",
            "\n"
          ]
        }
      ]
    }
  ]
}