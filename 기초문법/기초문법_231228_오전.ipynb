{
  "nbformat": 4,
  "nbformat_minor": 0,
  "metadata": {
    "colab": {
      "provenance": [],
      "authorship_tag": "ABX9TyMgruoVUVGHdY7lTTDWvi4r",
      "include_colab_link": true
    },
    "kernelspec": {
      "name": "python3",
      "display_name": "Python 3"
    },
    "language_info": {
      "name": "python"
    }
  },
  "cells": [
    {
      "cell_type": "markdown",
      "metadata": {
        "id": "view-in-github",
        "colab_type": "text"
      },
      "source": [
        "<a href=\"https://colab.research.google.com/github/younghwangit/mulcamp34/blob/main/%EA%B8%B0%EC%B4%88%EB%AC%B8%EB%B2%95/%EA%B8%B0%EC%B4%88%EB%AC%B8%EB%B2%95_231228_%EC%98%A4%EC%A0%84.ipynb\" target=\"_parent\"><img src=\"https://colab.research.google.com/assets/colab-badge.svg\" alt=\"Open In Colab\"/></a>"
      ]
    },
    {
      "cell_type": "markdown",
      "source": [
        "# 문자열 함수\n",
        "리스트 함수"
      ],
      "metadata": {
        "id": "4mRDBS5DxU_x"
      }
    },
    {
      "cell_type": "markdown",
      "source": [
        "## split()"
      ],
      "metadata": {
        "id": "wnti6BHL3Ap4"
      }
    },
    {
      "cell_type": "code",
      "source": [
        "coffee_menu_str = \"에스프레소, 아메리카노, 카페라떼, 카푸치노\"\n",
        "coffee_menu_str.split(',') # , 를 기준으로 리스트 형태로 나눔"
      ],
      "metadata": {
        "colab": {
          "base_uri": "https://localhost:8080/"
        },
        "id": "KcFUG99ayE8K",
        "outputId": "c53f283f-0159-4e2c-fee9-0bfc6e5559cb"
      },
      "execution_count": null,
      "outputs": [
        {
          "output_type": "execute_result",
          "data": {
            "text/plain": [
              "['에스프레소', ' 아메리카노', ' 카페라떼', ' 카푸치노']"
            ]
          },
          "metadata": {},
          "execution_count": 1
        }
      ]
    },
    {
      "cell_type": "code",
      "source": [
        "\"에스프레소, 아메리카노, 카페라떼, 카푸치노\".split(',') # 문자열을 변수로 할당하지 않고 바로 스플릿할 수 있음"
      ],
      "metadata": {
        "colab": {
          "base_uri": "https://localhost:8080/"
        },
        "id": "OsNKnp8Nzg3n",
        "outputId": "977b3ba3-b5b2-4bc1-f793-dcced16f1f98"
      },
      "execution_count": null,
      "outputs": [
        {
          "output_type": "execute_result",
          "data": {
            "text/plain": [
              "['에스프레소', ' 아메리카노', ' 카페라떼', ' 카푸치노']"
            ]
          },
          "metadata": {},
          "execution_count": 2
        }
      ]
    },
    {
      "cell_type": "code",
      "source": [
        "\"에스프레소 아메리카노 카페라떼 카푸치노\".split(\" \") # 공백을 기준으로 나눠서 스플릿\n",
        "\n",
        "#2번줄은 , 의 패턴을 기준으로 그리고 제외하고 리스트로 만듦\n",
        "#3번줄은 공백의 패턴을 기준으로, 그리고 제외하고 리스트로 만듦\n",
        "#결과값의 형태는 같지만 다른 이"
      ],
      "metadata": {
        "colab": {
          "base_uri": "https://localhost:8080/"
        },
        "id": "LUa8cw3Jzvr6",
        "outputId": "fc21d8e7-b8f9-44db-d845-7ee7a26af520"
      },
      "execution_count": null,
      "outputs": [
        {
          "output_type": "execute_result",
          "data": {
            "text/plain": [
              "['에스프레소', '아메리카노', '카페라떼', '카푸치노']"
            ]
          },
          "metadata": {},
          "execution_count": 3
        }
      ]
    },
    {
      "cell_type": "code",
      "source": [
        "phone_number = \"+82-10-2345-6789\"\n",
        "\n",
        "print(phone_number[0:3])\n",
        "result = phone_number.split(\"-\")\n",
        "print(result[0])\n",
        "#split을 애용하자"
      ],
      "metadata": {
        "colab": {
          "base_uri": "https://localhost:8080/"
        },
        "id": "NKMEQKBF0jaN",
        "outputId": "aaef707e-e91e-45c3-d73f-9d45dbee1fb2"
      },
      "execution_count": null,
      "outputs": [
        {
          "output_type": "stream",
          "name": "stdout",
          "text": [
            "+82\n",
            "+82\n"
          ]
        }
      ]
    },
    {
      "cell_type": "code",
      "source": [
        "phone_number.split(\"-\", maxsplit=2)\n",
        "#내가 원하는 부분까지 스플릿이 가능하다\n",
        "#매개변수 maxsplit"
      ],
      "metadata": {
        "colab": {
          "base_uri": "https://localhost:8080/"
        },
        "id": "KsqgMNTP12bg",
        "outputId": "ea1122f1-8dc5-43ae-974e-5579e1d6ffce"
      },
      "execution_count": null,
      "outputs": [
        {
          "output_type": "execute_result",
          "data": {
            "text/plain": [
              "['+82', '10', '2345-6789']"
            ]
          },
          "metadata": {},
          "execution_count": 5
        }
      ]
    },
    {
      "cell_type": "markdown",
      "source": [
        "## strip(): 필요없는 문자열 삭제\n",
        "- 앞뒤 공백, 개행문자와 같이 불필요한 부분을 지우고 싶을 때 사용"
      ],
      "metadata": {
        "id": "I-QJ755326Y3"
      }
    },
    {
      "cell_type": "code",
      "source": [
        "temptText = \" Python \"\n",
        "print(temptText)\n",
        "print(temptText.strip())"
      ],
      "metadata": {
        "colab": {
          "base_uri": "https://localhost:8080/"
        },
        "id": "YvIbIskL3jrn",
        "outputId": "284e6f60-5d80-406f-a8ed-d2118c0913b0"
      },
      "execution_count": null,
      "outputs": [
        {
          "output_type": "stream",
          "name": "stdout",
          "text": [
            " Python \n",
            "Python\n"
          ]
        }
      ]
    },
    {
      "cell_type": "code",
      "source": [
        "tempText = \"aaaPythonaaaaaa\"\n",
        "print(tempText[3:9]) #그러나 a의 개수가 달라지면 원하는 결과가 나오지 않음\n",
        "print(tempText.strip(\"a\")) #a 삭제"
      ],
      "metadata": {
        "colab": {
          "base_uri": "https://localhost:8080/"
        },
        "id": "AjH8CHVZ34QD",
        "outputId": "c11e30ba-b544-4e33-ba2f-13eaab0924a5"
      },
      "execution_count": null,
      "outputs": [
        {
          "output_type": "stream",
          "name": "stdout",
          "text": [
            "Python\n",
            "Python\n"
          ]
        }
      ]
    },
    {
      "cell_type": "code",
      "source": [
        "tempText = \"aaaPythonbbaaaa\"\n",
        "result = tempText.strip(\"ab\") #a와 b를 삭제한다\n",
        "print(result)"
      ],
      "metadata": {
        "colab": {
          "base_uri": "https://localhost:8080/"
        },
        "id": "s-g7sbDn4iY9",
        "outputId": "2ca7fdc0-6f7a-4299-c38c-84f97dbf78a5"
      },
      "execution_count": null,
      "outputs": [
        {
          "output_type": "stream",
          "name": "stdout",
          "text": [
            "Python\n"
          ]
        }
      ]
    },
    {
      "cell_type": "code",
      "source": [
        "testMyself = \"bbbbban apple a daybbbbb\"\n",
        "#원하는 결과; an apple a day\n",
        "result = testMyself.strip(\"ab\")\n",
        "print(result)"
      ],
      "metadata": {
        "colab": {
          "base_uri": "https://localhost:8080/"
        },
        "id": "83atUIUa5s6V",
        "outputId": "fff3a38b-2b66-4f78-b7b9-80196139ba70"
      },
      "execution_count": null,
      "outputs": [
        {
          "output_type": "stream",
          "name": "stdout",
          "text": [
            "n apple a day\n"
          ]
        }
      ]
    },
    {
      "cell_type": "code",
      "source": [
        "tempText = \"\\n Python \\n\\n\" #개행문자 지우기\n",
        "result = tempText.strip(\" \\n\") #공백과 개행문자 지우기\n",
        "print(result)\n",
        "\n",
        "# lstrip() : 해당 텍스트의 왼쪽만 제거\n",
        "# rstrip() : 해당 텍스트의 오른쪽만 제거"
      ],
      "metadata": {
        "colab": {
          "base_uri": "https://localhost:8080/"
        },
        "id": "5ciCu99y83n_",
        "outputId": "966130bf-2243-4be6-eee9-ea9fb19a8c2c"
      },
      "execution_count": null,
      "outputs": [
        {
          "output_type": "stream",
          "name": "stdout",
          "text": [
            "Python\n"
          ]
        }
      ]
    },
    {
      "cell_type": "markdown",
      "source": [
        "## join(): 문자열 연결\n",
        "- 더하기 연산자(+)로 두 문자열 연결 가능함"
      ],
      "metadata": {
        "id": "SdhZT6hJ-N6J"
      }
    },
    {
      "cell_type": "code",
      "source": [
        "name1 = \"철수\"\n",
        "name2 = \"영미\"\n",
        "\n",
        "hello = \"님, 주소와 전화번호를 입력해 주세요.\"\n",
        "print(name1 + hello)\n",
        "print(name2 + hello)"
      ],
      "metadata": {
        "colab": {
          "base_uri": "https://localhost:8080/"
        },
        "id": "XSwSJxQC-SL-",
        "outputId": "ba808b2e-4dfb-4ea3-ef5e-ab3999705875"
      },
      "execution_count": null,
      "outputs": [
        {
          "output_type": "stream",
          "name": "stdout",
          "text": [
            "철수님, 주소와 전화번호를 입력해 주세요.\n",
            "영미님, 주소와 전화번호를 입력해 주세요.\n"
          ]
        }
      ]
    },
    {
      "cell_type": "code",
      "source": [
        "address_list = [\"서울시\", \"서초구\", \"반포대로\", \"201(반포동)\"]\n",
        "\n",
        "# 리스트의 각 값을 모두 연결해서 하나의 텍스트로 바꾸고자 함\n",
        "a = \" \" #공백\n",
        "print(a.join(address_list)) #리스트 안의 내용물들을 연결하는데 중간중간에 a(공백)울 넣는다.\n",
        "b = \"//\""
      ],
      "metadata": {
        "colab": {
          "base_uri": "https://localhost:8080/"
        },
        "id": "qh46hKwR-yJE",
        "outputId": "1299fa45-0f41-4f8e-aa9a-c3c7cbcaf542"
      },
      "execution_count": null,
      "outputs": [
        {
          "output_type": "stream",
          "name": "stdout",
          "text": [
            "서울시 서초구 반포대로 201(반포동)\n"
          ]
        }
      ]
    },
    {
      "cell_type": "code",
      "source": [
        "\".\".join(address_list)\n",
        "#변수를 항상 정의할 필요는 없지만 메소드 앞에 매개해줄 무언가가 필요하다.\n",
        "#매개를 쓰고 싶지 않다면 연산자를 사용해야 함"
      ],
      "metadata": {
        "colab": {
          "base_uri": "https://localhost:8080/",
          "height": 35
        },
        "id": "dNMtJuMAAPPE",
        "outputId": "fe813e28-f803-4863-e109-a84ec52e5353"
      },
      "execution_count": null,
      "outputs": [
        {
          "output_type": "execute_result",
          "data": {
            "text/plain": [
              "'서울시.서초구.반포대로.201(반포동)'"
            ],
            "application/vnd.google.colaboratory.intrinsic+json": {
              "type": "string"
            }
          },
          "metadata": {},
          "execution_count": 13
        }
      ]
    },
    {
      "cell_type": "markdown",
      "source": [
        "## find(): 문자열 찾기\n",
        "- 문자열의 위치값을 반환함"
      ],
      "metadata": {
        "id": "YsT0H2IkAHaO"
      }
    },
    {
      "cell_type": "code",
      "source": [
        "str_f = \"Python code.\"\n",
        "print(\"찾는 문자열의 위치 : \", str_f.find(\"Python\"))\n",
        "print(\"찾는 문자열의 위치 : \", str_f.find(\"code\"))\n",
        "print(\"찾는 문자열의 위치 : \", str_f.find(\"Java\"))\n",
        "# -1은 해당되는 문자 없음"
      ],
      "metadata": {
        "colab": {
          "base_uri": "https://localhost:8080/"
        },
        "id": "MmT3Kki1Alww",
        "outputId": "24e57532-f13a-4506-cd36-09e74c330b91"
      },
      "execution_count": null,
      "outputs": [
        {
          "output_type": "stream",
          "name": "stdout",
          "text": [
            "찾는 문자열의 위치 :  0\n",
            "찾는 문자열의 위치 :  7\n",
            "찾는 문자열의 위치 :  -1\n"
          ]
        }
      ]
    },
    {
      "cell_type": "markdown",
      "source": [
        "## count() : 찾고자 하는 문자열의 갯수를 반환\n",
        "- 만약 찾을 문자열이 없으면 0으로 반환"
      ],
      "metadata": {
        "id": "NNjO6AnkDI3G"
      }
    },
    {
      "cell_type": "code",
      "source": [
        "str_c = \"Python is powerful. Python is easy to learn. Python is open\"\n",
        "print(\"Python의 갯수는? \", str_c.count(\"Python\"))\n",
        "print(\"Java의 갯수는? \", str_c.count(\"Java\"))"
      ],
      "metadata": {
        "colab": {
          "base_uri": "https://localhost:8080/"
        },
        "id": "1ZJWvb-MDIYA",
        "outputId": "0ae2a65b-600e-437c-fcee-1a1e49890165"
      },
      "execution_count": null,
      "outputs": [
        {
          "output_type": "stream",
          "name": "stdout",
          "text": [
            "Python의 갯수는?  3\n",
            "Java의 갯수는?  0\n"
          ]
        }
      ]
    },
    {
      "cell_type": "markdown",
      "source": [
        "## startswith, endswith\n",
        "- 각 문자열이 지정된 문자로 시작하는지 또는 끝나는지 체크, 검사할 때 사용"
      ],
      "metadata": {
        "id": "SOa4LnivD-lo"
      }
    },
    {
      "cell_type": "code",
      "source": [
        "str_c = \"Python is powerful. Python is easy to learn. Python is open.\"\n",
        "print(\"Python으로 시작하는가? \", str_c.startswith(\"Python\"))\n",
        "print(\"is로 시작하는가? \", str_c.startswith(\"is\"))\n",
        "print(\"'.'로 끝나는가? \", str_c.endswith(\".\"))"
      ],
      "metadata": {
        "colab": {
          "base_uri": "https://localhost:8080/"
        },
        "id": "j0EA7EPxEFwF",
        "outputId": "0674fd45-c5e0-4616-a7bc-5cbf70131fe2"
      },
      "execution_count": null,
      "outputs": [
        {
          "output_type": "stream",
          "name": "stdout",
          "text": [
            "Python으로 시작하는가?  True\n",
            "is로 시작하는가?  False\n",
            "'.'로 끝나는가?  True\n"
          ]
        }
      ]
    },
    {
      "cell_type": "markdown",
      "source": [
        "## replace(): 문자열 바꾸기\n",
        "- 지정한 문자열을 찾아서 바꾸는 메소드"
      ],
      "metadata": {
        "id": "rVzuI7DUFE9G"
      }
    },
    {
      "cell_type": "code",
      "source": [
        "str_a = \"Python is fast. Python is friendly. Python is open.\"\n",
        "\n",
        "# Pyhton을 IPyhton으로 변경\n",
        "print(str_a.replace(\"Python\", \"IPyhton\"))"
      ],
      "metadata": {
        "colab": {
          "base_uri": "https://localhost:8080/"
        },
        "id": "Ygd-DAthFFYi",
        "outputId": "a0642e59-766a-42d3-bb15-22fcb6eac697"
      },
      "execution_count": null,
      "outputs": [
        {
          "output_type": "stream",
          "name": "stdout",
          "text": [
            "IPyhton is fast. IPyhton is friendly. IPyhton is open.\n"
          ]
        }
      ]
    },
    {
      "cell_type": "code",
      "source": [
        "str_b = \"[Python][is][fast]\"\n",
        "str_b1 = str_b.replace(\"[\",\" \")\n",
        "str_b2 = str_b1.replace(\"]\", \" \")\n",
        "print(str_b2)\n",
        "result = str_b2.rstrip() #뒤의 공백을 제거\n",
        "print(result)"
      ],
      "metadata": {
        "colab": {
          "base_uri": "https://localhost:8080/"
        },
        "id": "5oicIn50Fozh",
        "outputId": "ebb36862-3123-4af2-e08a-73ac55fce26b"
      },
      "execution_count": null,
      "outputs": [
        {
          "output_type": "stream",
          "name": "stdout",
          "text": [
            " Python  is  fast \n",
            " Python  is  fast\n"
          ]
        }
      ]
    },
    {
      "cell_type": "markdown",
      "source": [
        "# 리스트 함수\n",
        "- 교제(54페이지)"
      ],
      "metadata": {
        "id": "Mz1zfN7PxbID"
      }
    },
    {
      "cell_type": "markdown",
      "source": [
        "## 클래스"
      ],
      "metadata": {
        "id": "iIS42dbnKr58"
      }
    },
    {
      "cell_type": "markdown",
      "source": [
        "## append()\n",
        "- 리스트에서 항목 하나를 맨 마지막에 추가"
      ],
      "metadata": {
        "id": "ljUBtMiCPGPU"
      }
    },
    {
      "cell_type": "code",
      "execution_count": null,
      "metadata": {
        "colab": {
          "base_uri": "https://localhost:8080/"
        },
        "id": "AjVAjvuow4vI",
        "outputId": "94b4ea67-b1ff-4bd7-bebd-ce7d0bf84d57"
      },
      "outputs": [
        {
          "output_type": "stream",
          "name": "stdout",
          "text": [
            "['김영환', '황동건', '박권일', '최신우', '김정준']\n"
          ]
        }
      ],
      "source": [
        "myFriends = [\"김영환\", \"황동건\", \"박권일\", \"최신우\"]\n",
        "# result = myFriends.append(\"김정준\")\n",
        "# print(result)\n",
        "# 저거 하면 None\n",
        "myFriends.append(\"김정준\")\n",
        "print(myFriends)"
      ]
    },
    {
      "cell_type": "code",
      "source": [
        "myFriends = [\"황동건\", \"박권일\", \"김정준\"]\n",
        "print(myFriends)\n",
        "newFriends = [\"최신우\"]\n",
        "myFriends2 = myFriends + newFriends\n",
        "print(myFriends2)\n",
        "\n",
        "## 이것도 리스트에 값을 추가하지만 연산자를 쓰고 새로운 리스트를 만들어야 하는 단점이 있다."
      ],
      "metadata": {
        "colab": {
          "base_uri": "https://localhost:8080/"
        },
        "id": "dZexnyhSO6sx",
        "outputId": "1ecaa3b1-7743-4b35-e73f-22d8d0693e82"
      },
      "execution_count": null,
      "outputs": [
        {
          "output_type": "stream",
          "name": "stdout",
          "text": [
            "['황동건', '박권일', '김정준']\n",
            "['황동건', '박권일', '김정준', '최신우']\n"
          ]
        }
      ]
    },
    {
      "cell_type": "markdown",
      "source": [
        "## extend()\n",
        "- 리스트 마지막에 여러 항목들을 추가"
      ],
      "metadata": {
        "id": "hut839duPPB5"
      }
    },
    {
      "cell_type": "code",
      "source": [
        "myFriends = [\"김영환\", \"황동건\", \"박권일\", \"최신우\"]\n",
        "myFriends.append(\"김정준\")\n",
        "\n",
        "newFriends = [\"정영훈\", \"이재훈\", \"송준성\"]\n",
        "myFriends.append(newFriends)\n",
        "print(myFriends)"
      ],
      "metadata": {
        "colab": {
          "base_uri": "https://localhost:8080/"
        },
        "id": "pQQcjucRPUbQ",
        "outputId": "a0963714-c82f-499b-ec1b-b0ed99e9ba53"
      },
      "execution_count": null,
      "outputs": [
        {
          "output_type": "stream",
          "name": "stdout",
          "text": [
            "['김영환', '황동건', '박권일', '최신우', '김정준', ['정영훈', '이재훈', '송준성']]\n"
          ]
        }
      ]
    },
    {
      "cell_type": "code",
      "source": [
        "myFriends = [\"김영환\", \"황동건\", \"박권일\", \"최신우\", \"김정준\"]\n",
        "newFriends = [\"정영훈\", \"이재훈\", \"송준성\"]\n",
        "myFriends.extend(newFriends)\n",
        "print(myFriends)"
      ],
      "metadata": {
        "colab": {
          "base_uri": "https://localhost:8080/"
        },
        "id": "ksxFKj_eP1so",
        "outputId": "5d208a4d-ea7b-4f3d-a19b-558939955c37"
      },
      "execution_count": null,
      "outputs": [
        {
          "output_type": "stream",
          "name": "stdout",
          "text": [
            "['김영환', '황동건', '박권일', '최신우', '김정준', '정영훈', '이재훈', '송준성']\n"
          ]
        }
      ]
    },
    {
      "cell_type": "markdown",
      "source": [
        "## insert()"
      ],
      "metadata": {
        "id": "NbIIvO0jQOZT"
      }
    },
    {
      "cell_type": "code",
      "source": [
        "myFriends.insert(3, \"김사미\")\n",
        "# 3의 위치에 김사미를 삽입\n",
        "print(myFriends)\n",
        "myFriends.insert(-1, \"양상원\")\n",
        "print(myFriends)"
      ],
      "metadata": {
        "colab": {
          "base_uri": "https://localhost:8080/"
        },
        "id": "Y1DfDBSAQXEB",
        "outputId": "837e9ea5-5e5f-4cbf-aa81-11f2d7a290d8"
      },
      "execution_count": null,
      "outputs": [
        {
          "output_type": "stream",
          "name": "stdout",
          "text": [
            "['김영환', '황동건', '박권일', '김사미', '최신우', '김정준', '정영훈', '이재훈', '송준성']\n",
            "['김영환', '황동건', '박권일', '김사미', '최신우', '김정준', '정영훈', '이재훈', '양상원', '송준성']\n"
          ]
        }
      ]
    },
    {
      "cell_type": "code",
      "source": [
        "ex_list = [\"a\", \"b\", \"c\", \"d\"]\n",
        "ex_list.insert(-1, \"e\")\n",
        "print(ex_list)\n",
        "# e가 맨 끝으로 안 감"
      ],
      "metadata": {
        "colab": {
          "base_uri": "https://localhost:8080/"
        },
        "id": "Dlgv3PggTmDg",
        "outputId": "70cf7d68-2065-4df9-aa7c-1dd51a637867"
      },
      "execution_count": null,
      "outputs": [
        {
          "output_type": "stream",
          "name": "stdout",
          "text": [
            "['a', 'b', 'c', 'e', 'd']\n"
          ]
        }
      ]
    },
    {
      "cell_type": "code",
      "source": [
        "ex_list = [\"a\", \"b\", \"c\", \"d\"]\n",
        "ex_list.insert(len(ex_list), \"e\")\n",
        "print(ex_list)\n",
        "## 아니면 append 함수 쓰기\n",
        "ex_list.append(\"f\")\n",
        "print(ex_list)"
      ],
      "metadata": {
        "colab": {
          "base_uri": "https://localhost:8080/"
        },
        "id": "8U8xrgNhl9EW",
        "outputId": "3052f79a-b1cb-445d-f751-a9c8c560978d"
      },
      "execution_count": null,
      "outputs": [
        {
          "output_type": "stream",
          "name": "stdout",
          "text": [
            "['a', 'b', 'c', 'd', 'e']\n",
            "['a', 'b', 'c', 'd', 'e', 'f']\n"
          ]
        }
      ]
    },
    {
      "cell_type": "markdown",
      "source": [
        "## 함수\n",
        "- 함수를 직접 만들어서 쓰기 -> 클래스\n",
        "- 의미있는 함수를 만드는 작업 : 프로젝트"
      ],
      "metadata": {
        "id": "h2cz_jqlnkIJ"
      }
    },
    {
      "cell_type": "code",
      "source": [
        "# 함수의 구조\n",
        "# 매개변수, 인자\n",
        "# 교재 페이지 116\n",
        "#def 함수명([인자1, 인자2, ...,인자n]):\n",
        "  # 코드 블록\n",
        "  # return 반환"
      ],
      "metadata": {
        "id": "6YNjPk3Mpqgk"
      },
      "execution_count": null,
      "outputs": []
    },
    {
      "cell_type": "code",
      "source": [
        "def mySum(a, b):\n",
        "  c = a + b\n",
        "  return c\n",
        "a = 1\n",
        "b = 2\n",
        "\n",
        "result = mySum(a, b)\n",
        "print(result)"
      ],
      "metadata": {
        "colab": {
          "base_uri": "https://localhost:8080/"
        },
        "id": "Xlfov_ZAqOur",
        "outputId": "74ca267c-d67c-460e-b245-cd38e1f568eb"
      },
      "execution_count": null,
      "outputs": [
        {
          "output_type": "stream",
          "name": "stdout",
          "text": [
            "3\n"
          ]
        }
      ]
    },
    {
      "cell_type": "code",
      "source": [
        "def mySubtract(a, b):\n",
        "  c = a - b\n",
        "  return c\n",
        "c = 3\n",
        "d = 2\n",
        "print(mySubtract(c, d))"
      ],
      "metadata": {
        "colab": {
          "base_uri": "https://localhost:8080/"
        },
        "id": "w5bkHNlaryer",
        "outputId": "8e2004f5-f0f9-45e4-b7b1-069690c75fcf"
      },
      "execution_count": null,
      "outputs": [
        {
          "output_type": "stream",
          "name": "stdout",
          "text": [
            "1\n"
          ]
        }
      ]
    },
    {
      "cell_type": "code",
      "source": [
        "def mySubtract(a, b = 0):\n",
        "  c = a - b\n",
        "  return c\n",
        "\n",
        "m = 1\n",
        "print(mySubtract(10))\n",
        "#b를 0으로 초깃값이 설정 되어있기 때문에 오류 안"
      ],
      "metadata": {
        "colab": {
          "base_uri": "https://localhost:8080/"
        },
        "id": "ZUitKhH6vFmY",
        "outputId": "06c5b534-628c-469e-d60d-c3ba7d52ee3a"
      },
      "execution_count": null,
      "outputs": [
        {
          "output_type": "stream",
          "name": "stdout",
          "text": [
            "10\n"
          ]
        }
      ]
    },
    {
      "cell_type": "code",
      "source": [
        "n = 10\n",
        "f = 100\n",
        "print(mySubtract(n, f))\n",
        "# b가 100으로 새로 정의되고 그걸로 연삼함."
      ],
      "metadata": {
        "colab": {
          "base_uri": "https://localhost:8080/"
        },
        "id": "tcCviJgyvql6",
        "outputId": "c282f59e-404a-4789-da17-6ab57a4001b6"
      },
      "execution_count": null,
      "outputs": [
        {
          "output_type": "stream",
          "name": "stdout",
          "text": [
            "-90\n"
          ]
        }
      ]
    },
    {
      "cell_type": "code",
      "source": [
        "def my_func():\n",
        "  print(\"My first function\")\n",
        "  print(\"This is a function\")\n",
        "my_func() #반환값이 없는 메서드. 변수를 넣지 않아도 결과가 나옴"
      ],
      "metadata": {
        "colab": {
          "base_uri": "https://localhost:8080/"
        },
        "id": "pR2TFxnlz6IA",
        "outputId": "af701f08-c866-4cef-afa7-bc3d477974a6"
      },
      "execution_count": null,
      "outputs": [
        {
          "output_type": "stream",
          "name": "stdout",
          "text": [
            "My first function\n",
            "This is a function\n"
          ]
        }
      ]
    },
    {
      "cell_type": "code",
      "source": [
        "def mySum(a, b = 0):\n",
        "  c = a + b\n",
        "  print(f\"함수 잘 작동 중 이면 {c} 가 나와야 함\")\n",
        "\n",
        "a = 1\n",
        "result = mySum(a)\n",
        "print(result)\n",
        "\n",
        "#None이라고 나온 이유는 반환값이 없기 때문에"
      ],
      "metadata": {
        "colab": {
          "base_uri": "https://localhost:8080/"
        },
        "id": "NbB7M2lm003J",
        "outputId": "c5701a5a-b134-4546-96e4-8c3266824279"
      },
      "execution_count": null,
      "outputs": [
        {
          "output_type": "stream",
          "name": "stdout",
          "text": [
            "함수 잘 작동 중 이면 1 가 나와야 함\n",
            "None\n"
          ]
        }
      ]
    },
    {
      "cell_type": "code",
      "source": [
        "def mySum(a, b = 0):\n",
        "  c = a + b\n",
        " # print(f\"함수 잘 작동 중 이면 {c} 가 나와야 함\")\n",
        "  return c\n",
        "\n",
        "a = 1\n",
        "result = mySum(a)\n",
        "print(result)"
      ],
      "metadata": {
        "colab": {
          "base_uri": "https://localhost:8080/"
        },
        "id": "b5LpASgX1UrI",
        "outputId": "bfbc9eb0-a05e-4c9b-c250-6b16fecfb13a"
      },
      "execution_count": null,
      "outputs": [
        {
          "output_type": "stream",
          "name": "stdout",
          "text": [
            "1\n"
          ]
        }
      ]
    },
    {
      "cell_type": "markdown",
      "source": [
        "### 변수의 유효범위\n",
        "- 교재 121 페이지\n",
        "- 지역 변수와 전역 변수\n",
        "- local variable and global variable"
      ],
      "metadata": {
        "id": "oJy-zKi42BEK"
      }
    },
    {
      "cell_type": "code",
      "source": [
        "a = 5 # 전역 변수\n",
        "\n",
        "def func1():\n",
        "  a = 1 # 지역 변수\n",
        "  print(f\"func1 지역 변수 a = {a}\")\n",
        "\n",
        "func1()\n",
        "print(f\"전역 변수 a = {a}\")\n",
        "\n",
        "print(a + 1)\n",
        "\n",
        "#해설\n",
        "#일반적으로 코딩은 위에서 아래로 연산하므로 a는 1이 나와야 하는데\n",
        "#지역 변수 a는 밖으로 나오지 않고 함수 내부에서만 영향을 미친다\n",
        "#전역 변수 a는 func1을 무시하고 전체에 영향을 미친다"
      ],
      "metadata": {
        "colab": {
          "base_uri": "https://localhost:8080/"
        },
        "id": "FI2BTSxK2K4H",
        "outputId": "10c4891b-5519-45cf-ee03-2307ffec39ad"
      },
      "execution_count": null,
      "outputs": [
        {
          "output_type": "stream",
          "name": "stdout",
          "text": [
            "func1 지역 변수 a = 1\n",
            "전역 변수 a = 5\n",
            "6\n"
          ]
        }
      ]
    },
    {
      "cell_type": "code",
      "source": [
        "a = 5 # 전역 변수\n",
        "\n",
        "def func1():\n",
        "  #a = 1 # 지역 변수\n",
        "  print(f\"func1 지역 변수 a = {a}\")\n",
        "\n",
        "func1()\n",
        "print(f\"전역 변수 a = {a}\")\n",
        "\n",
        "#해설\n",
        "#함수 내부에서 a를 재정의하지 않았기 때문에 전역 변수 a가 함수 내부까지 영향을 미치고 있다."
      ],
      "metadata": {
        "colab": {
          "base_uri": "https://localhost:8080/"
        },
        "id": "65Qfx8c83vZ6",
        "outputId": "ac474c95-6faa-4abd-a0e2-c57d80717193"
      },
      "execution_count": null,
      "outputs": [
        {
          "output_type": "stream",
          "name": "stdout",
          "text": [
            "func1 지역 변수 a = 5\n",
            "전역 변수 a = 5\n"
          ]
        }
      ]
    },
    {
      "cell_type": "code",
      "source": [
        "a = 5 # 전역 변수\n",
        "\n",
        "def func1():\n",
        "  a = 1 # 지역 변수\n",
        "  print(f\"func1 지역 변수 a = {a}\")\n",
        "\n",
        "def func2():\n",
        "  a = 4 # 지역 변수\n",
        "  print(f\"func2 지역 변수 a = {a}\")\n",
        "\n",
        "func1()\n",
        "func2()\n",
        "print(f\"전역 변수 a = {a}\")"
      ],
      "metadata": {
        "colab": {
          "base_uri": "https://localhost:8080/"
        },
        "id": "CJeC1fYV4A8L",
        "outputId": "bfcb91a2-d157-42ed-9dfe-543570a79805"
      },
      "execution_count": null,
      "outputs": [
        {
          "output_type": "stream",
          "name": "stdout",
          "text": [
            "func1 지역 변수 a = 1\n",
            "func2 지역 변수 a = 4\n",
            "전역 변수 a = 5\n"
          ]
        }
      ]
    },
    {
      "cell_type": "code",
      "source": [
        "#함수 내부에 global 지정하기\n",
        "\n",
        "a = 5 # 전역 변수\n",
        "\n",
        "def func1():\n",
        "  a = 1 # 지역 변수\n",
        "  print(f\"func1 지역 변수 a = {a}\")\n",
        "\n",
        "def func2():\n",
        "  a = 4 # 지역 변수\n",
        "  print(f\"func2 지역 변수 a = {a}\")\n",
        "\n",
        "def func3():\n",
        "  print(f\"func3 전역 변수 a = {a}\")\n",
        "\n",
        "def func4():\n",
        "  global a #함수 내에서 전역 변수를 변경하기 위함\\\n",
        "  a =  500\n",
        "  print(f\"func4 전역 변수 a = {a}\")\n",
        "\n",
        "\n",
        "func1()\n",
        "func2()\n",
        "func3()\n",
        "print(f\"전역 변수 a = {a}\")"
      ],
      "metadata": {
        "colab": {
          "base_uri": "https://localhost:8080/"
        },
        "id": "BmXBc9e14V6A",
        "outputId": "5b9eee11-3b40-4423-8416-5f7b1bafbf4a"
      },
      "execution_count": null,
      "outputs": [
        {
          "output_type": "stream",
          "name": "stdout",
          "text": [
            "func1 지역 변수 a = 1\n",
            "func2 지역 변수 a = 4\n",
            "func3 전역 변수 a = 5\n",
            "전역 변수 a = 5\n"
          ]
        }
      ]
    },
    {
      "cell_type": "code",
      "source": [
        "#함수 내부에 global 지정하기\n",
        "\n",
        "a = 5 # 전역 변수\n",
        "\n",
        "def func1():\n",
        "  a = 1 # 지역 변수\n",
        "  print(f\"func1 지역 변수 a = {a}\")\n",
        "\n",
        "def func2():\n",
        "  a = 4 # 지역 변수\n",
        "  print(f\"func2 지역 변수 a = {a}\")\n",
        "\n",
        "def func3():\n",
        "  print(f\"func3 전역 변수 a = {a}\")\n",
        "\n",
        "print(f\"func4를 거치기 전의 전역 변수 a = {a}\")\n",
        "\n",
        "def func4():\n",
        "  global a #함수 내에서 전역 변수를 변경하기 위함\n",
        "  a =  500\n",
        "  print(f\"func4 전역 변수 a = {a}\")\n",
        "\n",
        "\n",
        "func1()\n",
        "func2()\n",
        "func3()\n",
        "func4()\n",
        "print(f\"전역 변수 a = {a}\")\n",
        "func3()\n",
        "\n",
        "#func4() 를 선언해야 글로벌도 바뀜"
      ],
      "metadata": {
        "colab": {
          "base_uri": "https://localhost:8080/"
        },
        "id": "V8feMqJz5AlE",
        "outputId": "eb148b85-b871-4846-aeeb-4e0ec285b8c1"
      },
      "execution_count": null,
      "outputs": [
        {
          "output_type": "stream",
          "name": "stdout",
          "text": [
            "func4를 거치기 전의 전역 변수 a = 5\n",
            "func1 지역 변수 a = 1\n",
            "func2 지역 변수 a = 4\n",
            "func3 전역 변수 a = 5\n",
            "func4 전역 변수 a = 500\n",
            "전역 변수 a = 500\n",
            "func3 전역 변수 a = 500\n"
          ]
        }
      ]
    },
    {
      "cell_type": "markdown",
      "source": [
        "### 람다 함수\n",
        "- def 함수는 복잡한 함수 로직을 만들 때 주로 사용함\n",
        "- 람다 함수는 단순 기능을 수행할 때 사용함\n",
        "- 함수는 한줄로 처리"
      ],
      "metadata": {
        "id": "tmaCr8va6wzT"
      }
    },
    {
      "cell_type": "code",
      "source": [
        "(lambda x : x ** 2)(3)\n",
        "# (lambda 인자(=매개변수) : 인자를 활용한 코드)(원하는 인자 코드 입력)\n",
        "\n",
        "print((lambda x : x ** 2)(3))\n",
        "\n",
        "def myPower(x):\n",
        "  y = x ** 2\n",
        "  print(y)\n",
        "myPower(3)"
      ],
      "metadata": {
        "colab": {
          "base_uri": "https://localhost:8080/"
        },
        "id": "I3loSJ7h6wJ9",
        "outputId": "a2349149-2f2e-4ab0-fc23-44fe529b7939"
      },
      "execution_count": null,
      "outputs": [
        {
          "output_type": "stream",
          "name": "stdout",
          "text": [
            "9\n",
            "9\n"
          ]
        }
      ]
    },
    {
      "cell_type": "code",
      "source": [
        "mySquare = lambda x : x ** 2\n",
        "mySquare(5)"
      ],
      "metadata": {
        "colab": {
          "base_uri": "https://localhost:8080/"
        },
        "id": "d-IMa1dr71M0",
        "outputId": "63d7872f-661b-454f-970d-d0c562d729be"
      },
      "execution_count": null,
      "outputs": [
        {
          "output_type": "execute_result",
          "data": {
            "text/plain": [
              "25"
            ]
          },
          "metadata": {},
          "execution_count": 62
        }
      ]
    },
    {
      "cell_type": "markdown",
      "source": [
        "## 클래스 선언과 객체 생성\n",
        "- 교재 135 페이지\n",
        "- 함수의 확장\n",
        "- 비유\n",
        "- 함수: 각 덧셈, 뺄셈, 곱셈 등\n",
        "- 클래스: 사칙연산 모음, 계산기 그 자체\n",
        "- 라이브러리: 클래스들의 묶음\n",
        "- 수학 라이브러리 안에 사칙연산 클래스, 기하 클래스, 미적분 클래스 (...)\n"
      ],
      "metadata": {
        "id": "HnvTrIIQA_xf"
      }
    },
    {
      "cell_type": "code",
      "source": [
        "# 자전거의 속성 : data (바퀴의 크기, 자전거의 색상)\n",
        "# 자전거의 동작 : method, function (지정된 속도로 이동, 좌/우회전, 정지 기능)"
      ],
      "metadata": {
        "id": "uz4u8JD2A_il"
      },
      "execution_count": null,
      "outputs": []
    },
    {
      "cell_type": "code",
      "source": [
        "class Bicycle():#클래스 선언\n",
        "  #클래스 변수\n",
        "  data1 = 바퀴의 크기\n",
        "  data2 = 자전거의 색상\n",
        "\n",
        "  #클래스 메서드\n",
        "  def speed():\n",
        "    pass\n",
        "\n",
        "  def direction():\n",
        "    pass\n",
        "\n",
        "  def 정지():\n",
        "    pass\n",
        "\n",
        "객체명 = Bicycle(data1, data2) # 입력한 형태로 새로운 객체가 생김\n",
        "\n",
        "#if 케이스\n",
        "벤츠자전거 = Bicycle(data1, data2) #매장옵션\n",
        "\n",
        "#문의: 벤치자전거에 비행하는 기능 추가를 원함 -> 없으니 거절.\n"
      ],
      "metadata": {
        "id": "UyYNQgGkEDAy"
      },
      "execution_count": null,
      "outputs": []
    },
    {
      "cell_type": "code",
      "source": [
        "#리스트라는 클래스 안에 count()라는 동작을 만듦\n",
        "fruits = ['orange', 'apple', 'pear', 'banana', 'kiwi', 'apple', 'banana']\n",
        "fruits.count('apple')"
      ],
      "metadata": {
        "colab": {
          "base_uri": "https://localhost:8080/"
        },
        "id": "z0he0zcmF6S6",
        "outputId": "7bbb9dba-e3bc-45c6-f977-f7c4c9ebe94d"
      },
      "execution_count": null,
      "outputs": [
        {
          "output_type": "execute_result",
          "data": {
            "text/plain": [
              "2"
            ]
          },
          "metadata": {},
          "execution_count": 64
        }
      ]
    },
    {
      "cell_type": "markdown",
      "source": [
        "### 프로그래밍 관점에서 왜 클래스냐?\n"
      ],
      "metadata": {
        "id": "3TWkiguFJOpb"
      }
    },
    {
      "cell_type": "code",
      "source": [
        "result1 = 0\n",
        "result2 = 0\n",
        "\n",
        "def add1(num):\n",
        "  global result1\n",
        "\n",
        "  result1 = result1 + num\n",
        "  return result1\n",
        "\n",
        "def add2(num):\n",
        "  global result2\n",
        "\n",
        "  result2 = result2 + num\n",
        "  return result2\n",
        "\n",
        "print(add1(3))\n",
        "print(add2(5))\n",
        "\n",
        "#같은 기능을 하는 함수가 중복되어서 나타남. 가독성이 떨어짐."
      ],
      "metadata": {
        "colab": {
          "base_uri": "https://localhost:8080/"
        },
        "id": "gPf_IiUtJLdj",
        "outputId": "a3d857bc-43fe-4f68-f6b0-c4cb8c43d926"
      },
      "execution_count": null,
      "outputs": [
        {
          "output_type": "stream",
          "name": "stdout",
          "text": [
            "3\n",
            "5\n"
          ]
        }
      ]
    },
    {
      "cell_type": "code",
      "source": [
        "class Calculator:\n",
        "  # __init__ : 함수를 만들기 전에 변수를 초기화함\n",
        "  #바로 위 tpfdml result = 0 과 같은 역할\n",
        "  def __init__(self):\n",
        "    self.result = 0\n",
        "  # 클래스 메서드\n",
        "  def add(self, num):\n",
        "    self.result = self.result + num\n",
        "    return self.result\n",
        "    #init의 0 값을 받고, num을 더함. 그리고 다시 init의 self result로 반환한다.\n",
        "\n",
        "cal1 = Calculator() #인스턴스화, 계산기 1호기를 만듦\n",
        "cal2 = Calculator()\n",
        "\n",
        "print(cal1.add(3)) #cal1(add(3))이 아님!. 실수함, 위의 클래스에서 add는 메서드로 등록되어 있다. 연산자?가 아니\n",
        "print(cal1.add(5))\n",
        "print(cal2.add(10))\n",
        "\n",
        "#위의 셀보다 확연하게 짧아짐\n",
        "#독립적으로 구현되고 동시에 실행되고 있"
      ],
      "metadata": {
        "colab": {
          "base_uri": "https://localhost:8080/"
        },
        "id": "u8Y0UDqLJ44U",
        "outputId": "4e315a5a-653e-4ce1-e776-c2ec2a1ab5a0"
      },
      "execution_count": null,
      "outputs": [
        {
          "output_type": "stream",
          "name": "stdout",
          "text": [
            "3\n",
            "8\n",
            "10\n"
          ]
        }
      ]
    },
    {
      "cell_type": "code",
      "source": [
        "print(cal2.add(40))"
      ],
      "metadata": {
        "colab": {
          "base_uri": "https://localhost:8080/"
        },
        "id": "KYvUFc9HUYYm",
        "outputId": "e252f21c-6b00-4de0-89b0-2008c4ea531c"
      },
      "execution_count": null,
      "outputs": [
        {
          "output_type": "stream",
          "name": "stdout",
          "text": [
            "50\n"
          ]
        }
      ]
    },
    {
      "cell_type": "markdown",
      "source": [
        "### 객체 초기화\n",
        "- __init__ 메서드 : 객체 생성과 동시에 속성값을 지정할 수 있다.\n",
        "  + 주로 클래스 선언 시 변수 초기화 목적으로 사용함"
      ],
      "metadata": {
        "id": "52lE31bRVAYY"
      }
    },
    {
      "cell_type": "code",
      "source": [
        "class Bicycle():\n",
        "\n",
        "  def __init__(self, wheel_size, color):\n",
        "    self.wheel_size = wheel_size\n",
        "    self.color = color\n",
        "\n",
        "  def stop(self):\n",
        "    print(\"자전거({0}, {1}) : 정지\".format(self.wheel_size, self.color))"
      ],
      "metadata": {
        "id": "cFhhAajmVY5B"
      },
      "execution_count": null,
      "outputs": []
    },
    {
      "cell_type": "code",
      "source": [
        "my_bicycle = Bicycle(26, \"black\")\n",
        "your_bicycle = Bicycle(30, \"pink\")\n",
        "\n",
        "my_bicycle.stop()\n",
        "your_bicycle.stop()\n",
        "#실행 결과 26에 검은색 자전거가 정지한다.\n",
        "#실행 결과 30에 핑크색 자전거가 정지한다."
      ],
      "metadata": {
        "colab": {
          "base_uri": "https://localhost:8080/"
        },
        "id": "9GJJCaHLWHfG",
        "outputId": "2098ee7a-81ff-411a-fc79-7dcac857c411"
      },
      "execution_count": null,
      "outputs": [
        {
          "output_type": "stream",
          "name": "stdout",
          "text": [
            "자전거(26, black) : 정지\n",
            "자전거(30, pink) : 정지\n"
          ]
        }
      ]
    },
    {
      "cell_type": "code",
      "source": [],
      "metadata": {
        "id": "pWROOZE5W3t0"
      },
      "execution_count": null,
      "outputs": []
    }
  ]
}