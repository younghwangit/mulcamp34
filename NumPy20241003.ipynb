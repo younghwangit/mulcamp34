{
  "cells": [
    {
      "cell_type": "markdown",
      "metadata": {
        "id": "view-in-github",
        "colab_type": "text"
      },
      "source": [
        "<a href=\"https://colab.research.google.com/github/younghwangit/mulcamp34/blob/main/NumPy20241003.ipynb\" target=\"_parent\"><img src=\"https://colab.research.google.com/assets/colab-badge.svg\" alt=\"Open In Colab\"/></a>"
      ]
    },
    {
      "cell_type": "code",
      "execution_count": null,
      "id": "b2eb5e46-bc17-4496-bc47-dd69b51e35e0",
      "metadata": {
        "id": "b2eb5e46-bc17-4496-bc47-dd69b51e35e0",
        "outputId": "c40a0dbd-8055-4629-dae1-ea65d9fbb8b6"
      },
      "outputs": [
        {
          "name": "stdout",
          "output_type": "stream",
          "text": [
            "1.26.2\n"
          ]
        }
      ],
      "source": [
        "import numpy as np #NumPy 라이브러리 불러오기\n",
        "print(np.__version__)"
      ]
    },
    {
      "cell_type": "code",
      "execution_count": null,
      "id": "7f7e8e54-a952-4d20-8c98-5ced4f966beb",
      "metadata": {
        "id": "7f7e8e54-a952-4d20-8c98-5ced4f966beb",
        "outputId": "939214ed-020a-4b46-ed01-dcfcbc1c3da9"
      },
      "outputs": [
        {
          "data": {
            "text/plain": [
              "[1, 2, 3, 4, 3, 4, 5, 6]"
            ]
          },
          "execution_count": 79,
          "metadata": {},
          "output_type": "execute_result"
        }
      ],
      "source": [
        "num1 = [1 ,2, 3, 4]\n",
        "num2 = [3, 4, 5, 6]\n",
        "\n",
        "num1 + num2 #배열끼지의 합이 어려움"
      ]
    },
    {
      "cell_type": "code",
      "execution_count": null,
      "id": "24b12531-fed8-4bad-9682-69f1285766b8",
      "metadata": {
        "id": "24b12531-fed8-4bad-9682-69f1285766b8",
        "outputId": "1083fc93-e5cc-42cc-9371-3fe97e1e714a"
      },
      "outputs": [
        {
          "data": {
            "text/plain": [
              "array([1, 2, 3, 4])"
            ]
          },
          "execution_count": 80,
          "metadata": {},
          "output_type": "execute_result"
        }
      ],
      "source": [
        "arr1 = np.array(num1)\n",
        "arr2 = np.array(num2)\n",
        "arr1"
      ]
    },
    {
      "cell_type": "code",
      "execution_count": null,
      "id": "8d5814b2-8705-4f8b-b2be-b636538d59d4",
      "metadata": {
        "id": "8d5814b2-8705-4f8b-b2be-b636538d59d4",
        "outputId": "f1ee2927-b6e1-41c6-e093-d66a209fd80d"
      },
      "outputs": [
        {
          "data": {
            "text/plain": [
              "array([3, 4, 5, 6])"
            ]
          },
          "execution_count": 81,
          "metadata": {},
          "output_type": "execute_result"
        }
      ],
      "source": [
        "arr2"
      ]
    },
    {
      "cell_type": "code",
      "execution_count": null,
      "id": "47c1938b-581b-4ea5-9044-2b2864e7c1ee",
      "metadata": {
        "id": "47c1938b-581b-4ea5-9044-2b2864e7c1ee",
        "outputId": "b25b5242-3912-4df3-b803-0baf9fdc3d71"
      },
      "outputs": [
        {
          "data": {
            "text/plain": [
              "array([ 4,  6,  8, 10])"
            ]
          },
          "execution_count": 82,
          "metadata": {},
          "output_type": "execute_result"
        }
      ],
      "source": [
        "arr1 + arr2 #배열끼리의 합산이 가능함"
      ]
    },
    {
      "cell_type": "code",
      "execution_count": null,
      "id": "945f8932-758c-4119-8fa1-059c6371d017",
      "metadata": {
        "id": "945f8932-758c-4119-8fa1-059c6371d017",
        "outputId": "2fdcd7d3-28cf-4c81-d1bc-8ad1b6e5e02d"
      },
      "outputs": [
        {
          "data": {
            "text/plain": [
              "array([0, 1, 2, 3, 4, 5])"
            ]
          },
          "execution_count": 83,
          "metadata": {},
          "output_type": "execute_result"
        }
      ],
      "source": [
        "data1 = [0, 1, 2, 3, 4, 5,]\n",
        "a1 = np.array(data1)\n",
        "a1"
      ]
    },
    {
      "cell_type": "code",
      "execution_count": null,
      "id": "1216197d-df2b-46f0-9371-28c62c3865e7",
      "metadata": {
        "id": "1216197d-df2b-46f0-9371-28c62c3865e7",
        "outputId": "c91e4548-4e2e-4db8-beb8-c06b147d1cce"
      },
      "outputs": [
        {
          "data": {
            "text/plain": [
              "dtype('int32')"
            ]
          },
          "execution_count": 84,
          "metadata": {},
          "output_type": "execute_result"
        }
      ],
      "source": [
        "a1.dtype #출력: int32 #비트단위로 출려됨"
      ]
    },
    {
      "cell_type": "code",
      "execution_count": null,
      "id": "08ede7f3-e0cc-45cb-a190-fe7ad4bf6b44",
      "metadata": {
        "id": "08ede7f3-e0cc-45cb-a190-fe7ad4bf6b44",
        "outputId": "3821867b-9d0e-4643-e22c-f95fd7a63204"
      },
      "outputs": [
        {
          "data": {
            "text/plain": [
              "dtype('float64')"
            ]
          },
          "execution_count": 85,
          "metadata": {},
          "output_type": "execute_result"
        }
      ],
      "source": [
        "np.array([0.5, 2, 0.01, 8]).dtype #출려기 float64"
      ]
    },
    {
      "cell_type": "code",
      "execution_count": null,
      "id": "94a5e3ad-b7b9-42a3-a89f-c68ca907efc7",
      "metadata": {
        "id": "94a5e3ad-b7b9-42a3-a89f-c68ca907efc7"
      },
      "outputs": [],
      "source": [
        "#Numpy 배열 생성"
      ]
    },
    {
      "cell_type": "code",
      "execution_count": null,
      "id": "e59603a1-ca0b-463f-bf02-e5d22bd4f29d",
      "metadata": {
        "id": "e59603a1-ca0b-463f-bf02-e5d22bd4f29d",
        "outputId": "b0e7ad66-abee-447a-b223-861373dad076"
      },
      "outputs": [
        {
          "data": {
            "text/plain": [
              "array([0, 2, 4, 6, 8])"
            ]
          },
          "execution_count": 88,
          "metadata": {},
          "output_type": "execute_result"
        }
      ],
      "source": [
        "np.arange(0, 10, 2)"
      ]
    },
    {
      "cell_type": "code",
      "execution_count": null,
      "id": "d0da7baf-154c-4eb1-9266-c03f59de76b5",
      "metadata": {
        "id": "d0da7baf-154c-4eb1-9266-c03f59de76b5",
        "outputId": "5efc194e-f6b5-4419-92c5-8f6756c0edce"
      },
      "outputs": [
        {
          "data": {
            "text/plain": [
              "array([ 1,  2,  3,  4,  5,  6,  7,  8,  9, 10])"
            ]
          },
          "execution_count": 89,
          "metadata": {},
          "output_type": "execute_result"
        }
      ],
      "source": [
        "np.arange(1, 11)"
      ]
    },
    {
      "cell_type": "code",
      "execution_count": null,
      "id": "bd16bdc7-e655-43f9-85b4-7c349d5b04e8",
      "metadata": {
        "id": "bd16bdc7-e655-43f9-85b4-7c349d5b04e8",
        "outputId": "4683b8a2-8d7f-4cbe-ef41-5abd3a28328b"
      },
      "outputs": [
        {
          "data": {
            "text/plain": [
              "array([0, 1, 2, 3, 4, 5, 6, 7, 8, 9])"
            ]
          },
          "execution_count": 90,
          "metadata": {},
          "output_type": "execute_result"
        }
      ],
      "source": [
        "np.arange(10) #1차원 배열을 2차원 또는 3차원으로 변경"
      ]
    },
    {
      "cell_type": "code",
      "execution_count": null,
      "id": "9535159a-e095-4999-bcb7-f541ed999c02",
      "metadata": {
        "id": "9535159a-e095-4999-bcb7-f541ed999c02",
        "outputId": "b79ce1cc-859a-4d96-89fe-730e6f38b4bb"
      },
      "outputs": [
        {
          "data": {
            "text/plain": [
              "array([[ 0,  1,  2],\n",
              "       [ 3,  4,  5],\n",
              "       [ 6,  7,  8],\n",
              "       [ 9, 10, 11]])"
            ]
          },
          "execution_count": 91,
          "metadata": {},
          "output_type": "execute_result"
        }
      ],
      "source": [
        "np.arange(12).reshape(4 ,3) #12 = 4 * 3"
      ]
    },
    {
      "cell_type": "code",
      "execution_count": null,
      "id": "b62311d4-dfd2-4551-8102-ce1ccfaa1aaf",
      "metadata": {
        "id": "b62311d4-dfd2-4551-8102-ce1ccfaa1aaf",
        "outputId": "8dc85209-e8e4-40f1-82dd-b3d8de588aa1"
      },
      "outputs": [
        {
          "ename": "ValueError",
          "evalue": "cannot reshape array of size 12 into shape (4,5)",
          "output_type": "error",
          "traceback": [
            "\u001b[1;31m---------------------------------------------------------------------------\u001b[0m",
            "\u001b[1;31mValueError\u001b[0m                                Traceback (most recent call last)",
            "Cell \u001b[1;32mIn[92], line 1\u001b[0m\n\u001b[1;32m----> 1\u001b[0m \u001b[43mnp\u001b[49m\u001b[38;5;241;43m.\u001b[39;49m\u001b[43marange\u001b[49m\u001b[43m(\u001b[49m\u001b[38;5;241;43m12\u001b[39;49m\u001b[43m)\u001b[49m\u001b[38;5;241;43m.\u001b[39;49m\u001b[43mreshape\u001b[49m\u001b[43m(\u001b[49m\u001b[38;5;241;43m4\u001b[39;49m\u001b[43m,\u001b[49m\u001b[43m \u001b[49m\u001b[38;5;241;43m5\u001b[39;49m\u001b[43m)\u001b[49m\n",
            "\u001b[1;31mValueError\u001b[0m: cannot reshape array of size 12 into shape (4,5)"
          ]
        }
      ],
      "source": [
        "np.arange(12).reshape(4, 5) #12 != 4 * 5"
      ]
    },
    {
      "cell_type": "code",
      "execution_count": null,
      "id": "06e9af49-7d79-473b-ad67-7c848ea953fb",
      "metadata": {
        "id": "06e9af49-7d79-473b-ad67-7c848ea953fb",
        "outputId": "651cf301-52a5-4a6c-8a64-7815a5e433fd"
      },
      "outputs": [
        {
          "data": {
            "text/plain": [
              "array([[[ 0,  1,  2],\n",
              "        [ 3,  4,  5]],\n",
              "\n",
              "       [[ 6,  7,  8],\n",
              "        [ 9, 10, 11]]])"
            ]
          },
          "execution_count": 93,
          "metadata": {},
          "output_type": "execute_result"
        }
      ],
      "source": [
        "np.arange(12).reshape(2, 2, 3) #3차원으로 배열 변경. #12 = 2 * 2 * 3"
      ]
    },
    {
      "cell_type": "code",
      "execution_count": null,
      "id": "e6a2a164-f85c-4bed-b0cc-4e3c09e50aad",
      "metadata": {
        "id": "e6a2a164-f85c-4bed-b0cc-4e3c09e50aad",
        "outputId": "a8696187-4c2e-4ae7-a02f-598e353c7a6b"
      },
      "outputs": [
        {
          "data": {
            "text/plain": [
              "(2, 2, 3)"
            ]
          },
          "execution_count": 94,
          "metadata": {},
          "output_type": "execute_result"
        }
      ],
      "source": [
        "b1 = np.arange(12).reshape(2, 2, 3)\n",
        "b1.shape #3차원임으로 확인"
      ]
    },
    {
      "cell_type": "code",
      "execution_count": null,
      "id": "3c7a4f81-7bcd-49ae-879d-ccf2cf5dbbca",
      "metadata": {
        "id": "3c7a4f81-7bcd-49ae-879d-ccf2cf5dbbca",
        "outputId": "ea02d15b-17ac-478d-9818-3fe60a2931b3"
      },
      "outputs": [
        {
          "data": {
            "text/plain": [
              "(4, 3)"
            ]
          },
          "execution_count": 95,
          "metadata": {},
          "output_type": "execute_result"
        }
      ],
      "source": [
        "b1 = np.arange(12).reshape(4, 3)\n",
        "b1.shape"
      ]
    },
    {
      "cell_type": "code",
      "execution_count": null,
      "id": "e21a9784-75ed-43cd-9c21-44f020c95e1b",
      "metadata": {
        "id": "e21a9784-75ed-43cd-9c21-44f020c95e1b",
        "outputId": "a94df52c-95b6-4edd-b3ca-bff8b8e89a5b"
      },
      "outputs": [
        {
          "data": {
            "text/plain": [
              "(5,)"
            ]
          },
          "execution_count": 96,
          "metadata": {},
          "output_type": "execute_result"
        }
      ],
      "source": [
        "b2 = np.arange(5)\n",
        "b2.shape #1차원 배열"
      ]
    },
    {
      "cell_type": "code",
      "execution_count": null,
      "id": "9f143f7f-948d-4c43-ac28-6bcd3ffafd07",
      "metadata": {
        "id": "9f143f7f-948d-4c43-ac28-6bcd3ffafd07",
        "outputId": "83c27280-c78a-459d-af5f-527aa98c10c0"
      },
      "outputs": [
        {
          "data": {
            "text/plain": [
              "array([ 0. ,  2.5,  5. ,  7.5, 10. ])"
            ]
          },
          "execution_count": 97,
          "metadata": {},
          "output_type": "execute_result"
        }
      ],
      "source": [
        "#범위의 시작과 끝 정하기 배열 생성\n",
        "np.linspace(0, 10, 5) #0과 10인덱스 사이의 범위에서 균일한 간격의 5개의 값을 생성"
      ]
    },
    {
      "cell_type": "code",
      "execution_count": null,
      "id": "f1c26589-7120-42db-b37f-f0ba26b6c64c",
      "metadata": {
        "id": "f1c26589-7120-42db-b37f-f0ba26b6c64c",
        "outputId": "57384978-8bd9-4ac4-a07f-5902c297f095"
      },
      "outputs": [
        {
          "data": {
            "text/plain": [
              "array([0.        , 0.16534698, 0.33069396, 0.49604095, 0.66138793,\n",
              "       0.82673491, 0.99208189, 1.15742887, 1.32277585, 1.48812284,\n",
              "       1.65346982, 1.8188168 , 1.98416378, 2.14951076, 2.31485774,\n",
              "       2.48020473, 2.64555171, 2.81089869, 2.97624567, 3.14159265])"
            ]
          },
          "execution_count": 98,
          "metadata": {},
          "output_type": "execute_result"
        }
      ],
      "source": [
        "np.linspace(0, np.pi, 20) #0부터 3.14... 사이에 20개의 값을 생성"
      ]
    },
    {
      "cell_type": "code",
      "execution_count": null,
      "id": "9f100ebf-102b-40bd-a9fd-9ebc9d33a028",
      "metadata": {
        "id": "9f100ebf-102b-40bd-a9fd-9ebc9d33a028",
        "outputId": "fd00cb2f-6a86-4fd9-fa59-c8000702d2da"
      },
      "outputs": [
        {
          "data": {
            "text/plain": [
              "array([0., 0., 0., 0., 0., 0., 0., 0., 0., 0.])"
            ]
          },
          "execution_count": 99,
          "metadata": {},
          "output_type": "execute_result"
        }
      ],
      "source": [
        "np.zeros(10)"
      ]
    },
    {
      "cell_type": "code",
      "execution_count": null,
      "id": "cd5e682b-7809-45fc-b56a-367a7d33b098",
      "metadata": {
        "id": "cd5e682b-7809-45fc-b56a-367a7d33b098",
        "outputId": "c7611941-beee-4b4a-b1c1-08ab617eb7df"
      },
      "outputs": [
        {
          "data": {
            "text/plain": [
              "array([[0., 0.],\n",
              "       [0., 0.]])"
            ]
          },
          "execution_count": 100,
          "metadata": {},
          "output_type": "execute_result"
        }
      ],
      "source": [
        "np.zeros((2, 2))"
      ]
    },
    {
      "cell_type": "code",
      "execution_count": null,
      "id": "8d972803-98ec-425b-813c-51104b8a9655",
      "metadata": {
        "id": "8d972803-98ec-425b-813c-51104b8a9655",
        "outputId": "c25f11f0-6320-4125-8ec2-3a8036093f78"
      },
      "outputs": [
        {
          "data": {
            "text/plain": [
              "array([1., 1., 1., 1., 1., 1., 1., 1., 1., 1.])"
            ]
          },
          "execution_count": 101,
          "metadata": {},
          "output_type": "execute_result"
        }
      ],
      "source": [
        "np.ones(10)"
      ]
    },
    {
      "cell_type": "code",
      "execution_count": null,
      "id": "cedea38f-9b92-4f15-ae44-59b26d2890c0",
      "metadata": {
        "id": "cedea38f-9b92-4f15-ae44-59b26d2890c0",
        "outputId": "b6a0457e-703d-4b37-d82e-48d62babfeb1"
      },
      "outputs": [
        {
          "data": {
            "text/plain": [
              "array([[[1., 1.],\n",
              "        [1., 1.]],\n",
              "\n",
              "       [[1., 1.],\n",
              "        [1., 1.]]])"
            ]
          },
          "execution_count": 102,
          "metadata": {},
          "output_type": "execute_result"
        }
      ],
      "source": [
        "np.ones((2, 2, 2))"
      ]
    },
    {
      "cell_type": "code",
      "execution_count": null,
      "id": "da32cdcf-bc16-427d-9867-b5586c4e9f4b",
      "metadata": {
        "id": "da32cdcf-bc16-427d-9867-b5586c4e9f4b",
        "outputId": "002da9b5-8e0f-4d9f-b664-8a105ef6f298"
      },
      "outputs": [
        {
          "data": {
            "text/plain": [
              "array([[1., 0., 0.],\n",
              "       [0., 1., 0.],\n",
              "       [0., 0., 1.]])"
            ]
          },
          "execution_count": 103,
          "metadata": {},
          "output_type": "execute_result"
        }
      ],
      "source": [
        "#단위행렬\n",
        "arrI = np.eye(3)\n",
        "arrI"
      ]
    },
    {
      "cell_type": "code",
      "execution_count": null,
      "id": "11c7c541-5535-4a38-9b72-a973f5cfdf18",
      "metadata": {
        "id": "11c7c541-5535-4a38-9b72-a973f5cfdf18",
        "outputId": "9429b8c6-ef24-4a53-f2dc-b28023224bed"
      },
      "outputs": [
        {
          "data": {
            "text/plain": [
              "(3, 3)"
            ]
          },
          "execution_count": 104,
          "metadata": {},
          "output_type": "execute_result"
        }
      ],
      "source": [
        "arrI.shape"
      ]
    },
    {
      "cell_type": "code",
      "execution_count": null,
      "id": "bae975e9-43ce-4d67-b0b2-63a657d7ccb4",
      "metadata": {
        "id": "bae975e9-43ce-4d67-b0b2-63a657d7ccb4",
        "outputId": "12fbd542-b7df-49e5-baef-ce2f84b57430"
      },
      "outputs": [
        {
          "data": {
            "text/plain": [
              "array(['1.5', '0.62'], dtype='<U4')"
            ]
          },
          "execution_count": 105,
          "metadata": {},
          "output_type": "execute_result"
        }
      ],
      "source": [
        "np.array([\"1.5\", \"0.62\"]) #문자열 데이터"
      ]
    },
    {
      "cell_type": "code",
      "execution_count": null,
      "id": "dda21935-c962-481b-9cae-72835e267cc8",
      "metadata": {
        "id": "dda21935-c962-481b-9cae-72835e267cc8",
        "outputId": "3e7eb5a2-339f-4ebe-d1ae-de301c267d71"
      },
      "outputs": [
        {
          "data": {
            "text/plain": [
              "dtype('float64')"
            ]
          },
          "execution_count": 106,
          "metadata": {},
          "output_type": "execute_result"
        }
      ],
      "source": [
        "#astype() #데이터 형변환\n",
        "arr = np.array([\"1.5\", \"0.62\"])\n",
        "numArr = arr.astype(float)\n",
        "numArr.dtype"
      ]
    },
    {
      "cell_type": "code",
      "execution_count": null,
      "id": "31e4347f-aa69-4653-b53d-86c859f4b000",
      "metadata": {
        "id": "31e4347f-aa69-4653-b53d-86c859f4b000",
        "outputId": "ee5e9025-829b-4563-a0e7-de6c8ccec419"
      },
      "outputs": [
        {
          "data": {
            "text/plain": [
              "array([10, 21,  0,  4,  5])"
            ]
          },
          "execution_count": 107,
          "metadata": {},
          "output_type": "execute_result"
        }
      ],
      "source": [
        "numF1 = np.array([10, 21, 0.549, 4.75, 5.98])\n",
        "numF1 = numF1.astype(int)\n",
        "numF1 #출력값이 소숫점 아래를 버린 형태로 나온다"
      ]
    },
    {
      "cell_type": "code",
      "execution_count": null,
      "id": "2140023d-5af0-4695-bae6-b7ce03d0ad80",
      "metadata": {
        "id": "2140023d-5af0-4695-bae6-b7ce03d0ad80",
        "outputId": "d63a581c-7fb9-4f4a-ab7f-e2b71cf93847"
      },
      "outputs": [
        {
          "data": {
            "text/plain": [
              "array([10.   , 21.   ,  0.549,  4.75 ,  5.98 ])"
            ]
          },
          "execution_count": 108,
          "metadata": {},
          "output_type": "execute_result"
        }
      ],
      "source": [
        "numF1 = np.array([10, 21, 0.549, 4.75, 5.98])\n",
        "numF1 = numF1.astype(float)\n",
        "numF1 #온전한 형태로 출력"
      ]
    },
    {
      "cell_type": "code",
      "execution_count": null,
      "id": "d13d652a-7447-43a8-8cb1-391b93d8468b",
      "metadata": {
        "id": "d13d652a-7447-43a8-8cb1-391b93d8468b",
        "outputId": "e504691a-d8f4-4037-8ffe-65d4c3d2bb02"
      },
      "outputs": [
        {
          "data": {
            "text/plain": [
              "array([[0.29901909, 0.77302287, 0.23787034],\n",
              "       [0.57389386, 0.33086562, 0.4192384 ]])"
            ]
          },
          "execution_count": 109,
          "metadata": {},
          "output_type": "execute_result"
        }
      ],
      "source": [
        "# p.224\n",
        "# 난수 무작위로 숫자를 추출\n",
        "\n",
        "np.random.rand(2, 3) #0~1 사이의 실수 난수를 추출 후 2와 3 배열로 출력"
      ]
    },
    {
      "cell_type": "code",
      "execution_count": null,
      "id": "960274d6-37c9-426b-ae51-1b7b910022cb",
      "metadata": {
        "id": "960274d6-37c9-426b-ae51-1b7b910022cb",
        "outputId": "d2c5e4fa-b7a1-48a4-d98f-a39bc02ceb87"
      },
      "outputs": [
        {
          "data": {
            "text/plain": [
              "array([[0.4646088 , 0.93267417],\n",
              "       [0.93907847, 0.94383621],\n",
              "       [0.32547933, 0.13151019]])"
            ]
          },
          "execution_count": 110,
          "metadata": {},
          "output_type": "execute_result"
        }
      ],
      "source": [
        "np.random.rand(3, 2)"
      ]
    },
    {
      "cell_type": "code",
      "execution_count": null,
      "id": "fe42eb37-4d35-449e-9788-0446dfad2141",
      "metadata": {
        "id": "fe42eb37-4d35-449e-9788-0446dfad2141",
        "outputId": "41fceb13-44e5-47fb-819d-042b9e451ca1"
      },
      "outputs": [
        {
          "data": {
            "text/plain": [
              "array([19, 62, 15, 39, 41,  8, 93, 29,  3, 63])"
            ]
          },
          "execution_count": 111,
          "metadata": {},
          "output_type": "execute_result"
        }
      ],
      "source": [
        "np.random.randint(1, 100, 10) #1과 100 인덱스 사이에 10개의 값을 무작위로 추출"
      ]
    },
    {
      "cell_type": "code",
      "execution_count": null,
      "id": "7010baab-bc5c-414c-8cd4-39a2a7c498b7",
      "metadata": {
        "id": "7010baab-bc5c-414c-8cd4-39a2a7c498b7"
      },
      "outputs": [],
      "source": [
        "#미션: 로또번호생성기 #로또번호는 번호가 중복되면 안 된다"
      ]
    },
    {
      "cell_type": "code",
      "execution_count": null,
      "id": "c4b7c88d-3994-4efc-bbb7-a1e6ddfc5b19",
      "metadata": {
        "id": "c4b7c88d-3994-4efc-bbb7-a1e6ddfc5b19",
        "outputId": "3692e9e8-5365-4ef5-eb3e-7e922927ede1"
      },
      "outputs": [
        {
          "data": {
            "text/plain": [
              "array([ 4, 99, 20, 15, 30, 89, 74, 91, 74, 86])"
            ]
          },
          "execution_count": 113,
          "metadata": {},
          "output_type": "execute_result"
        }
      ],
      "source": [
        "np.random.randint(1, 100, 10)"
      ]
    },
    {
      "cell_type": "code",
      "execution_count": null,
      "id": "cee7f168-a735-469a-b159-a29dd52fb4c4",
      "metadata": {
        "id": "cee7f168-a735-469a-b159-a29dd52fb4c4",
        "outputId": "e21f66dc-6062-409e-f1c0-aadaab4374d0"
      },
      "outputs": [
        {
          "name": "stdout",
          "output_type": "stream",
          "text": [
            "[ 7  8 26 36 46 58 61 64 81 84]\n"
          ]
        }
      ],
      "source": [
        "randNum = np.random.choice(np.arange(1, 100), size = 10, replace =False)\n",
        "sortedRandNum = np.sort(randNum)\n",
        "print(sortedRandNum)"
      ]
    },
    {
      "cell_type": "code",
      "execution_count": null,
      "id": "cb98f988-3b33-43db-ba96-ea2c16283720",
      "metadata": {
        "id": "cb98f988-3b33-43db-ba96-ea2c16283720",
        "outputId": "e5e8646a-0406-4c99-b2f7-126908e4d532"
      },
      "outputs": [
        {
          "name": "stdout",
          "output_type": "stream",
          "text": [
            "[13  9 21 14 15 11]\n"
          ]
        }
      ],
      "source": [
        "#조원의 로또번호생성기\n",
        "\n",
        "numbers = np.random.choice(range(6, 45), size=6, replace=False)\n",
        "print(numbers)"
      ]
    },
    {
      "cell_type": "code",
      "execution_count": null,
      "id": "f6ae0c95-78d7-4b3c-90bd-f8c50a51eec3",
      "metadata": {
        "id": "f6ae0c95-78d7-4b3c-90bd-f8c50a51eec3",
        "outputId": "81bb7274-a37d-4e74-eb7a-eabf3a615180"
      },
      "outputs": [
        {
          "name": "stdout",
          "output_type": "stream",
          "text": [
            "생성된 로또 번호: [8, 14, 20, 29, 31, 39]\n"
          ]
        }
      ],
      "source": [
        "#강사님 코드\n",
        "import random\n",
        "\n",
        "def generate_lotto_numbers():\n",
        "    \"\"\"\n",
        "    1부터 45까지의 숫자 중 무작위로 6개를 선택하여 로또 번호를 생성합니다.\n",
        "    이 때, 중복된 숫자가 없도록 합니다.\n",
        "    \"\"\"\n",
        "    lotto_numbers = set()\n",
        "\n",
        "    while len(lotto_numbers) < 6:\n",
        "        number = random.randint(1, 45)\n",
        "        lotto_numbers.add(number)\n",
        "\n",
        "    return sorted(lotto_numbers)\n",
        "\n",
        "# 로또 번호 생성\n",
        "lotto_numbers = generate_lotto_numbers()\n",
        "print(\"생성된 로또 번호:\", lotto_numbers)"
      ]
    },
    {
      "cell_type": "code",
      "execution_count": null,
      "id": "abb56e7c-fef1-4da9-ac3b-934f70ff7fd9",
      "metadata": {
        "id": "abb56e7c-fef1-4da9-ac3b-934f70ff7fd9"
      },
      "outputs": [],
      "source": [
        "# p225 ~\n",
        "# 배열의 연산\n",
        "\n",
        "#통계를 위한 연산\n",
        "\n",
        "#합 평균 표준편차 분산 최솟값 최댓값 누적합, 누적합, 누적곱 메서드가 존재한다.\n",
        "#기술통게량: 현재 데이터 상태를 표현하는 Descriptive Statisstics\n",
        "\n",
        "#통계: 모수 통계, 비모수 통계, 베이지안 통계"
      ]
    },
    {
      "cell_type": "code",
      "execution_count": null,
      "id": "21cf1f62-c935-4b9e-acb6-3ef96d153149",
      "metadata": {
        "id": "21cf1f62-c935-4b9e-acb6-3ef96d153149",
        "outputId": "9b4f0d52-dc47-4d1e-db4f-9b72ce395fad"
      },
      "outputs": [
        {
          "data": {
            "text/plain": [
              "array([0, 1, 2, 3, 4])"
            ]
          },
          "execution_count": 118,
          "metadata": {},
          "output_type": "execute_result"
        }
      ],
      "source": [
        "arr3 = np.arange(5)\n",
        "arr3"
      ]
    },
    {
      "cell_type": "code",
      "execution_count": null,
      "id": "52dea084-963c-4697-a39f-335c6ec5d635",
      "metadata": {
        "id": "52dea084-963c-4697-a39f-335c6ec5d635",
        "outputId": "a5d07c69-69fe-4257-c341-fc6f784d0209"
      },
      "outputs": [
        {
          "data": {
            "text/plain": [
              "10"
            ]
          },
          "execution_count": 119,
          "metadata": {},
          "output_type": "execute_result"
        }
      ],
      "source": [
        "arr3.sum()"
      ]
    },
    {
      "cell_type": "code",
      "execution_count": null,
      "id": "36be59ba-570c-4f61-97c1-80aba694b5b5",
      "metadata": {
        "id": "36be59ba-570c-4f61-97c1-80aba694b5b5",
        "outputId": "a881a163-b0ab-42de-9d1e-6e9a72128d83"
      },
      "outputs": [
        {
          "data": {
            "text/plain": [
              "2.0"
            ]
          },
          "execution_count": 120,
          "metadata": {},
          "output_type": "execute_result"
        }
      ],
      "source": [
        "arr3.mean()"
      ]
    },
    {
      "cell_type": "code",
      "execution_count": null,
      "id": "9f0eea90-b7f9-413d-a97a-c83a0ea33fe4",
      "metadata": {
        "id": "9f0eea90-b7f9-413d-a97a-c83a0ea33fe4",
        "outputId": "d953c9fa-8272-405f-e1a3-8587ce8d84a1"
      },
      "outputs": [
        {
          "data": {
            "text/plain": [
              "1.4142135623730951"
            ]
          },
          "execution_count": 121,
          "metadata": {},
          "output_type": "execute_result"
        }
      ],
      "source": [
        "arr3.std() #표준편차"
      ]
    },
    {
      "cell_type": "code",
      "execution_count": null,
      "id": "bd21ecd2-f5fc-46d0-8413-8ea18fbc4cc7",
      "metadata": {
        "id": "bd21ecd2-f5fc-46d0-8413-8ea18fbc4cc7",
        "outputId": "43bc982d-62a3-4ec1-a3e8-c7e045e412b6"
      },
      "outputs": [
        {
          "data": {
            "text/plain": [
              "2.0"
            ]
          },
          "execution_count": 122,
          "metadata": {},
          "output_type": "execute_result"
        }
      ],
      "source": [
        "arr3.var() #분산"
      ]
    },
    {
      "cell_type": "code",
      "execution_count": null,
      "id": "a7dca120-0f0e-43a0-a6cd-bd0d8387b5f8",
      "metadata": {
        "id": "a7dca120-0f0e-43a0-a6cd-bd0d8387b5f8"
      },
      "outputs": [],
      "source": [
        "#행렬연산\n",
        "- 선형대수(Linea Algebra)"
      ]
    },
    {
      "cell_type": "code",
      "execution_count": null,
      "id": "4ce44f6d-5589-4346-b0a8-f1a5f265531e",
      "metadata": {
        "id": "4ce44f6d-5589-4346-b0a8-f1a5f265531e",
        "outputId": "c67fc37a-ecc0-4a4a-da06-389a5cb92024"
      },
      "outputs": [
        {
          "data": {
            "text/plain": [
              "array([[0, 1],\n",
              "       [2, 3]])"
            ]
          },
          "execution_count": 126,
          "metadata": {},
          "output_type": "execute_result"
        }
      ],
      "source": [
        "A = np.array([0, 1, 2, 3]).reshape(2, 2)\n",
        "A"
      ]
    },
    {
      "cell_type": "code",
      "execution_count": null,
      "id": "39c3bbb7-b348-4b04-8354-17c90202a532",
      "metadata": {
        "id": "39c3bbb7-b348-4b04-8354-17c90202a532",
        "outputId": "c14a4192-e530-48ae-ac76-699012c112d1"
      },
      "outputs": [
        {
          "data": {
            "text/plain": [
              "array([[3, 2],\n",
              "       [0, 1]])"
            ]
          },
          "execution_count": 127,
          "metadata": {},
          "output_type": "execute_result"
        }
      ],
      "source": [
        "B = np.array([3, 2, 0, 1]).reshape(2, 2)\n",
        "B"
      ]
    },
    {
      "cell_type": "code",
      "execution_count": null,
      "id": "bc0084df-bc54-44d0-915d-95bf1b394bf9",
      "metadata": {
        "id": "bc0084df-bc54-44d0-915d-95bf1b394bf9",
        "outputId": "aa4d1cc5-7027-4cb6-d28a-8bb912376923"
      },
      "outputs": [
        {
          "data": {
            "text/plain": [
              "array([[0, 1],\n",
              "       [6, 7]])"
            ]
          },
          "execution_count": 128,
          "metadata": {},
          "output_type": "execute_result"
        }
      ],
      "source": [
        "A.dot(B)"
      ]
    },
    {
      "cell_type": "code",
      "execution_count": null,
      "id": "5a0a844a-ac28-472a-a42b-e3e74683c097",
      "metadata": {
        "id": "5a0a844a-ac28-472a-a42b-e3e74683c097",
        "outputId": "5f3013cd-54ee-438b-89dd-d56670104aa8"
      },
      "outputs": [
        {
          "data": {
            "text/plain": [
              "array([[0, 2],\n",
              "       [1, 3]])"
            ]
          },
          "execution_count": 130,
          "metadata": {},
          "output_type": "execute_result"
        }
      ],
      "source": [
        "A.transpose() #전치행렬"
      ]
    },
    {
      "cell_type": "code",
      "execution_count": null,
      "id": "1cff4944-10b6-480c-8ff4-3bd8f19212a4",
      "metadata": {
        "id": "1cff4944-10b6-480c-8ff4-3bd8f19212a4",
        "outputId": "293faaee-8002-4cfe-f4ce-164ed493a8de"
      },
      "outputs": [
        {
          "data": {
            "text/plain": [
              "array([[-1.5,  0.5],\n",
              "       [ 1. ,  0. ]])"
            ]
          },
          "execution_count": 131,
          "metadata": {},
          "output_type": "execute_result"
        }
      ],
      "source": [
        "np.linalg.inv(A) #역행"
      ]
    },
    {
      "cell_type": "code",
      "execution_count": null,
      "id": "54cbeea3-c395-44ba-a66f-509dd07c1caa",
      "metadata": {
        "id": "54cbeea3-c395-44ba-a66f-509dd07c1caa",
        "outputId": "77379b58-17bc-45a3-fd24-040f21e583e8"
      },
      "outputs": [
        {
          "data": {
            "text/plain": [
              "array([ 0, 10, 20, 30, 40, 50])"
            ]
          },
          "execution_count": 135,
          "metadata": {},
          "output_type": "execute_result"
        }
      ],
      "source": [
        "## 배열의 인덱싱과 슬라이싱\n",
        "a1 = np.array([0, 10, 20, 30, 40, 50])\n",
        "a1"
      ]
    },
    {
      "cell_type": "code",
      "execution_count": null,
      "id": "6a3b6581-9352-46f4-a7b6-38a7121e195f",
      "metadata": {
        "id": "6a3b6581-9352-46f4-a7b6-38a7121e195f",
        "outputId": "eec8cd68-d9ee-47ee-b2fa-6f0f97733d1b"
      },
      "outputs": [
        {
          "data": {
            "text/plain": [
              "0"
            ]
          },
          "execution_count": 136,
          "metadata": {},
          "output_type": "execute_result"
        }
      ],
      "source": [
        "a1[0]"
      ]
    },
    {
      "cell_type": "code",
      "execution_count": null,
      "id": "d0610d82-c455-4df6-8570-cdec18dfd92e",
      "metadata": {
        "id": "d0610d82-c455-4df6-8570-cdec18dfd92e",
        "outputId": "b9f0fb5e-2174-4c66-d287-9f0537484c19"
      },
      "outputs": [
        {
          "data": {
            "text/plain": [
              "array([ 0, 10, 20, 30, 40, 70])"
            ]
          },
          "execution_count": 138,
          "metadata": {},
          "output_type": "execute_result"
        }
      ],
      "source": [
        "a1[-1] = 70\n",
        "a1"
      ]
    },
    {
      "cell_type": "code",
      "execution_count": null,
      "id": "810015ed-db98-4be7-b5ff-ec158e7547ac",
      "metadata": {
        "id": "810015ed-db98-4be7-b5ff-ec158e7547ac",
        "outputId": "8a0c358d-ea9c-4fdd-f7b9-61e38a57dd37"
      },
      "outputs": [
        {
          "data": {
            "text/plain": [
              "array([ 0, 20, 40])"
            ]
          },
          "execution_count": 145,
          "metadata": {},
          "output_type": "execute_result"
        }
      ],
      "source": [
        "#리스트 통한 추출\n",
        "a1[[0, 2, 4]] #대괄호가 2개 [ [ ] ]"
      ]
    },
    {
      "cell_type": "code",
      "execution_count": null,
      "id": "752ea594-fbe6-47fc-b62b-32ec251c5947",
      "metadata": {
        "id": "752ea594-fbe6-47fc-b62b-32ec251c5947",
        "outputId": "4099ad16-c304-46ab-e03b-81a19b49d359"
      },
      "outputs": [
        {
          "data": {
            "text/plain": [
              "array([ 0, 20, 40])"
            ]
          },
          "execution_count": 144,
          "metadata": {},
          "output_type": "execute_result"
        }
      ],
      "source": [
        "idxList = [0, 2, 4]\n",
        "a1[idxList] #덜 헷갈리는 방"
      ]
    },
    {
      "cell_type": "code",
      "execution_count": null,
      "id": "4e043986-9d14-49b2-a05c-7dd0fd22fd54",
      "metadata": {
        "id": "4e043986-9d14-49b2-a05c-7dd0fd22fd54",
        "outputId": "dea0aa44-8961-4d74-f713-7b61d92df9a8"
      },
      "outputs": [
        {
          "data": {
            "text/plain": [
              "array([[10, 20, 30],\n",
              "       [40, 50, 60],\n",
              "       [70, 80, 90]])"
            ]
          },
          "execution_count": 150,
          "metadata": {},
          "output_type": "execute_result"
        }
      ],
      "source": [
        "a2 = np.arange(10, 100, 10).reshape(3, 3)\n",
        "a2"
      ]
    },
    {
      "cell_type": "code",
      "execution_count": null,
      "id": "3f4032e3-66ce-408a-a816-7769792c2e66",
      "metadata": {
        "id": "3f4032e3-66ce-408a-a816-7769792c2e66",
        "outputId": "86691d31-675f-4a02-cf26-932283a1c494"
      },
      "outputs": [
        {
          "name": "stdout",
          "output_type": "stream",
          "text": [
            "30\n",
            "50\n",
            "80\n"
          ]
        }
      ],
      "source": [
        "\"\"\"\n",
        "2차원 배월의 인덱스 위치\n",
        "0 1 2\n",
        "1\n",
        "2\n",
        "배열[세로, 가로]\n",
        "\"\"\"\n",
        "\n",
        "print(a2[0, 2])\n",
        "print(a2[1,1])\n",
        "print(a2[2, 1])"
      ]
    },
    {
      "cell_type": "code",
      "execution_count": null,
      "id": "8c79cc0a-73b4-437e-bce8-df0e2957134a",
      "metadata": {
        "id": "8c79cc0a-73b4-437e-bce8-df0e2957134a",
        "outputId": "fbe9fad7-d423-45f4-a9dc-2e83f4028195"
      },
      "outputs": [
        {
          "data": {
            "text/plain": [
              "array([[10, 20, 30],\n",
              "       [40, 50, 60],\n",
              "       [70, 80, 95]])"
            ]
          },
          "execution_count": 156,
          "metadata": {},
          "output_type": "execute_result"
        }
      ],
      "source": [
        "a2[2,2] = 95\n",
        "a2"
      ]
    },
    {
      "cell_type": "code",
      "execution_count": null,
      "id": "598e0c99-2f95-42a3-84f5-9a811536ecde",
      "metadata": {
        "id": "598e0c99-2f95-42a3-84f5-9a811536ecde",
        "outputId": "d8a14418-c9f2-4e36-bd0a-b674c16c61ba"
      },
      "outputs": [
        {
          "data": {
            "text/plain": [
              "array([[10, 20, 30],\n",
              "       [45, 50, 60],\n",
              "       [70, 80, 95]])"
            ]
          },
          "execution_count": 157,
          "metadata": {},
          "output_type": "execute_result"
        }
      ],
      "source": [
        "a2[1,0] = 45\n",
        "a2"
      ]
    },
    {
      "cell_type": "code",
      "execution_count": null,
      "id": "5fb5d37e-7dd0-4e2e-8c4a-5b2a2653ce32",
      "metadata": {
        "id": "5fb5d37e-7dd0-4e2e-8c4a-5b2a2653ce32",
        "outputId": "e6a49b9f-8578-42dc-f211-8f024a7393c6"
      },
      "outputs": [
        {
          "data": {
            "text/plain": [
              "array([45, 50, 60])"
            ]
          },
          "execution_count": 158,
          "metadata": {},
          "output_type": "execute_result"
        }
      ],
      "source": [
        "a2[1]"
      ]
    },
    {
      "cell_type": "code",
      "execution_count": null,
      "id": "d764ffa4-72ce-4c67-a9c9-df4de8c53f35",
      "metadata": {
        "id": "d764ffa4-72ce-4c67-a9c9-df4de8c53f35",
        "outputId": "b9745e43-4724-40ad-8de7-b0e7df0d48dd"
      },
      "outputs": [
        {
          "data": {
            "text/plain": [
              "array([[10, 20, 30],\n",
              "       [50, 55, 65],\n",
              "       [70, 80, 95]])"
            ]
          },
          "execution_count": 160,
          "metadata": {},
          "output_type": "execute_result"
        }
      ],
      "source": [
        "a2[1] = [50, 55, 65] #야메\n",
        "a2"
      ]
    },
    {
      "cell_type": "code",
      "execution_count": null,
      "id": "4cf162f4-32d4-4e71-bb08-7d5555328d83",
      "metadata": {
        "id": "4cf162f4-32d4-4e71-bb08-7d5555328d83",
        "outputId": "8e854c0a-67a5-4407-c203-f285e076d912"
      },
      "outputs": [
        {
          "data": {
            "text/plain": [
              "array([[ 1,  2,  3],\n",
              "       [50, 55, 65],\n",
              "       [70, 80, 95]])"
            ]
          },
          "execution_count": 161,
          "metadata": {},
          "output_type": "execute_result"
        }
      ],
      "source": [
        "a2[0] = np.array([1, 2, 3]) #정석대로\n",
        "a2"
      ]
    },
    {
      "cell_type": "code",
      "execution_count": null,
      "id": "ed76446d-e9c5-456c-b8d1-ee6e1c4701a3",
      "metadata": {
        "id": "ed76446d-e9c5-456c-b8d1-ee6e1c4701a3",
        "outputId": "bd3d489e-abad-4296-d256-5d91d511a428"
      },
      "outputs": [
        {
          "data": {
            "text/plain": [
              "array([ 1, 80])"
            ]
          },
          "execution_count": 167,
          "metadata": {},
          "output_type": "execute_result"
        }
      ],
      "source": [
        "#2차원 배열의 행과 열 위치 지장해서 원소 추출\n",
        "\n",
        "a2[[0,2],[0, 1]] #(행의 위치 1, 열의 위치 1)/(행의 위치 2, 열의 위치 2)"
      ]
    },
    {
      "cell_type": "code",
      "execution_count": null,
      "id": "ea45d5c5-2474-4af4-8f77-8f204c90e6c4",
      "metadata": {
        "id": "ea45d5c5-2474-4af4-8f77-8f204c90e6c4",
        "outputId": "0e84ef3f-459d-498f-f678-e681e2d0fbcd"
      },
      "outputs": [
        {
          "data": {
            "text/plain": [
              "(1, 80)"
            ]
          },
          "execution_count": 168,
          "metadata": {},
          "output_type": "execute_result"
        }
      ],
      "source": [
        "a2[0, 0], a2[2, 1] #위와 동일"
      ]
    },
    {
      "cell_type": "code",
      "execution_count": null,
      "id": "7985d429-37d7-45fa-8801-054ba7ad9e38",
      "metadata": {
        "id": "7985d429-37d7-45fa-8801-054ba7ad9e38",
        "outputId": "1a2a9ebd-e55a-4525-db46-7039d59293c9"
      },
      "outputs": [
        {
          "data": {
            "text/plain": [
              "(3, 2)"
            ]
          },
          "execution_count": 169,
          "metadata": {},
          "output_type": "execute_result"
        }
      ],
      "source": [
        "a2[0,2], a2[0,1] #이게 아님!!"
      ]
    },
    {
      "cell_type": "code",
      "execution_count": null,
      "id": "bb265de3-651a-41ef-8c55-34a9aebd4403",
      "metadata": {
        "id": "bb265de3-651a-41ef-8c55-34a9aebd4403"
      },
      "outputs": [],
      "source": [
        "#배열 조건문\n",
        "# pandas 문법과 유사하다"
      ]
    },
    {
      "cell_type": "code",
      "execution_count": null,
      "id": "513c6c2e-e7fc-4d39-bdb5-5273def947b9",
      "metadata": {
        "id": "513c6c2e-e7fc-4d39-bdb5-5273def947b9",
        "outputId": "dd016fe0-87ae-4acd-bf20-630284e2a4f8"
      },
      "outputs": [
        {
          "data": {
            "text/plain": [
              "array([1, 2, 3, 4, 5, 6])"
            ]
          },
          "execution_count": 170,
          "metadata": {},
          "output_type": "execute_result"
        }
      ],
      "source": [
        "a = np.array([1, 2, 3, 4, 5, 6])\n",
        "a"
      ]
    },
    {
      "cell_type": "code",
      "execution_count": null,
      "id": "9e5640f0-445a-4872-adbb-a6c79e924b03",
      "metadata": {
        "id": "9e5640f0-445a-4872-adbb-a6c79e924b03",
        "outputId": "961a6a0f-3c39-43ad-84e7-1223c4a21d51"
      },
      "outputs": [
        {
          "data": {
            "text/plain": [
              "[array([False, False, False,  True,  True,  True])]"
            ]
          },
          "execution_count": 171,
          "metadata": {},
          "output_type": "execute_result"
        }
      ],
      "source": [
        " [a>3]"
      ]
    },
    {
      "cell_type": "code",
      "execution_count": null,
      "id": "ed08c04a-f379-4b49-8883-e6940aad93a2",
      "metadata": {
        "id": "ed08c04a-f379-4b49-8883-e6940aad93a2",
        "outputId": "80179ccb-1dd9-4ab2-ddc2-98fe87944727"
      },
      "outputs": [
        {
          "data": {
            "text/plain": [
              "array([4, 5, 6])"
            ]
          },
          "execution_count": 173,
          "metadata": {},
          "output_type": "execute_result"
        }
      ],
      "source": [
        "a[a>3] #행 추출. 조건에 맞는 True값만 추출함"
      ]
    },
    {
      "cell_type": "code",
      "execution_count": null,
      "id": "f01df679-a2e1-423d-a10e-c09e4131fb71",
      "metadata": {
        "id": "f01df679-a2e1-423d-a10e-c09e4131fb71",
        "outputId": "4b364b66-4b8b-4ef4-b0c2-246368bb86fd"
      },
      "outputs": [
        {
          "data": {
            "text/plain": [
              "array([False,  True, False,  True, False,  True])"
            ]
          },
          "execution_count": 175,
          "metadata": {},
          "output_type": "execute_result"
        }
      ],
      "source": [
        "a % 2 == 0 #실무에서는 이런 코드를 작성하는 것이 핵심이다."
      ]
    },
    {
      "cell_type": "code",
      "execution_count": null,
      "id": "59b8ea4d-94e8-4f7a-b1d8-ef04bd6f98af",
      "metadata": {
        "id": "59b8ea4d-94e8-4f7a-b1d8-ef04bd6f98af",
        "outputId": "e6747326-a269-4a04-da58-035279c01830"
      },
      "outputs": [
        {
          "data": {
            "text/plain": [
              "array([2, 4, 6])"
            ]
          },
          "execution_count": 176,
          "metadata": {},
          "output_type": "execute_result"
        }
      ],
      "source": [
        "a[a % 2 == 0]"
      ]
    },
    {
      "cell_type": "code",
      "execution_count": null,
      "id": "618c326e-2b4b-49e2-aafc-c7b82599b8fa",
      "metadata": {
        "id": "618c326e-2b4b-49e2-aafc-c7b82599b8fa",
        "outputId": "2f072282-1811-422f-ec10-efcdfef3faea"
      },
      "outputs": [
        {
          "data": {
            "text/plain": [
              "array([1, 2, 3])"
            ]
          },
          "execution_count": 177,
          "metadata": {},
          "output_type": "execute_result"
        }
      ],
      "source": [
        "#배열의 슬라이싱\n",
        "b1 = np.array([0, 1, 2, 3, 4, 5])\n",
        "b1[1:4]"
      ]
    },
    {
      "cell_type": "code",
      "execution_count": null,
      "id": "53561fe1-741a-4791-957c-e263871944a6",
      "metadata": {
        "id": "53561fe1-741a-4791-957c-e263871944a6",
        "outputId": "3acd2bf6-6b30-4384-9525-12347c3c1c22"
      },
      "outputs": [
        {
          "name": "stdout",
          "output_type": "stream",
          "text": [
            "[0 1 2]\n",
            "[2 3 4 5]\n"
          ]
        }
      ],
      "source": [
        "print(b1[:3])\n",
        "print(b1[2:])"
      ]
    },
    {
      "cell_type": "code",
      "execution_count": null,
      "id": "21fd7bbe-7be4-4a54-bd54-ffb751a55cfd",
      "metadata": {
        "id": "21fd7bbe-7be4-4a54-bd54-ffb751a55cfd",
        "outputId": "1b2e22a1-ab4d-4200-e8db-7cf25309c427"
      },
      "outputs": [
        {
          "data": {
            "text/plain": [
              "array([0, 2])"
            ]
          },
          "execution_count": 181,
          "metadata": {},
          "output_type": "execute_result"
        }
      ],
      "source": [
        "b1[0:4:2] #이거 뭐였지?"
      ]
    },
    {
      "cell_type": "code",
      "execution_count": null,
      "id": "59e52bc2-81ef-4194-ab2d-674ef85b4f33",
      "metadata": {
        "id": "59e52bc2-81ef-4194-ab2d-674ef85b4f33",
        "outputId": "3377ac5b-a3f0-4d45-9352-32600187e1de"
      },
      "outputs": [
        {
          "data": {
            "text/plain": [
              "array([ 0,  1, 25, 35, 45,  5])"
            ]
          },
          "execution_count": 183,
          "metadata": {},
          "output_type": "execute_result"
        }
      ],
      "source": [
        "b1[2:5] = np.array([25, 35, 45])\n",
        "b1"
      ]
    },
    {
      "cell_type": "code",
      "execution_count": null,
      "id": "818b1dc1-82bc-415f-8c1e-0ba72daf3b60",
      "metadata": {
        "id": "818b1dc1-82bc-415f-8c1e-0ba72daf3b60",
        "outputId": "e7ef73c9-c12e-4ada-f775-4d0ba4728469"
      },
      "outputs": [
        {
          "data": {
            "text/plain": [
              "array([ 0,  1, 25, 60, 60, 60])"
            ]
          },
          "execution_count": 185,
          "metadata": {},
          "output_type": "execute_result"
        }
      ],
      "source": [
        "b1[3:6] = 60 #하나의 값으로 통일\n",
        "b1"
      ]
    },
    {
      "cell_type": "code",
      "execution_count": null,
      "id": "fb5230fc-9e90-4273-a197-be780e477e7d",
      "metadata": {
        "id": "fb5230fc-9e90-4273-a197-be780e477e7d",
        "outputId": "1a8db665-a920-4d5d-9acb-a6f1cfa35f84"
      },
      "outputs": [
        {
          "data": {
            "text/plain": [
              "array([[10, 20, 30],\n",
              "       [40, 50, 60],\n",
              "       [70, 80, 90]])"
            ]
          },
          "execution_count": 186,
          "metadata": {},
          "output_type": "execute_result"
        }
      ],
      "source": [
        "b2 = np.arange(10, 100, 10).reshape(3, 3)\n",
        "b2"
      ]
    },
    {
      "cell_type": "code",
      "execution_count": null,
      "id": "1fa3ac48-1799-4314-be90-400ac333e17c",
      "metadata": {
        "id": "1fa3ac48-1799-4314-be90-400ac333e17c",
        "outputId": "428a55ce-a6d3-4d87-a4cd-a82ea5e2501b"
      },
      "outputs": [
        {
          "data": {
            "text/plain": [
              "array([[50, 60],\n",
              "       [80, 90]])"
            ]
          },
          "execution_count": 189,
          "metadata": {},
          "output_type": "execute_result"
        }
      ],
      "source": [
        "b2[1:3, 1:3] #행: 1부터 2까지(인덱스 3미만). 열: 1부터 2까지"
      ]
    },
    {
      "cell_type": "code",
      "execution_count": null,
      "id": "a74603ff-d681-4d09-9096-464a9a2d5e2f",
      "metadata": {
        "id": "a74603ff-d681-4d09-9096-464a9a2d5e2f",
        "outputId": "273e4ce1-941f-4c57-cccc-004ef870a2f9"
      },
      "outputs": [
        {
          "data": {
            "text/plain": [
              "'a'"
            ]
          },
          "execution_count": 191,
          "metadata": {},
          "output_type": "execute_result"
        }
      ],
      "source": [
        "nums = [1, 2, 3, [\"a\",\"b\"]] #중첩리스트\n",
        "nums[3][0]"
      ]
    },
    {
      "cell_type": "code",
      "execution_count": null,
      "id": "c1c2c885-5296-4bab-859d-04f67ee23562",
      "metadata": {
        "id": "c1c2c885-5296-4bab-859d-04f67ee23562",
        "outputId": "a1b15bff-3f64-45d5-dae9-16d44bbeb513"
      },
      "outputs": [
        {
          "name": "stdout",
          "output_type": "stream",
          "text": [
            "[40 50 60]\n",
            "[40 50]\n"
          ]
        }
      ],
      "source": [
        "print(b2[1])\n",
        "print(b2[1][0:2])"
      ]
    },
    {
      "cell_type": "code",
      "execution_count": null,
      "id": "a27ed166-49ab-40d5-bfc6-de020d5c0a69",
      "metadata": {
        "id": "a27ed166-49ab-40d5-bfc6-de020d5c0a69"
      },
      "outputs": [],
      "source": [
        "## NumPy 조건문\n",
        "# np.where:  단일 조건문\n",
        "# np.select: 다중 조건문"
      ]
    },
    {
      "cell_type": "code",
      "execution_count": null,
      "id": "d9a0b096-cf2d-4567-ab09-46efadfc7c82",
      "metadata": {
        "id": "d9a0b096-cf2d-4567-ab09-46efadfc7c82",
        "outputId": "fb8a47ad-a673-412f-b12e-5a44f3c02be0"
      },
      "outputs": [
        {
          "data": {
            "text/plain": [
              "array([0, 1, 2, 3, 4, 5, 6, 7, 8, 9])"
            ]
          },
          "execution_count": 195,
          "metadata": {},
          "output_type": "execute_result"
        }
      ],
      "source": [
        "arr  = np.arange(10)\n",
        "arr"
      ]
    },
    {
      "cell_type": "code",
      "execution_count": null,
      "id": "7da608c6-0ae3-434f-b620-1fc81f681950",
      "metadata": {
        "id": "7da608c6-0ae3-434f-b620-1fc81f681950",
        "outputId": "878563b7-1549-4db6-8515-bcf32ce7e97c"
      },
      "outputs": [
        {
          "data": {
            "text/plain": [
              "array([ 0,  1,  2,  3,  4, 50, 60, 70, 80, 90])"
            ]
          },
          "execution_count": 196,
          "metadata": {},
          "output_type": "execute_result"
        }
      ],
      "source": [
        "# 0, 1, 2, 3, 4, 50, 60, 40, 70, 80, 90\n",
        "np.where(arr < 5, arr, arr * 10)"
      ]
    },
    {
      "cell_type": "code",
      "execution_count": null,
      "id": "8500ae1f-53b9-47d4-a6a4-d9ccb39ca1c7",
      "metadata": {
        "id": "8500ae1f-53b9-47d4-a6a4-d9ccb39ca1c7",
        "outputId": "06a8fbae-5600-4ebc-af05-35c42e4233f1"
      },
      "outputs": [
        {
          "data": {
            "text/plain": [
              "array([0, 1, 2, 3, 4, 5, 6, 7, 8, 9])"
            ]
          },
          "execution_count": 199,
          "metadata": {},
          "output_type": "execute_result"
        }
      ],
      "source": [
        "arr =np.arange(10)\n",
        "arr"
      ]
    },
    {
      "cell_type": "code",
      "execution_count": null,
      "id": "8d83504f-3f24-4ab8-929b-65224d916297",
      "metadata": {
        "id": "8d83504f-3f24-4ab8-929b-65224d916297",
        "outputId": "fe3d155b-c476-4db6-9d21-bf2bfa2813cd"
      },
      "outputs": [
        {
          "data": {
            "text/plain": [
              "array([100, 101,   2,   3,   4,   5,  12,  14,  16,  18])"
            ]
          },
          "execution_count": 201,
          "metadata": {},
          "output_type": "execute_result"
        }
      ],
      "source": [
        "# 100, 101, 2, 3, 4, 5, 12, 14, 16, 18\n",
        "# 2 미만은 100 더하기\n",
        "# 5 초과일 때는 2를 곱한다\n",
        "comd_list = [arr>5, arr <2]\n",
        "choiceList = [arr * 2, arr + 100]\n",
        "\n",
        "np.select(comd_list, choiceList, default = arr)"
      ]
    },
    {
      "cell_type": "code",
      "execution_count": null,
      "id": "c9a2fb01-dd4d-4f27-8cc8-366958578dcb",
      "metadata": {
        "id": "c9a2fb01-dd4d-4f27-8cc8-366958578dcb"
      },
      "outputs": [],
      "source": []
    }
  ],
  "metadata": {
    "kernelspec": {
      "display_name": "Python 3 (ipykernel)",
      "language": "python",
      "name": "python3"
    },
    "language_info": {
      "codemirror_mode": {
        "name": "ipython",
        "version": 3
      },
      "file_extension": ".py",
      "mimetype": "text/x-python",
      "name": "python",
      "nbconvert_exporter": "python",
      "pygments_lexer": "ipython3",
      "version": "3.10.13"
    },
    "colab": {
      "provenance": [],
      "include_colab_link": true
    }
  },
  "nbformat": 4,
  "nbformat_minor": 5
}