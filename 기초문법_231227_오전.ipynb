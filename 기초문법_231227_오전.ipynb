{
  "nbformat": 4,
  "nbformat_minor": 0,
  "metadata": {
    "colab": {
      "provenance": [],
      "toc_visible": true,
      "authorship_tag": "ABX9TyOl57l6zX+trG0o+8rKt08W",
      "include_colab_link": true
    },
    "kernelspec": {
      "name": "python3",
      "display_name": "Python 3"
    },
    "language_info": {
      "name": "python"
    }
  },
  "cells": [
    {
      "cell_type": "markdown",
      "metadata": {
        "id": "view-in-github",
        "colab_type": "text"
      },
      "source": [
        "<a href=\"https://colab.research.google.com/github/2fireontree/mulcamp34/blob/main/%EA%B8%B0%EC%B4%88%EB%AC%B8%EB%B2%95_231227_%EC%98%A4%EC%A0%84.ipynb\" target=\"_parent\"><img src=\"https://colab.research.google.com/assets/colab-badge.svg\" alt=\"Open In Colab\"/></a>"
      ]
    },
    {
      "cell_type": "markdown",
      "source": [
        "# Chapter 3. 파이썬을 계산기처럼"
      ],
      "metadata": {
        "id": "LXSN60qkof_l"
      }
    },
    {
      "cell_type": "markdown",
      "source": [
        "\n",
        "\n",
        "### 사칙연산\n",
        "\n",
        "\n"
      ],
      "metadata": {
        "id": "pFi0hdlmsT1R"
      }
    },
    {
      "cell_type": "code",
      "execution_count": null,
      "metadata": {
        "colab": {
          "base_uri": "https://localhost:8080/"
        },
        "id": "j0IKMbGUnvH3",
        "outputId": "165cca0e-1a96-4e74-ccba-e76c203a4ce1"
      },
      "outputs": [
        {
          "output_type": "execute_result",
          "data": {
            "text/plain": [
              "2"
            ]
          },
          "metadata": {},
          "execution_count": 3
        }
      ],
      "source": [
        "1+1"
      ]
    },
    {
      "cell_type": "code",
      "source": [
        "5-2"
      ],
      "metadata": {
        "colab": {
          "base_uri": "https://localhost:8080/"
        },
        "id": "joLQ07cKrlnu",
        "outputId": "0831a214-148f-4a3e-e846-82f951f8675f"
      },
      "execution_count": null,
      "outputs": [
        {
          "output_type": "execute_result",
          "data": {
            "text/plain": [
              "3"
            ]
          },
          "metadata": {},
          "execution_count": 4
        }
      ]
    },
    {
      "cell_type": "code",
      "source": [
        "5 -2"
      ],
      "metadata": {
        "colab": {
          "base_uri": "https://localhost:8080/"
        },
        "id": "_ZmPakgQrnvW",
        "outputId": "f87e0b21-b5f3-4b02-9b04-e4faa8e0a8d5"
      },
      "execution_count": null,
      "outputs": [
        {
          "output_type": "execute_result",
          "data": {
            "text/plain": [
              "3"
            ]
          },
          "metadata": {},
          "execution_count": 5
        }
      ]
    },
    {
      "cell_type": "code",
      "source": [
        "15*2\n",
        "# 정수로 덧셈, 뺄셈, 곱셈을 연산하면 정수로 나온다."
      ],
      "metadata": {
        "colab": {
          "base_uri": "https://localhost:8080/"
        },
        "id": "WgpEW0NSrppW",
        "outputId": "944ea455-a0cc-4270-fdfd-3ed301796ceb"
      },
      "execution_count": null,
      "outputs": [
        {
          "output_type": "execute_result",
          "data": {
            "text/plain": [
              "30"
            ]
          },
          "metadata": {},
          "execution_count": 6
        }
      ]
    },
    {
      "cell_type": "code",
      "source": [
        "# 나눗셈\n",
        "14/2\n",
        "# 정수로 나눠도 실수형으로 반환된다."
      ],
      "metadata": {
        "colab": {
          "base_uri": "https://localhost:8080/"
        },
        "id": "AeBr4_m9rrxd",
        "outputId": "4bbe6bb3-1424-4e1d-c0e5-8a4bea88153e"
      },
      "execution_count": null,
      "outputs": [
        {
          "output_type": "execute_result",
          "data": {
            "text/plain": [
              "7.0"
            ]
          },
          "metadata": {},
          "execution_count": 7
        }
      ]
    },
    {
      "cell_type": "markdown",
      "source": [
        "### 실수연산"
      ],
      "metadata": {
        "id": "7dFLLd6Fsc2E"
      }
    },
    {
      "cell_type": "code",
      "source": [
        "1.2 + 5.2\n",
        "1.2 - 5.2\n",
        "1.2 * 5.2\n",
        "2.4 / 2.0"
      ],
      "metadata": {
        "colab": {
          "base_uri": "https://localhost:8080/"
        },
        "id": "z4JsnjCWrxEO",
        "outputId": "1a23c5dc-2908-4916-a542-37f4f37f88d8"
      },
      "execution_count": null,
      "outputs": [
        {
          "output_type": "execute_result",
          "data": {
            "text/plain": [
              "1.2"
            ]
          },
          "metadata": {},
          "execution_count": 10
        }
      ]
    },
    {
      "cell_type": "code",
      "source": [
        "print(1.2 + 5.2)\n",
        "print(1.2 - 5.2)\n",
        "print(1.2 * 5.2)\n",
        "print(2.4 / 2.0)"
      ],
      "metadata": {
        "colab": {
          "base_uri": "https://localhost:8080/"
        },
        "id": "BMDl7MHNs4xy",
        "outputId": "f21bbc82-3523-47ec-9afe-ddc762a00826"
      },
      "execution_count": null,
      "outputs": [
        {
          "output_type": "stream",
          "name": "stdout",
          "text": [
            "6.4\n",
            "-4.0\n",
            "6.24\n",
            "1.2\n"
          ]
        }
      ]
    },
    {
      "cell_type": "markdown",
      "source": [
        "### 연산규칙\n",
        "\n",
        "- (1) 괄호 안 계산\n",
        "- (2) 지수 계산\n",
        "- (3) 곱셈, 나눗셈 계산\n",
        "- (4) 덧셈 뺄셈 계산\n",
        "- (5) 같은 순위 연산이면, 왼쪽에서 오른쪽으로\n",
        "- (6) 중복된 괄호가 있으면 안쪽에서부터 처리"
      ],
      "metadata": {
        "id": "q4GJUelFtctq"
      }
    },
    {
      "cell_type": "markdown",
      "source": [
        "### type()\n",
        "\n",
        "함수의 종류\n",
        "\n",
        "- 내장(빌트인) 함수 : 파이썬 설치와 함께 제공하는 기본적인 함수 (print, type)\n",
        "\n",
        "- 라이브러리에서 제공하는 함수\n",
        " + R: 패키지, 파이썬: 라이브러리\n",
        " + 목적이 분명.\n",
        "    - 웹사이트 개발: 해당 기능과 관련된 라이브러리를 별도로 설치한다.\\\n",
        "    - 수치연산: numpy, scipy"
      ],
      "metadata": {
        "id": "oWUvcq_JuytC"
      }
    },
    {
      "cell_type": "code",
      "source": [
        "## 파이썬에서는 정수를 어떻게 표현하나\n",
        "print(type(3))"
      ],
      "metadata": {
        "colab": {
          "base_uri": "https://localhost:8080/"
        },
        "id": "5IXp9Q8OuxqU",
        "outputId": "6583426a-8e5d-4cdf-c69a-596ae761193d"
      },
      "execution_count": null,
      "outputs": [
        {
          "output_type": "stream",
          "name": "stdout",
          "text": [
            "<class 'int'>\n"
          ]
        }
      ]
    },
    {
      "cell_type": "code",
      "source": [
        "## 파이썬에서는 실수를 어떻게 표현하나\n",
        "print(type(3.5))"
      ],
      "metadata": {
        "colab": {
          "base_uri": "https://localhost:8080/"
        },
        "id": "uV18IHTBu_Cv",
        "outputId": "28ed57c0-eae9-4cad-d72f-79a974682fc9"
      },
      "execution_count": null,
      "outputs": [
        {
          "output_type": "stream",
          "name": "stdout",
          "text": [
            "<class 'float'>\n"
          ]
        }
      ]
    },
    {
      "cell_type": "markdown",
      "source": [
        "## 거듭 제곱과 나머지"
      ],
      "metadata": {
        "id": "MQmr97sn2EME"
      }
    },
    {
      "cell_type": "code",
      "source": [
        "print(2**5)\n",
        "# 거듭제곱"
      ],
      "metadata": {
        "colab": {
          "base_uri": "https://localhost:8080/"
        },
        "id": "pkvG1Z9L2HEe",
        "outputId": "5ab571a8-3a1b-42fa-b355-6f77c978bae1"
      },
      "execution_count": null,
      "outputs": [
        {
          "output_type": "stream",
          "name": "stdout",
          "text": [
            "32\n"
          ]
        }
      ]
    },
    {
      "cell_type": "code",
      "source": [
        "print(13%5)\n",
        "# 나머지를 구하기"
      ],
      "metadata": {
        "colab": {
          "base_uri": "https://localhost:8080/"
        },
        "id": "NFjIK_N22ja1",
        "outputId": "244237f8-cada-4e82-846b-dc415b324a66"
      },
      "execution_count": null,
      "outputs": [
        {
          "output_type": "stream",
          "name": "stdout",
          "text": [
            "3\n"
          ]
        }
      ]
    },
    {
      "cell_type": "code",
      "source": [
        "print(13//5)\n",
        "# 몫 구하기"
      ],
      "metadata": {
        "colab": {
          "base_uri": "https://localhost:8080/"
        },
        "id": "7uJeO3_02xhW",
        "outputId": "fed99a98-109b-49a9-a738-62d5674270cc"
      },
      "execution_count": null,
      "outputs": [
        {
          "output_type": "stream",
          "name": "stdout",
          "text": [
            "2\n"
          ]
        }
      ]
    },
    {
      "cell_type": "markdown",
      "source": [
        "교재 표 3-1 산술연산자 표 정리"
      ],
      "metadata": {
        "id": "YpXUdpcq3Gwa"
      }
    },
    {
      "cell_type": "markdown",
      "source": [
        "## 과학적 표기법(scientific notation)\n",
        "- 아주 큰 수, 작은 수를 다뤄야 하는 케이스\n",
        "3*10^8 을 다음과 같이 표현할 수 있다."
      ],
      "metadata": {
        "id": "ovh06j-Z3fM8"
      }
    },
    {
      "cell_type": "code",
      "source": [
        "3*10**8"
      ],
      "metadata": {
        "colab": {
          "base_uri": "https://localhost:8080/"
        },
        "id": "N2pA-tp94OJN",
        "outputId": "cc9e4f1e-b098-448d-ebb9-6bba3745e2cb"
      },
      "execution_count": null,
      "outputs": [
        {
          "output_type": "execute_result",
          "data": {
            "text/plain": [
              "300000000"
            ]
          },
          "metadata": {},
          "execution_count": 19
        }
      ]
    },
    {
      "cell_type": "code",
      "source": [
        "3e8"
      ],
      "metadata": {
        "colab": {
          "base_uri": "https://localhost:8080/"
        },
        "id": "fPtPpoAw4Ssc",
        "outputId": "0e1b9701-99d2-4852-d164-8f6d7210a3c1"
      },
      "execution_count": null,
      "outputs": [
        {
          "output_type": "execute_result",
          "data": {
            "text/plain": [
              "300000000.0"
            ]
          },
          "metadata": {},
          "execution_count": 20
        }
      ]
    },
    {
      "cell_type": "code",
      "source": [
        "print(3e-4)"
      ],
      "metadata": {
        "colab": {
          "base_uri": "https://localhost:8080/"
        },
        "id": "eHwDsaRa4UAz",
        "outputId": "ce8e2f8d-7595-4aa2-d860-34314f641944"
      },
      "execution_count": null,
      "outputs": [
        {
          "output_type": "stream",
          "name": "stdout",
          "text": [
            "0.0003\n"
          ]
        }
      ]
    },
    {
      "cell_type": "code",
      "source": [
        "print(1e-4)"
      ],
      "metadata": {
        "colab": {
          "base_uri": "https://localhost:8080/"
        },
        "id": "9PcDbp154u2k",
        "outputId": "ae6fa0a9-fdad-4ebf-d2d5-756fc6398d3f"
      },
      "execution_count": null,
      "outputs": [
        {
          "output_type": "stream",
          "name": "stdout",
          "text": [
            "0.0001\n"
          ]
        }
      ]
    },
    {
      "cell_type": "markdown",
      "source": [
        "## 진수 표현과 변환\n",
        "- 10진법, 60진법(시간)\n",
        "- 8진법:0~7까지의 숫자\n",
        "- 16진법: 0~9, a, b, c, d, e, f\n",
        "- 변환 메서드: bin(), oct(), hex()"
      ],
      "metadata": {
        "id": "5HirOWtN5Psm"
      }
    },
    {
      "cell_type": "code",
      "source": [
        "0b1001 # 2진법"
      ],
      "metadata": {
        "colab": {
          "base_uri": "https://localhost:8080/"
        },
        "id": "1IJbVcmx4xrK",
        "outputId": "97f033bf-f7d9-4872-c8cf-853d34bfc184"
      },
      "execution_count": null,
      "outputs": [
        {
          "output_type": "execute_result",
          "data": {
            "text/plain": [
              "9"
            ]
          },
          "metadata": {},
          "execution_count": 23
        }
      ]
    },
    {
      "cell_type": "code",
      "source": [
        "0o21 # 8진법"
      ],
      "metadata": {
        "colab": {
          "base_uri": "https://localhost:8080/"
        },
        "id": "yAuJAp7P6cf_",
        "outputId": "99a2fc92-e021-402f-88c9-74dc99c1b4f0"
      },
      "execution_count": null,
      "outputs": [
        {
          "output_type": "execute_result",
          "data": {
            "text/plain": [
              "17"
            ]
          },
          "metadata": {},
          "execution_count": 24
        }
      ]
    },
    {
      "cell_type": "code",
      "source": [
        "0x11 #16진법"
      ],
      "metadata": {
        "colab": {
          "base_uri": "https://localhost:8080/"
        },
        "id": "Btx4QD9j6gkF",
        "outputId": "951aa2b3-495a-4616-85e0-e351530f9e1d"
      },
      "execution_count": null,
      "outputs": [
        {
          "output_type": "execute_result",
          "data": {
            "text/plain": [
              "17"
            ]
          },
          "metadata": {},
          "execution_count": 25
        }
      ]
    },
    {
      "cell_type": "markdown",
      "source": [
        "## 논리 연산과 비교 연산\n",
        "- 참과 거짓\n",
        "- 논리 연산을 잘 활용하는 것이 프로그래밍의 핵심\n",
        "\n"
      ],
      "metadata": {
        "id": "YTcaMtv87HqF"
      }
    },
    {
      "cell_type": "code",
      "source": [
        "print(True)"
      ],
      "metadata": {
        "colab": {
          "base_uri": "https://localhost:8080/"
        },
        "id": "CBxttLYN75Rj",
        "outputId": "f999060b-9011-448a-affe-f30cf0daa98c"
      },
      "execution_count": null,
      "outputs": [
        {
          "output_type": "stream",
          "name": "stdout",
          "text": [
            "True\n"
          ]
        }
      ]
    },
    {
      "cell_type": "code",
      "source": [
        "print(False)"
      ],
      "metadata": {
        "colab": {
          "base_uri": "https://localhost:8080/"
        },
        "id": "IUCjiVqp7788",
        "outputId": "480fb184-00f4-46c1-bee9-630ef299e4f7"
      },
      "execution_count": null,
      "outputs": [
        {
          "output_type": "stream",
          "name": "stdout",
          "text": [
            "False\n"
          ]
        }
      ]
    },
    {
      "cell_type": "code",
      "source": [
        "type(True)"
      ],
      "metadata": {
        "colab": {
          "base_uri": "https://localhost:8080/"
        },
        "id": "WkO74oIc796b",
        "outputId": "638bb019-207d-4549-86e1-d78daa6bcd02"
      },
      "execution_count": null,
      "outputs": [
        {
          "output_type": "execute_result",
          "data": {
            "text/plain": [
              "bool"
            ]
          },
          "metadata": {},
          "execution_count": 31
        }
      ]
    },
    {
      "cell_type": "code",
      "source": [
        "print(type(True))"
      ],
      "metadata": {
        "colab": {
          "base_uri": "https://localhost:8080/"
        },
        "id": "d9FVh9h28HVa",
        "outputId": "9b93df15-73b9-4d12-cc1b-ec00513567c3"
      },
      "execution_count": null,
      "outputs": [
        {
          "output_type": "stream",
          "name": "stdout",
          "text": [
            "<class 'bool'>\n"
          ]
        }
      ]
    },
    {
      "cell_type": "markdown",
      "source": [
        "## 논리 연산자\n",
        "- and: 모두 참이어야 함\n",
        "- or: 하나라도 참이면 참\n",
        "- not: 부정, not A -> A가 참일 때 거짓. A가 거짓이면 참."
      ],
      "metadata": {
        "id": "qhJviJRE8YNs"
      }
    },
    {
      "cell_type": "code",
      "source": [
        "print(True and True)\n",
        "print(True and False)\n",
        "print(False and False)\n",
        "print(True or False)\n",
        "print(False or False)"
      ],
      "metadata": {
        "colab": {
          "base_uri": "https://localhost:8080/"
        },
        "id": "AM41Tqa_BSpF",
        "outputId": "f80a5920-c7dd-4839-cc53-a1fd7c334d31"
      },
      "execution_count": null,
      "outputs": [
        {
          "output_type": "stream",
          "name": "stdout",
          "text": [
            "True\n",
            "False\n",
            "False\n",
            "True\n",
            "False\n"
          ]
        }
      ]
    },
    {
      "cell_type": "code",
      "source": [
        "print(not True)\n",
        "\n",
        "#True 또는 False 결과가 나오도록 조건식을 만드는 것이 코딩의 핵심이다."
      ],
      "metadata": {
        "colab": {
          "base_uri": "https://localhost:8080/"
        },
        "id": "xnzlJndkBdtQ",
        "outputId": "30d79da4-6228-49ad-9afa-6834e2529bb5"
      },
      "execution_count": null,
      "outputs": [
        {
          "output_type": "stream",
          "name": "stdout",
          "text": [
            "False\n"
          ]
        }
      ]
    },
    {
      "cell_type": "markdown",
      "source": [
        "## 비교연산자"
      ],
      "metadata": {
        "id": "kAU1ginKCi6R"
      }
    },
    {
      "cell_type": "code",
      "source": [
        "1 == 2"
      ],
      "metadata": {
        "colab": {
          "base_uri": "https://localhost:8080/"
        },
        "id": "qJOVnVdeClmJ",
        "outputId": "52aae2de-27f8-4793-a932-8d28307447f1"
      },
      "execution_count": null,
      "outputs": [
        {
          "output_type": "execute_result",
          "data": {
            "text/plain": [
              "False"
            ]
          },
          "metadata": {},
          "execution_count": 40
        }
      ]
    },
    {
      "cell_type": "code",
      "source": [
        "1 != 2"
      ],
      "metadata": {
        "colab": {
          "base_uri": "https://localhost:8080/"
        },
        "id": "_h2_xaF5DEr_",
        "outputId": "e08979f5-e9a7-4234-abb8-3500f4308448"
      },
      "execution_count": null,
      "outputs": [
        {
          "output_type": "execute_result",
          "data": {
            "text/plain": [
              "True"
            ]
          },
          "metadata": {},
          "execution_count": 41
        }
      ]
    },
    {
      "cell_type": "code",
      "source": [
        "print(1 <=2)"
      ],
      "metadata": {
        "colab": {
          "base_uri": "https://localhost:8080/"
        },
        "id": "-ONDnIoqDG-A",
        "outputId": "48ef3e59-339c-4114-c086-ff72949a3225"
      },
      "execution_count": null,
      "outputs": [
        {
          "output_type": "stream",
          "name": "stdout",
          "text": [
            "True\n"
          ]
        }
      ]
    },
    {
      "cell_type": "markdown",
      "source": [
        "## 비교연산자와 논리연산자\n",
        "- 비교연산자를 1순위로 연산하고 논리연산자를 한다."
      ],
      "metadata": {
        "id": "DqD2kraHD9SU"
      }
    },
    {
      "cell_type": "code",
      "source": [
        "print(1 > 0 and -2 < 0)\n",
        "print((3 < 0) and (-5 > 0) and (1>5))\n",
        "print((3 < 0) or (-5 > 0) or (1 < 5))"
      ],
      "metadata": {
        "colab": {
          "base_uri": "https://localhost:8080/"
        },
        "id": "Mbtt7_pFEBKa",
        "outputId": "6ef9f187-67e4-47b6-f65e-1ad0adc5578a"
      },
      "execution_count": null,
      "outputs": [
        {
          "output_type": "stream",
          "name": "stdout",
          "text": [
            "True\n",
            "False\n",
            "True\n"
          ]
        }
      ]
    },
    {
      "cell_type": "markdown",
      "source": [
        "#### 깃허브 연동 테스트용 텍스트\n",
        "- 오전에는 실패\n",
        "-\n",
        "- Repo 1: 학습, 교육용 Mulcamp-lecture\n",
        "- Repo 2: 멀캠 세미 프로젝트 관련\n",
        "- Repo 3: 00공모전 관련\n",
        "(...)\n",
        "\n",
        "- 옵션: 자기소개 관련 레포를 만들어라\n",
        "- 향후 링크를 추가할 수 있다."
      ],
      "metadata": {
        "id": "ArL7vUb4LWHZ"
      }
    },
    {
      "cell_type": "markdown",
      "source": [
        "# Chapter 4. 변수와 자료형"
      ],
      "metadata": {
        "id": "ESU-3u5coly_"
      }
    },
    {
      "cell_type": "markdown",
      "source": [
        "파이썬은 객체지향 언어입니다."
      ],
      "metadata": {
        "id": "i39IJDHW1yOu"
      }
    }
  ]
}