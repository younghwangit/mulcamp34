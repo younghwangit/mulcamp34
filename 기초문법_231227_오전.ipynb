{
  "nbformat": 4,
  "nbformat_minor": 0,
  "metadata": {
    "colab": {
      "provenance": [],
      "collapsed_sections": [
        "DqD2kraHD9SU"
      ],
      "authorship_tag": "ABX9TyMN1rxfJpPiUJ0k2qRTb/oe",
      "include_colab_link": true
    },
    "kernelspec": {
      "name": "python3",
      "display_name": "Python 3"
    },
    "language_info": {
      "name": "python"
    }
  },
  "cells": [
    {
      "cell_type": "markdown",
      "metadata": {
        "id": "view-in-github",
        "colab_type": "text"
      },
      "source": [
        "<a href=\"https://colab.research.google.com/github/2fireontree/mulcamp34/blob/main/%EA%B8%B0%EC%B4%88%EB%AC%B8%EB%B2%95_231227_%EC%98%A4%EC%A0%84.ipynb\" target=\"_parent\"><img src=\"https://colab.research.google.com/assets/colab-badge.svg\" alt=\"Open In Colab\"/></a>"
      ]
    },
    {
      "cell_type": "markdown",
      "source": [
        "# Chapter 3. 파이썬을 계산기처럼"
      ],
      "metadata": {
        "id": "LXSN60qkof_l"
      }
    },
    {
      "cell_type": "markdown",
      "source": [
        "\n",
        "\n",
        "### 사칙연산\n",
        "\n",
        "\n"
      ],
      "metadata": {
        "id": "pFi0hdlmsT1R"
      }
    },
    {
      "cell_type": "code",
      "execution_count": 1,
      "metadata": {
        "colab": {
          "base_uri": "https://localhost:8080/"
        },
        "id": "j0IKMbGUnvH3",
        "outputId": "4786cffa-d337-4a71-f53f-68acb432e760"
      },
      "outputs": [
        {
          "output_type": "execute_result",
          "data": {
            "text/plain": [
              "2"
            ]
          },
          "metadata": {},
          "execution_count": 1
        }
      ],
      "source": [
        "1+1"
      ]
    },
    {
      "cell_type": "code",
      "source": [
        "5-2"
      ],
      "metadata": {
        "colab": {
          "base_uri": "https://localhost:8080/"
        },
        "id": "joLQ07cKrlnu",
        "outputId": "3a4b00b6-0f1c-4ab4-87cd-e3c0518c54ca"
      },
      "execution_count": 2,
      "outputs": [
        {
          "output_type": "execute_result",
          "data": {
            "text/plain": [
              "3"
            ]
          },
          "metadata": {},
          "execution_count": 2
        }
      ]
    },
    {
      "cell_type": "code",
      "source": [
        "5 -2"
      ],
      "metadata": {
        "colab": {
          "base_uri": "https://localhost:8080/"
        },
        "id": "_ZmPakgQrnvW",
        "outputId": "3094c9f9-1e69-4b4c-ef00-5fc4824b1caf"
      },
      "execution_count": 3,
      "outputs": [
        {
          "output_type": "execute_result",
          "data": {
            "text/plain": [
              "3"
            ]
          },
          "metadata": {},
          "execution_count": 3
        }
      ]
    },
    {
      "cell_type": "code",
      "source": [
        "15*2\n",
        "# 정수로 덧셈, 뺄셈, 곱셈을 연산하면 정수로 나온다."
      ],
      "metadata": {
        "colab": {
          "base_uri": "https://localhost:8080/"
        },
        "id": "WgpEW0NSrppW",
        "outputId": "09410537-62a6-4148-b22f-30f4440c9e12"
      },
      "execution_count": 4,
      "outputs": [
        {
          "output_type": "execute_result",
          "data": {
            "text/plain": [
              "30"
            ]
          },
          "metadata": {},
          "execution_count": 4
        }
      ]
    },
    {
      "cell_type": "code",
      "source": [
        "# 나눗셈\n",
        "14/2\n",
        "# 정수로 나눠도 실수형으로 반환된다."
      ],
      "metadata": {
        "colab": {
          "base_uri": "https://localhost:8080/"
        },
        "id": "AeBr4_m9rrxd",
        "outputId": "1536df0e-0f6c-465f-a4e4-4ef3b29ff3de"
      },
      "execution_count": 5,
      "outputs": [
        {
          "output_type": "execute_result",
          "data": {
            "text/plain": [
              "7.0"
            ]
          },
          "metadata": {},
          "execution_count": 5
        }
      ]
    },
    {
      "cell_type": "markdown",
      "source": [
        "### 실수연산"
      ],
      "metadata": {
        "id": "7dFLLd6Fsc2E"
      }
    },
    {
      "cell_type": "code",
      "source": [
        "1.2 + 5.2\n",
        "1.2 - 5.2\n",
        "1.2 * 5.2\n",
        "2.4 / 2.0"
      ],
      "metadata": {
        "colab": {
          "base_uri": "https://localhost:8080/"
        },
        "id": "z4JsnjCWrxEO",
        "outputId": "550e160e-bd15-472a-83cd-c8fdfc8451b2"
      },
      "execution_count": 6,
      "outputs": [
        {
          "output_type": "execute_result",
          "data": {
            "text/plain": [
              "1.2"
            ]
          },
          "metadata": {},
          "execution_count": 6
        }
      ]
    },
    {
      "cell_type": "code",
      "source": [
        "print(1.2 + 5.2)\n",
        "print(1.2 - 5.2)\n",
        "print(1.2 * 5.2)\n",
        "print(2.4 / 2.0)"
      ],
      "metadata": {
        "colab": {
          "base_uri": "https://localhost:8080/"
        },
        "id": "BMDl7MHNs4xy",
        "outputId": "3936695b-7c0a-4734-a493-0d41c8462d61"
      },
      "execution_count": 7,
      "outputs": [
        {
          "output_type": "stream",
          "name": "stdout",
          "text": [
            "6.4\n",
            "-4.0\n",
            "6.24\n",
            "1.2\n"
          ]
        }
      ]
    },
    {
      "cell_type": "markdown",
      "source": [
        "### 연산규칙\n",
        "\n",
        "- (1) 괄호 안 계산\n",
        "- (2) 지수 계산\n",
        "- (3) 곱셈, 나눗셈 계산\n",
        "- (4) 덧셈 뺄셈 계산\n",
        "- (5) 같은 순위 연산이면, 왼쪽에서 오른쪽으로\n",
        "- (6) 중복된 괄호가 있으면 안쪽에서부터 처리"
      ],
      "metadata": {
        "id": "q4GJUelFtctq"
      }
    },
    {
      "cell_type": "markdown",
      "source": [
        "### type()\n",
        "\n",
        "함수의 종류\n",
        "\n",
        "- 내장(빌트인) 함수 : 파이썬 설치와 함께 제공하는 기본적인 함수 (print, type)\n",
        "\n",
        "- 라이브러리에서 제공하는 함수\n",
        " + R: 패키지, 파이썬: 라이브러리\n",
        " + 목적이 분명.\n",
        "    - 웹사이트 개발: 해당 기능과 관련된 라이브러리를 별도로 설치한다.\\\n",
        "    - 수치연산: numpy, scipy"
      ],
      "metadata": {
        "id": "oWUvcq_JuytC"
      }
    },
    {
      "cell_type": "code",
      "source": [
        "## 파이썬에서는 정수를 어떻게 표현하나\n",
        "print(type(3))"
      ],
      "metadata": {
        "colab": {
          "base_uri": "https://localhost:8080/"
        },
        "id": "5IXp9Q8OuxqU",
        "outputId": "385b5bde-c7de-4d66-884b-17acaeaa1ed0"
      },
      "execution_count": 8,
      "outputs": [
        {
          "output_type": "stream",
          "name": "stdout",
          "text": [
            "<class 'int'>\n"
          ]
        }
      ]
    },
    {
      "cell_type": "code",
      "source": [
        "## 파이썬에서는 실수를 어떻게 표현하나\n",
        "print(type(3.5))"
      ],
      "metadata": {
        "colab": {
          "base_uri": "https://localhost:8080/"
        },
        "id": "uV18IHTBu_Cv",
        "outputId": "1e9871e8-2758-4532-cb17-00f52e327601"
      },
      "execution_count": 9,
      "outputs": [
        {
          "output_type": "stream",
          "name": "stdout",
          "text": [
            "<class 'float'>\n"
          ]
        }
      ]
    },
    {
      "cell_type": "markdown",
      "source": [
        "## 거듭 제곱과 나머지"
      ],
      "metadata": {
        "id": "MQmr97sn2EME"
      }
    },
    {
      "cell_type": "code",
      "source": [
        "print(2**5)\n",
        "# 거듭제곱"
      ],
      "metadata": {
        "colab": {
          "base_uri": "https://localhost:8080/"
        },
        "id": "pkvG1Z9L2HEe",
        "outputId": "fc8cc35a-1637-4df5-c29a-80105e1c8a4e"
      },
      "execution_count": 10,
      "outputs": [
        {
          "output_type": "stream",
          "name": "stdout",
          "text": [
            "32\n"
          ]
        }
      ]
    },
    {
      "cell_type": "code",
      "source": [
        "print(13%5)\n",
        "# 나머지를 구하기"
      ],
      "metadata": {
        "colab": {
          "base_uri": "https://localhost:8080/"
        },
        "id": "NFjIK_N22ja1",
        "outputId": "f5de8264-7386-4114-b51e-caaae0d868d1"
      },
      "execution_count": 11,
      "outputs": [
        {
          "output_type": "stream",
          "name": "stdout",
          "text": [
            "3\n"
          ]
        }
      ]
    },
    {
      "cell_type": "code",
      "source": [
        "print(13//5)\n",
        "# 몫 구하기"
      ],
      "metadata": {
        "colab": {
          "base_uri": "https://localhost:8080/"
        },
        "id": "7uJeO3_02xhW",
        "outputId": "aa885e55-5098-48e5-e92d-fa8c1ec5047e"
      },
      "execution_count": 12,
      "outputs": [
        {
          "output_type": "stream",
          "name": "stdout",
          "text": [
            "2\n"
          ]
        }
      ]
    },
    {
      "cell_type": "markdown",
      "source": [
        "교재 표 3-1 산술연산자 표 정리"
      ],
      "metadata": {
        "id": "YpXUdpcq3Gwa"
      }
    },
    {
      "cell_type": "markdown",
      "source": [
        "## 과학적 표기법(scientific notation)\n",
        "- 아주 큰 수, 작은 수를 다뤄야 하는 케이스\n",
        "3*10^8 을 다음과 같이 표현할 수 있다."
      ],
      "metadata": {
        "id": "ovh06j-Z3fM8"
      }
    },
    {
      "cell_type": "code",
      "source": [
        "3*10**8"
      ],
      "metadata": {
        "colab": {
          "base_uri": "https://localhost:8080/"
        },
        "id": "N2pA-tp94OJN",
        "outputId": "574b17ca-8752-4840-c082-3511be239403"
      },
      "execution_count": 13,
      "outputs": [
        {
          "output_type": "execute_result",
          "data": {
            "text/plain": [
              "300000000"
            ]
          },
          "metadata": {},
          "execution_count": 13
        }
      ]
    },
    {
      "cell_type": "code",
      "source": [
        "3e8"
      ],
      "metadata": {
        "colab": {
          "base_uri": "https://localhost:8080/"
        },
        "id": "fPtPpoAw4Ssc",
        "outputId": "2a762dd6-b868-4776-98e7-808c872e283b"
      },
      "execution_count": 14,
      "outputs": [
        {
          "output_type": "execute_result",
          "data": {
            "text/plain": [
              "300000000.0"
            ]
          },
          "metadata": {},
          "execution_count": 14
        }
      ]
    },
    {
      "cell_type": "code",
      "source": [
        "print(3e-4)"
      ],
      "metadata": {
        "colab": {
          "base_uri": "https://localhost:8080/"
        },
        "id": "eHwDsaRa4UAz",
        "outputId": "4ce83fbe-a113-4f74-d756-cd4beebea3c2"
      },
      "execution_count": 15,
      "outputs": [
        {
          "output_type": "stream",
          "name": "stdout",
          "text": [
            "0.0003\n"
          ]
        }
      ]
    },
    {
      "cell_type": "code",
      "source": [
        "print(1e-4)"
      ],
      "metadata": {
        "colab": {
          "base_uri": "https://localhost:8080/"
        },
        "id": "9PcDbp154u2k",
        "outputId": "6b289b86-7ab8-486b-81db-e82f31596d91"
      },
      "execution_count": 16,
      "outputs": [
        {
          "output_type": "stream",
          "name": "stdout",
          "text": [
            "0.0001\n"
          ]
        }
      ]
    },
    {
      "cell_type": "markdown",
      "source": [
        "## 진수 표현과 변환\n",
        "- 10진법, 60진법(시간)\n",
        "- 8진법:0~7까지의 숫자\n",
        "- 16진법: 0~9, a, b, c, d, e, f\n",
        "- 변환 메서드: bin(), oct(), hex()"
      ],
      "metadata": {
        "id": "5HirOWtN5Psm"
      }
    },
    {
      "cell_type": "code",
      "source": [
        "0b1001 # 2진법"
      ],
      "metadata": {
        "colab": {
          "base_uri": "https://localhost:8080/"
        },
        "id": "1IJbVcmx4xrK",
        "outputId": "eaabb6dd-324f-4779-f335-1e1d3318e6fa"
      },
      "execution_count": 17,
      "outputs": [
        {
          "output_type": "execute_result",
          "data": {
            "text/plain": [
              "9"
            ]
          },
          "metadata": {},
          "execution_count": 17
        }
      ]
    },
    {
      "cell_type": "code",
      "source": [
        "0o21 # 8진법"
      ],
      "metadata": {
        "colab": {
          "base_uri": "https://localhost:8080/"
        },
        "id": "yAuJAp7P6cf_",
        "outputId": "0c5fcad7-7078-429d-dd71-c773dbaec62d"
      },
      "execution_count": 18,
      "outputs": [
        {
          "output_type": "execute_result",
          "data": {
            "text/plain": [
              "17"
            ]
          },
          "metadata": {},
          "execution_count": 18
        }
      ]
    },
    {
      "cell_type": "code",
      "source": [
        "0x11 #16진법"
      ],
      "metadata": {
        "colab": {
          "base_uri": "https://localhost:8080/"
        },
        "id": "Btx4QD9j6gkF",
        "outputId": "03df130f-d3e3-40a7-8fe0-68ecdb7bb013"
      },
      "execution_count": 19,
      "outputs": [
        {
          "output_type": "execute_result",
          "data": {
            "text/plain": [
              "17"
            ]
          },
          "metadata": {},
          "execution_count": 19
        }
      ]
    },
    {
      "cell_type": "markdown",
      "source": [
        "## 논리 연산과 비교 연산\n",
        "- 참과 거짓\n",
        "- 논리 연산을 잘 활용하는 것이 프로그래밍의 핵심\n",
        "\n"
      ],
      "metadata": {
        "id": "YTcaMtv87HqF"
      }
    },
    {
      "cell_type": "code",
      "source": [
        "print(True)"
      ],
      "metadata": {
        "colab": {
          "base_uri": "https://localhost:8080/"
        },
        "id": "CBxttLYN75Rj",
        "outputId": "deb00b38-ad68-4819-888e-f3265b4397b4"
      },
      "execution_count": 20,
      "outputs": [
        {
          "output_type": "stream",
          "name": "stdout",
          "text": [
            "True\n"
          ]
        }
      ]
    },
    {
      "cell_type": "code",
      "source": [
        "print(False)"
      ],
      "metadata": {
        "colab": {
          "base_uri": "https://localhost:8080/"
        },
        "id": "IUCjiVqp7788",
        "outputId": "900e705e-fbc8-4454-dce6-63c3ab169edb"
      },
      "execution_count": 21,
      "outputs": [
        {
          "output_type": "stream",
          "name": "stdout",
          "text": [
            "False\n"
          ]
        }
      ]
    },
    {
      "cell_type": "code",
      "source": [
        "type(True)"
      ],
      "metadata": {
        "colab": {
          "base_uri": "https://localhost:8080/"
        },
        "id": "WkO74oIc796b",
        "outputId": "d3189478-5dcb-4399-cc6c-9956e57ca32b"
      },
      "execution_count": 22,
      "outputs": [
        {
          "output_type": "execute_result",
          "data": {
            "text/plain": [
              "bool"
            ]
          },
          "metadata": {},
          "execution_count": 22
        }
      ]
    },
    {
      "cell_type": "code",
      "source": [
        "print(type(True))"
      ],
      "metadata": {
        "colab": {
          "base_uri": "https://localhost:8080/"
        },
        "id": "d9FVh9h28HVa",
        "outputId": "30bb4b11-5cdc-41c9-fa80-94be6f00945f"
      },
      "execution_count": 23,
      "outputs": [
        {
          "output_type": "stream",
          "name": "stdout",
          "text": [
            "<class 'bool'>\n"
          ]
        }
      ]
    },
    {
      "cell_type": "markdown",
      "source": [
        "## 논리 연산자\n",
        "- and: 모두 참이어야 함\n",
        "- or: 하나라도 참이면 참\n",
        "- not: 부정, not A -> A가 참일 때 거짓. A가 거짓이면 참."
      ],
      "metadata": {
        "id": "qhJviJRE8YNs"
      }
    },
    {
      "cell_type": "code",
      "source": [
        "print(True and True)\n",
        "print(True and False)\n",
        "print(False and False)\n",
        "print(True or False)\n",
        "print(False or False)"
      ],
      "metadata": {
        "colab": {
          "base_uri": "https://localhost:8080/"
        },
        "id": "AM41Tqa_BSpF",
        "outputId": "e9149858-6280-492a-ee8c-d60dd614dd54"
      },
      "execution_count": 24,
      "outputs": [
        {
          "output_type": "stream",
          "name": "stdout",
          "text": [
            "True\n",
            "False\n",
            "False\n",
            "True\n",
            "False\n"
          ]
        }
      ]
    },
    {
      "cell_type": "code",
      "source": [
        "print(not True)\n",
        "\n",
        "#True 또는 False 결과가 나오도록 조건식을 만드는 것이 코딩의 핵심이다."
      ],
      "metadata": {
        "colab": {
          "base_uri": "https://localhost:8080/"
        },
        "id": "xnzlJndkBdtQ",
        "outputId": "a82b658d-5e9e-46e2-ac19-0391b50a7e44"
      },
      "execution_count": 25,
      "outputs": [
        {
          "output_type": "stream",
          "name": "stdout",
          "text": [
            "False\n"
          ]
        }
      ]
    },
    {
      "cell_type": "markdown",
      "source": [
        "## 비교연산자"
      ],
      "metadata": {
        "id": "kAU1ginKCi6R"
      }
    },
    {
      "cell_type": "code",
      "source": [
        "1 == 2"
      ],
      "metadata": {
        "colab": {
          "base_uri": "https://localhost:8080/"
        },
        "id": "qJOVnVdeClmJ",
        "outputId": "405f8bf0-2cae-453b-9b64-de0b6ef9cb0b"
      },
      "execution_count": 26,
      "outputs": [
        {
          "output_type": "execute_result",
          "data": {
            "text/plain": [
              "False"
            ]
          },
          "metadata": {},
          "execution_count": 26
        }
      ]
    },
    {
      "cell_type": "code",
      "source": [
        "1 != 2"
      ],
      "metadata": {
        "colab": {
          "base_uri": "https://localhost:8080/"
        },
        "id": "_h2_xaF5DEr_",
        "outputId": "6cdf6fac-f177-406a-d1d7-10ceed1bff79"
      },
      "execution_count": 27,
      "outputs": [
        {
          "output_type": "execute_result",
          "data": {
            "text/plain": [
              "True"
            ]
          },
          "metadata": {},
          "execution_count": 27
        }
      ]
    },
    {
      "cell_type": "code",
      "source": [
        "print(1 <=2)"
      ],
      "metadata": {
        "colab": {
          "base_uri": "https://localhost:8080/"
        },
        "id": "-ONDnIoqDG-A",
        "outputId": "642db4ed-a8a0-4099-cfba-07b2f30bd9d9"
      },
      "execution_count": 28,
      "outputs": [
        {
          "output_type": "stream",
          "name": "stdout",
          "text": [
            "True\n"
          ]
        }
      ]
    },
    {
      "cell_type": "markdown",
      "source": [
        "## 비교연산자와 논리연산자\n",
        "- 비교연산자를 1순위로 연산하고 논리연산자를 한다."
      ],
      "metadata": {
        "id": "DqD2kraHD9SU"
      }
    },
    {
      "cell_type": "code",
      "source": [
        "print(1 > 0 and -2 < 0)\n",
        "print((3 < 0) and (-5 > 0) and (1>5))\n",
        "print((3 < 0) or (-5 > 0) or (1 < 5))"
      ],
      "metadata": {
        "colab": {
          "base_uri": "https://localhost:8080/"
        },
        "id": "Mbtt7_pFEBKa",
        "outputId": "3ad72ecf-640c-47c4-8425-2efc8ffaed99"
      },
      "execution_count": 29,
      "outputs": [
        {
          "output_type": "stream",
          "name": "stdout",
          "text": [
            "True\n",
            "False\n",
            "True\n"
          ]
        }
      ]
    },
    {
      "cell_type": "markdown",
      "source": [
        "#### 깃허브 연동 테스트용 텍스트\n",
        "- 오전에는 실패\n",
        "- 오후에는 성공. 완전 자동이 아니라 같은 파일명을 유지한 상태로 사본저장을 눌러 커밋해줘야 함\n",
        "-\n",
        "- Repo 1: 학습, 교육용 Mulcamp-lecture\n",
        "- Repo 2: 멀캠 세미 프로젝트 관련\n",
        "- Repo 3: 00공모전 관련\n",
        "(...)\n",
        "\n",
        "- 옵션: 자기소개 관련 레포를 만들어라\n",
        "- 향후 링크를 추가할 수 있다."
      ],
      "metadata": {
        "id": "ArL7vUb4LWHZ"
      }
    },
    {
      "cell_type": "markdown",
      "source": [
        "# Chapter 4. 변수와 자료형"
      ],
      "metadata": {
        "id": "ESU-3u5coly_"
      }
    },
    {
      "cell_type": "markdown",
      "source": [
        "파이썬은 객체지향 언어입니다."
      ],
      "metadata": {
        "id": "i39IJDHW1yOu"
      }
    },
    {
      "cell_type": "markdown",
      "source": [
        "### 변수 (p42)\n",
        "\n",
        "변수명 = data"
      ],
      "metadata": {
        "id": "RD_oN_W9fgpa"
      }
    },
    {
      "cell_type": "code",
      "source": [
        "a = 100\n",
        "print(a)"
      ],
      "metadata": {
        "colab": {
          "base_uri": "https://localhost:8080/"
        },
        "id": "D9h_Pg3pfnln",
        "outputId": "8f165c1d-e0be-49d4-9dc9-bfa0264f2520"
      },
      "execution_count": 4,
      "outputs": [
        {
          "output_type": "stream",
          "name": "stdout",
          "text": [
            "100\n"
          ]
        }
      ]
    },
    {
      "cell_type": "code",
      "source": [
        "#변수명 짓기 규칙: snake, camel\n",
        "\n",
        "#Snake\n",
        "num_a = 100\n",
        "num_b = 100\n",
        "\n",
        "# Camel\n",
        "myStudent = \"even\"\n",
        "mySchool = \"학교이름\"\n",
        "\n",
        "# 주의사항: \"3star\" 과 같이 앞에 숫자가 오면 안 된다.\n",
        "# 내장함수명을 변수명으로 만들면 안 된다. ex.) print(print)\n",
        "# 변수명 작성 시 공백이 있으면 안 됨"
      ],
      "metadata": {
        "id": "B3CeNDnVfqUu"
      },
      "execution_count": 2,
      "outputs": []
    },
    {
      "cell_type": "code",
      "source": [
        "num = 1\n",
        "Num = 100\n",
        "print(num)\n",
        "print(Num)"
      ],
      "metadata": {
        "colab": {
          "base_uri": "https://localhost:8080/"
        },
        "id": "vc97nRF-i01P",
        "outputId": "532da9a4-1031-40aa-d225-131e69bb4732"
      },
      "execution_count": 1,
      "outputs": [
        {
          "output_type": "stream",
          "name": "stdout",
          "text": [
            "1\n",
            "100\n"
          ]
        }
      ]
    },
    {
      "cell_type": "markdown",
      "source": [
        "### 상수\n",
        "- 한번 지정 후 , 변하지 않은 고정값"
      ],
      "metadata": {
        "id": "C0ib-iahllKS"
      }
    },
    {
      "cell_type": "code",
      "source": [
        "# 상수\n",
        "pi = 3.14"
      ],
      "metadata": {
        "id": "D-jocliOi-pt"
      },
      "execution_count": 5,
      "outputs": []
    },
    {
      "cell_type": "code",
      "source": [
        "# 실제 변수를 만들어보기\n",
        "num1 = input(\"숫자를 입력해주세요!!\")\n",
        "num2 = input(\"숫자를 입력해주세요!!\")\n",
        "\n",
        "print(num1, num2)"
      ],
      "metadata": {
        "colab": {
          "base_uri": "https://localhost:8080/"
        },
        "id": "Sa3tWq71lrtw",
        "outputId": "91d8f43b-48df-43ba-9512-1a6f887236a3"
      },
      "execution_count": 1,
      "outputs": [
        {
          "output_type": "stream",
          "name": "stdout",
          "text": [
            "숫자를 입력해주세요!!6\n",
            "숫자를 입력해주세요!!10\n",
            "6 10\n"
          ]
        }
      ]
    }
  ]
}